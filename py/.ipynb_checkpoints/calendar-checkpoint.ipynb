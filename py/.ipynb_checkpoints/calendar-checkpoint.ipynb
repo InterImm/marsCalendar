{
 "cells": [
  {
   "cell_type": "markdown",
   "metadata": {},
   "source": [
    "这是一个用来说明火星历法和地球历法换算方法的文档。\n",
    "\n",
    "火星历法的说明：[火星历法@星际移民之书](http://interimm.org/InterImmBook/navigator/mars.html#marscalendar)\n",
    "\n",
    "火星和地球之间，一个非常最要的联系是地球上 UTC 时间的 2000 年 01 月 06 日，这一天的午夜正好是火星上零度经线的午夜。因此，一个比较好的算法是，以这一天为基准。\n",
    "\n",
    "最终要达成的目的是，给定一个地球上的 UTC 日期和时间，我们能够换算到火星的零度经线的日期和时间。"
   ]
  },
  {
   "cell_type": "markdown",
   "metadata": {},
   "source": [
    "## Prep"
   ]
  },
  {
   "cell_type": "code",
   "execution_count": 91,
   "metadata": {
    "collapsed": false
   },
   "outputs": [],
   "source": [
    "import math\n",
    "import datetime ## to deal with dates\n",
    "from IPython.display import Image"
   ]
  },
  {
   "cell_type": "markdown",
   "metadata": {},
   "source": [
    "## 火星历法"
   ]
  },
  {
   "cell_type": "markdown",
   "metadata": {},
   "source": [
    "### 火星闰年"
   ]
  },
  {
   "cell_type": "markdown",
   "metadata": {},
   "source": [
    "火星的历法采用 Darian Calendar，这种历法中，年分为平年和闰年，其中平年 668 天，闰年 669 天。计算闰年的方法为"
   ]
  },
  {
   "cell_type": "code",
   "execution_count": 92,
   "metadata": {
    "collapsed": false
   },
   "outputs": [],
   "source": [
    "# will return True if a year is a leap year on Mars\n",
    "def is_leap_year_mars(year):\n",
    "    if year % 3000 == 0:\n",
    "        return False\n",
    "    elif year % 1000 == 0:\n",
    "        return True\n",
    "    elif year % 100 == 0:\n",
    "        return False\n",
    "    elif (year % 2 != 0) or (year % 10 == 0):\n",
    "        return True\n",
    "    else:\n",
    "        return False"
   ]
  },
  {
   "cell_type": "markdown",
   "metadata": {},
   "source": [
    "所以，一年的总天数，我们可以这样表示"
   ]
  },
  {
   "cell_type": "code",
   "execution_count": 93,
   "metadata": {
    "collapsed": false
   },
   "outputs": [],
   "source": [
    "def total_days(year):\n",
    "    return 668 + is_leap_year_mars(year)"
   ]
  },
  {
   "cell_type": "markdown",
   "metadata": {},
   "source": [
    "测试一下这两个函数。"
   ]
  },
  {
   "cell_type": "code",
   "execution_count": 94,
   "metadata": {
    "collapsed": false
   },
   "outputs": [
    {
     "name": "stdout",
     "output_type": "stream",
     "text": [
      "669\n",
      "669\n"
     ]
    }
   ],
   "source": [
    "print total_days(10)\n",
    "print total_days(11)"
   ]
  },
  {
   "cell_type": "raw",
   "metadata": {},
   "source": [
    "任意某年某月的天数，用以下函数进行计算:"
   ]
  },
  {
   "cell_type": "code",
   "execution_count": 95,
   "metadata": {
    "collapsed": false
   },
   "outputs": [],
   "source": [
    "def month_total_days(year,month):\n",
    "    if is_leap_year_mars(year):\n",
    "        if month == 24:\n",
    "            return 28\n",
    "        else:\n",
    "            return 27 + ((month)%6!=0)\n",
    "    if not is_leap_year_mars(year):\n",
    "        return 27 + ((month)%6!=0)"
   ]
  },
  {
   "cell_type": "code",
   "execution_count": 96,
   "metadata": {
    "collapsed": false
   },
   "outputs": [
    {
     "name": "stdout",
     "output_type": "stream",
     "text": [
      "28\n"
     ]
    }
   ],
   "source": [
    "print month_total_days(1,24)"
   ]
  },
  {
   "cell_type": "markdown",
   "metadata": {},
   "source": [
    "### 火星月日的计算"
   ]
  },
  {
   "cell_type": "markdown",
   "metadata": {},
   "source": [
    "火星上一年共分为 24 个月，6 个月一组分为四组，每组的前五个月是 28 天，第六个月是 27 天，但是倘若当年是闰年，则第 24 个月包含 28 天。因此如果给定一个小于当年年份总天数的天数，我们可以计算对应的是当年的哪个日期。"
   ]
  },
  {
   "cell_type": "code",
   "execution_count": 97,
   "metadata": {
    "collapsed": false
   },
   "outputs": [],
   "source": [
    "# returns the month and date given a number of dates.\n",
    "# calendar_date(a number of days, which year we are calculating)\n",
    "def calendar_date(days, year):\n",
    "    if days > total_days(year):\n",
    "        return \"Error! Given number of days are more than the overall possible days of the year.\"\n",
    "    else:\n",
    "        for month in range(24):\n",
    "            month = month + 1.0\n",
    "            if month == 24:                                       # the last month is special because it might change with year\n",
    "                return tuple([int(month),int(days)])                      # using tuple to avoid modification\n",
    "            elif ((month) < 24) & ( (days) < (27 + 1 + (month%6!=0))):   # the condition for days makes sure that days is never larger than days in that month\n",
    "                return tuple([int(month),int(days)])\n",
    "                break\n",
    "            elif ((month) < 24) & ((days) > (27 + (month%6!=0))):\n",
    "                days = days - 27 - ((month)%6!=0)\n",
    "                continue\n",
    "            else:\n",
    "                return \"Unhandled in calendar_date(days, year) function! (inner for loop) \"\n",
    "                break"
   ]
  },
  {
   "cell_type": "markdown",
   "metadata": {},
   "source": [
    "测试此函数"
   ]
  },
  {
   "cell_type": "code",
   "execution_count": 98,
   "metadata": {
    "collapsed": false
   },
   "outputs": [
    {
     "name": "stdout",
     "output_type": "stream",
     "text": [
      "the 669th day of the tenth year is (month:24, day:28)\n",
      "the 669th day of year one is (month:24, day:28)\n",
      "the 1000th day of year one is (month:E, day:r)\n",
      "the 30th day of year one is (month:2, day:2)\n"
     ]
    }
   ],
   "source": [
    "print \"the 669th day of the tenth year is (month:{}, day:{})\".format(calendar_date(669,10)[0],calendar_date(669,10)[1])\n",
    "print \"the 669th day of year one is (month:{}, day:{})\".format(calendar_date(669,1)[0],calendar_date(669,1)[1]) # should return error message\n",
    "print \"the 1000th day of year one is (month:{}, day:{})\".format(calendar_date(1000,1)[0],calendar_date(1000,1)[1]) # should return error message\n",
    "print \"the 30th day of year one is (month:{}, day:{})\".format(calendar_date(30,1)[0],calendar_date(30,1)[1])"
   ]
  },
  {
   "cell_type": "code",
   "execution_count": 99,
   "metadata": {
    "collapsed": false
   },
   "outputs": [
    {
     "data": {
      "text/plain": [
       "(1, 1)"
      ]
     },
     "execution_count": 99,
     "metadata": {},
     "output_type": "execute_result"
    }
   ],
   "source": [
    "calendar_date(1,1)"
   ]
  },
  {
   "cell_type": "markdown",
   "metadata": {},
   "source": [
    "可以看到函数正确的返回了月日以及错误信息。"
   ]
  },
  {
   "cell_type": "markdown",
   "metadata": {},
   "source": [
    "### 火星日"
   ]
  },
  {
   "cell_type": "markdown",
   "metadata": {},
   "source": [
    "火星上的一天，或者说称为一个火星太阳日，共有 24 小时 39 分钟 35.244 秒，共计 88775.2 秒，但是历法中为了大家使用方便，仅仅使用 88775 秒。火星日和地球上 24 小时的比值是 1.02748842593 . 因此我们可以定义一个常数，即用来转换地球日和火星日的常数："
   ]
  },
  {
   "cell_type": "code",
   "execution_count": 100,
   "metadata": {
    "collapsed": false
   },
   "outputs": [
    {
     "name": "stdout",
     "output_type": "stream",
     "text": [
      "1.02748842593\n"
     ]
    }
   ],
   "source": [
    "m2e = 88775.0/86400  # the ratio of mars sol day and earth 24-hour day or we can use 1.027491252\n",
    "print m2e"
   ]
  },
  {
   "cell_type": "markdown",
   "metadata": {},
   "source": [
    "### 火星元年与校准日期"
   ]
  },
  {
   "cell_type": "markdown",
   "metadata": {},
   "source": [
    "火星元年的开始对应于地球的 1970 年 4 月 28 日，而**校准日期**为地球 UTC 时间的 2000 年 01 月 06 日午夜，也就是最后可以被称作 6 日的那个时间点，此时火星的零度经线也正好对应某个火星日的午夜。"
   ]
  },
  {
   "cell_type": "markdown",
   "metadata": {},
   "source": [
    "通过计算得知，在地球上 1970 年 04 月 28 日和 2000 年 01 月 06 日之间共有 10846 个地球日，考虑到我们的计算的校准时间是在 6 日深夜，所以这个计算中包含了 6 日当天。转换成火星日："
   ]
  },
  {
   "cell_type": "code",
   "execution_count": 101,
   "metadata": {
    "collapsed": false
   },
   "outputs": [
    {
     "name": "stdout",
     "output_type": "stream",
     "text": [
      "10555.0\n"
     ]
    }
   ],
   "source": [
    "mars_sol_day_coor = math.floor(10846/m2e)\n",
    "print mars_sol_day_coor"
   ]
  },
  {
   "cell_type": "markdown",
   "metadata": {},
   "source": [
    "注意到 floor() 里面的除法不能整除，是因为火星元年并非是从 1970 年 04 月 28 日的 0 点开始的，所以我们这里扔掉后面的小数位。"
   ]
  },
  {
   "cell_type": "markdown",
   "metadata": {},
   "source": [
    "我们需要计算的是，校准日期对应的是火星历法中的哪个日期。现在我们已经知道了 mars_sol_day_coor 给出了元年开始和校准日期之间的火星日的数目。而这个数目恰好是 15 年多余 534 火星日。（第 16 年并非闰年。）然后我们可以通过之前的计算日期的函数得出 534 火星日对应的是火星纪年第 16 年的什么日期。"
   ]
  },
  {
   "cell_type": "code",
   "execution_count": 102,
   "metadata": {
    "collapsed": false
   },
   "outputs": [
    {
     "data": {
      "text/plain": [
       "(20, 5)"
      ]
     },
     "execution_count": 102,
     "metadata": {},
     "output_type": "execute_result"
    }
   ],
   "source": [
    "calendar_date(534,16)"
   ]
  },
  {
   "cell_type": "markdown",
   "metadata": {},
   "source": [
    "也就是说，是火星历法中的第 20 个月的 5 日，即小寒月 5 日。"
   ]
  },
  {
   "cell_type": "markdown",
   "metadata": {},
   "source": [
    "这样我们也可以得知火星元年对应的地球历的日期和时间。上面我们的计算中，我们得知"
   ]
  },
  {
   "cell_type": "code",
   "execution_count": 103,
   "metadata": {
    "collapsed": false
   },
   "outputs": [
    {
     "data": {
      "text/html": [
       "<img src=\"https://raw.githubusercontent.com/InterImm/marsCalendar/master/py/assets/timeCalibration.png\"/>"
      ],
      "text/plain": [
       "<IPython.core.display.Image at 0x104fca5d0>"
      ]
     },
     "execution_count": 103,
     "metadata": {},
     "output_type": "execute_result"
    }
   ],
   "source": [
    "Image(url=\"https://raw.githubusercontent.com/InterImm/marsCalendar/master/py/assets/timeCalibration.png\")"
   ]
  },
  {
   "cell_type": "markdown",
   "metadata": {},
   "source": [
    "由于我们的计算中，只考虑了 mars_sol_day_coor = 10555.0 个火星日，所以我们现在换算回地球日，并且从地球日历的 2000-01-06 （包含）反推回地球日历中所对应的日期和时间。\n",
    "这些火星日对应的地球日的数目"
   ]
  },
  {
   "cell_type": "code",
   "execution_count": 104,
   "metadata": {
    "collapsed": false
   },
   "outputs": [
    {
     "name": "stdout",
     "output_type": "stream",
     "text": [
      "10845.1403356\n"
     ]
    }
   ],
   "source": [
    "earth_day_coor = mars_sol_day_coor * m2e\n",
    "print earth_day_coor"
   ]
  },
  {
   "cell_type": "markdown",
   "metadata": {},
   "source": [
    "简单的数学可以得知元年对应的地球日历是\n",
    "\n",
    "1970 年 04 月 28 日，21:17:30   ## 第一版的计算结果是 1970.0,4.0,28.0,20.0 + 38.0/60 + 55.0/3600 为了与后面 2000 - 01 - 06 午夜的协调，放弃此版本。"
   ]
  },
  {
   "cell_type": "markdown",
   "metadata": {},
   "source": [
    "## 历法换算"
   ]
  },
  {
   "cell_type": "markdown",
   "metadata": {},
   "source": [
    "历法换算有一个比较重要的转折点，就是 2012 年 07 月 01 日，因为这一天增加了 35 + 32.184 秒的闰秒。因此程序计算需要一个判断给定的地球历法是否大于此日期的函数。\n",
    "\n",
    "为了换算方便，我们把所有给定的日期都换算成 Julian Date. "
   ]
  },
  {
   "cell_type": "code",
   "execution_count": 105,
   "metadata": {
    "collapsed": false
   },
   "outputs": [],
   "source": [
    "def julian_days(cdate):     # Input is calendar date with the list format [year like 2014, month like 07, day like 24, hours like 12, min]\n",
    "    y = cdate[0]\n",
    "    m = cdate[1]\n",
    "    d = cdate[2]\n",
    "    h = cdate[3] + cdate[4]/60.0\n",
    "    \n",
    "    return 367.0 * y - math.floor(7.0 * ( y * 1.0 + math.floor( ( m*1.0 + 9.0 )/12.0 ) )/4.0 ) - math.floor(3.0*(math.floor( (y*1.0 + (m*1.0 - 9.0)/7.0 )/100.0 ) + 1.0 )/4.0 ) + math.floor( 275.0 * m / 9.0 ) + d*1.0 + 1721028.5 + h / 24.0                  ## Using an equation from http://scienceworld.wolfram.com/astronomy/JulianDate.html       "
   ]
  },
  {
   "cell_type": "markdown",
   "metadata": {},
   "source": [
    "作为测试，我们知道 UNIX 系统里面使用的，1970-01-01，00:00:00 的时刻对应的时间是 2 440 587.5 个 julian days，用我们这个函数给出来的结果呢？"
   ]
  },
  {
   "cell_type": "code",
   "execution_count": 106,
   "metadata": {
    "collapsed": false
   },
   "outputs": [
    {
     "data": {
      "text/plain": [
       "2440587.5"
      ]
     },
     "execution_count": 106,
     "metadata": {},
     "output_type": "execute_result"
    }
   ],
   "source": [
    "julian_days([1970,1,1,0,0])"
   ]
  },
  {
   "cell_type": "markdown",
   "metadata": {},
   "source": [
    "与已知结果是一致的。需要强调的是，这个计算在使用的时候，需要先把分钟和秒换算成小数点的小时数目。\n",
    "\n",
    "因此在需要计算日期之间的天数差的话，只需要使用此函数转换成 julian days，然后计算差值即可。一个比较方便的换算是，计算出火星元年对应的 julian days，然后以后的换算就通过将地球历跟火星元年的地球的天数，然后换算成火星日的数目，然后利用上面计算火星历的方法，获得火星上的日期。"
   ]
  },
  {
   "cell_type": "markdown",
   "metadata": {},
   "source": [
    "火星元年（1970 年 04 月 28 日，20:38:55）对应的地球历法中的 julian days 是"
   ]
  },
  {
   "cell_type": "code",
   "execution_count": 107,
   "metadata": {
    "collapsed": false
   },
   "outputs": [
    {
     "name": "stdout",
     "output_type": "stream",
     "text": [
      "2440705.38715\n"
     ]
    }
   ],
   "source": [
    "julian_coor_earth = julian_days([1970.0,4.0,28.0,21.0,17.0 + 30.0/60])  # 1970.0,4.0,28.0,20.0 + 38.0/60 + 55.0/3600\n",
    "print julian_coor_earth"
   ]
  },
  {
   "cell_type": "markdown",
   "metadata": {},
   "source": [
    "因此我们可以定义这样一个函数，来计算地球日的数目"
   ]
  },
  {
   "cell_type": "code",
   "execution_count": 108,
   "metadata": {
    "collapsed": false
   },
   "outputs": [],
   "source": [
    "def julian_diff(datelist):\n",
    "    return julian_days(datelist) - julian_coor_earth"
   ]
  },
  {
   "cell_type": "code",
   "execution_count": 109,
   "metadata": {
    "collapsed": false
   },
   "outputs": [
    {
     "data": {
      "text/plain": [
       "-0.000347222201526165"
      ]
     },
     "execution_count": 109,
     "metadata": {},
     "output_type": "execute_result"
    }
   ],
   "source": [
    "julian_diff([1970.0,4.0,28.0,21,17])"
   ]
  },
  {
   "cell_type": "markdown",
   "metadata": {},
   "source": [
    "同样我们可以定义换算出火星日数目的函数"
   ]
  },
  {
   "cell_type": "code",
   "execution_count": 110,
   "metadata": {
    "collapsed": false
   },
   "outputs": [],
   "source": [
    "def mars_days_origin(datelist):\n",
    "    return math.floor(julian_diff(datelist)/m2e)"
   ]
  },
  {
   "cell_type": "markdown",
   "metadata": {},
   "source": [
    "测试此函数"
   ]
  },
  {
   "cell_type": "code",
   "execution_count": 111,
   "metadata": {
    "collapsed": false
   },
   "outputs": [
    {
     "data": {
      "text/plain": [
       "-1.0"
      ]
     },
     "execution_count": 111,
     "metadata": {},
     "output_type": "execute_result"
    }
   ],
   "source": [
    "mars_days_origin([1970.0,4.0,28.0,21,17])"
   ]
  },
  {
   "cell_type": "markdown",
   "metadata": {},
   "source": [
    "如果要计算当日的时间，需要用到被 floor 掉的小数部分。"
   ]
  },
  {
   "cell_type": "code",
   "execution_count": 112,
   "metadata": {
    "collapsed": false
   },
   "outputs": [],
   "source": [
    "def mars_days_origin_rem(datelist):\n",
    "    return julian_diff(datelist)/m2e - math.floor(julian_diff(datelist)/m2e)"
   ]
  },
  {
   "cell_type": "markdown",
   "metadata": {},
   "source": [
    "然后我们可以利用 calendar_date() 函数给出对应的火星历的日期。"
   ]
  },
  {
   "cell_type": "code",
   "execution_count": 113,
   "metadata": {
    "collapsed": false
   },
   "outputs": [],
   "source": [
    "def earth2mars_calendar(datelist):\n",
    "    year = 1\n",
    "    md = mars_days_origin(datelist)\n",
    "    while (md > (668.0 + is_leap_year_mars(year) ) ):\n",
    "        year = year + 1\n",
    "        md = md - 668 - is_leap_year_mars(year)\n",
    "    return [year,calendar_date(md+1,year-1)]"
   ]
  },
  {
   "cell_type": "code",
   "execution_count": 114,
   "metadata": {
    "collapsed": false
   },
   "outputs": [
    {
     "data": {
      "text/plain": [
       "[1, (1, 1)]"
      ]
     },
     "execution_count": 114,
     "metadata": {},
     "output_type": "execute_result"
    }
   ],
   "source": [
    "earth2mars_calendar([1970,4,29,20,0])"
   ]
  },
  {
   "cell_type": "code",
   "execution_count": 115,
   "metadata": {
    "collapsed": false
   },
   "outputs": [
    {
     "data": {
      "text/plain": [
       "[1, (13, 24)]"
      ]
     },
     "execution_count": 115,
     "metadata": {},
     "output_type": "execute_result"
    }
   ],
   "source": [
    "earth2mars_calendar([1971,4,30,23,23])"
   ]
  },
  {
   "cell_type": "markdown",
   "metadata": {},
   "source": [
    "那么这个函数给出的地球上 2000 年 01 月 06 日午夜必须是火星历的 0016 年小寒月 05 日。下面是测试"
   ]
  },
  {
   "cell_type": "code",
   "execution_count": 116,
   "metadata": {
    "collapsed": false
   },
   "outputs": [
    {
     "data": {
      "text/plain": [
       "[16, (19, 25)]"
      ]
     },
     "execution_count": 116,
     "metadata": {},
     "output_type": "execute_result"
    }
   ],
   "source": [
    "earth2mars_calendar([2000,1,6,0,0])"
   ]
  },
  {
   "cell_type": "markdown",
   "metadata": {},
   "source": [
    "### 火星时刻"
   ]
  },
  {
   "cell_type": "markdown",
   "metadata": {},
   "source": [
    "火星上采用的计时方法是 24 小时外加附加时间。火星上一个太阳日是  24 hours, 39 minutes, and 35.244 seconds，其中的 39'35.244'' 被归为附加时间。\n",
    "\n",
    "将小数点的时间换算为时刻需要得知一天共有多少秒："
   ]
  },
  {
   "cell_type": "code",
   "execution_count": 117,
   "metadata": {
    "collapsed": false
   },
   "outputs": [
    {
     "data": {
      "text/plain": [
       "88775.244"
      ]
     },
     "execution_count": 117,
     "metadata": {},
     "output_type": "execute_result"
    }
   ],
   "source": [
    "24 * 3600 + 39 * 60 + 35.244"
   ]
  },
  {
   "cell_type": "code",
   "execution_count": 118,
   "metadata": {
    "collapsed": false
   },
   "outputs": [],
   "source": [
    "def mday2time(remainder):                         # input a number smaller than 1.\n",
    "    if remainder > 1:\n",
    "        return \"Input should a fraction of a martian day, i.e., a number smaller than 1.\"\n",
    "    else:\n",
    "        total_sec = 24.0 * 3600 + 39.0 * 60 + 35.244  # total seconds in a martian day\n",
    "        seconds = remainder * total_sec                   # total seconds of the given input\n",
    "        hour = int(math.floor(seconds / 3600.0))               # hour\n",
    "        min = int(math.floor( (seconds - 3600.0 * hour)/60 ) )  # min\n",
    "        sec = int(seconds - hour * 3600.0 - min * 60.0)\n",
    "        \n",
    "        return [hour, min, sec]"
   ]
  },
  {
   "cell_type": "code",
   "execution_count": 119,
   "metadata": {
    "collapsed": false
   },
   "outputs": [
    {
     "data": {
      "text/plain": [
       "[7, 23, 52]"
      ]
     },
     "execution_count": 119,
     "metadata": {},
     "output_type": "execute_result"
    }
   ],
   "source": [
    "mday2time(0.3)"
   ]
  },
  {
   "cell_type": "markdown",
   "metadata": {},
   "source": [
    "利用 mars_days_origin_rem() 函数可以计算地球 UTC 日期对应的火星零度经线当天的火星时间。"
   ]
  },
  {
   "cell_type": "code",
   "execution_count": 120,
   "metadata": {
    "collapsed": false
   },
   "outputs": [],
   "source": [
    "def earth2mars_calendar_time(datelist):\n",
    "    return mday2time(mars_days_origin_rem(datelist))"
   ]
  },
  {
   "cell_type": "code",
   "execution_count": 121,
   "metadata": {
    "collapsed": false
   },
   "outputs": [
    {
     "data": {
      "text/plain": [
       "[7, 10, 15]"
      ]
     },
     "execution_count": 121,
     "metadata": {},
     "output_type": "execute_result"
    }
   ],
   "source": [
    "earth2mars_calendar_time([1971,4,30,23,59])"
   ]
  },
  {
   "cell_type": "code",
   "execution_count": 122,
   "metadata": {
    "collapsed": false
   },
   "outputs": [
    {
     "data": {
      "text/plain": [
       "[24, 39, 35]"
      ]
     },
     "execution_count": 122,
     "metadata": {},
     "output_type": "execute_result"
    }
   ],
   "source": [
    "earth2mars_calendar_time([2000,1,6,0,0])"
   ]
  },
  {
   "cell_type": "code",
   "execution_count": 123,
   "metadata": {
    "collapsed": false
   },
   "outputs": [
    {
     "data": {
      "text/plain": [
       "0.9999999997999112"
      ]
     },
     "execution_count": 123,
     "metadata": {},
     "output_type": "execute_result"
    }
   ],
   "source": [
    "mars_days_origin_rem([2000,1,6,0,0])"
   ]
  },
  {
   "cell_type": "code",
   "execution_count": 124,
   "metadata": {
    "collapsed": false
   },
   "outputs": [
    {
     "data": {
      "text/plain": [
       "10555.836665727966"
      ]
     },
     "execution_count": 124,
     "metadata": {},
     "output_type": "execute_result"
    }
   ],
   "source": [
    "10846/m2e"
   ]
  },
  {
   "cell_type": "code",
   "execution_count": 125,
   "metadata": {
    "collapsed": false
   },
   "outputs": [
    {
     "data": {
      "text/plain": [
       "[24, 17, 5]"
      ]
     },
     "execution_count": 125,
     "metadata": {},
     "output_type": "execute_result"
    }
   ],
   "source": [
    "earth2mars_calendar_time([1970.0,4.0,28.0,20,55])"
   ]
  },
  {
   "cell_type": "code",
   "execution_count": 126,
   "metadata": {
    "collapsed": false
   },
   "outputs": [],
   "source": [
    "month_name = ('春分','清明','谷雨','立夏','小满','芒种','夏至','小暑','大暑','立秋','处暑','白露','秋分','寒露','霜降','立冬','小雪','大雪','冬至','小寒','大寒','立春','雨水','惊蛰')\n",
    "week_name = ('六','日','一','二','三','四','五')\n",
    "def chinese_character(mars_calendar,mars_time):\n",
    "    calendar_str = \"火历\"+str(mars_calendar[0])+\"年 \"+str(month_name[mars_calendar[1][0]-1])+\"月\"+str(int(mars_calendar[1][1]))+\"日\"+\"星期\"+str(week_name[int(mars_calendar[1][1])%7])\n",
    "    if mars_time[0] < 24.0:\n",
    "        if mars_time[2] < 10:\n",
    "            return calendar_str+\" \"+str(int(mars_time[0]))+\":\"+str(int(mars_time[1]))+\":0\"+str(int(mars_time[2]))\n",
    "        else:\n",
    "            return calendar_str+\" \"+str(int(mars_time[0]))+\":\"+str(int(mars_time[1]))+\":\"+str(int(mars_time[2]))\n",
    "    else:\n",
    "        if mars_time[2] < 10:\n",
    "            return calendar_str+\" +\"+str(int(mars_time[1]))+\":0\"+str(int(mars_time[2]))\n",
    "        else:\n",
    "            return calendar_str+\" +\"+str(int(mars_time[1]))+\":\"+str(int(mars_time[2]))"
   ]
  },
  {
   "cell_type": "code",
   "execution_count": 127,
   "metadata": {
    "collapsed": false
   },
   "outputs": [
    {
     "name": "stdout",
     "output_type": "stream",
     "text": [
      "火历16年 小寒月4日星期三 +17:05\n"
     ]
    }
   ],
   "source": [
    "print chinese_character([16, (20, 4.0)],[24.0, 17.0, 5.240289495923207])"
   ]
  },
  {
   "cell_type": "code",
   "execution_count": 128,
   "metadata": {
    "collapsed": false
   },
   "outputs": [
    {
     "name": "stdout",
     "output_type": "stream",
     "text": [
      "火历1年 春分月1日星期日 7:10:15\n"
     ]
    }
   ],
   "source": [
    "print chinese_character([1, (1, 1.0)],[7.0, 10.0, 15.070938780310826])"
   ]
  },
  {
   "cell_type": "code",
   "execution_count": 129,
   "metadata": {
    "collapsed": false
   },
   "outputs": [
    {
     "name": "stdout",
     "output_type": "stream",
     "text": [
      "火历24年 立冬月10日星期二 16:19:30\n"
     ]
    }
   ],
   "source": [
    "print chinese_character(earth2mars_calendar([2014,10,13,23,52]),earth2mars_calendar_time([2014,10,13,23,52]))"
   ]
  },
  {
   "cell_type": "markdown",
   "metadata": {},
   "source": [
    "## 测试地球历法到火星历法的换算"
   ]
  },
  {
   "cell_type": "markdown",
   "metadata": {},
   "source": [
    "测试时刻的输出。"
   ]
  },
  {
   "cell_type": "code",
   "execution_count": 130,
   "metadata": {
    "collapsed": false
   },
   "outputs": [
    {
     "data": {
      "text/plain": [
       "[24, 39, 35]"
      ]
     },
     "execution_count": 130,
     "metadata": {},
     "output_type": "execute_result"
    }
   ],
   "source": [
    "earth2mars_calendar_time([2000,1,6,0,0])"
   ]
  },
  {
   "cell_type": "code",
   "execution_count": 131,
   "metadata": {
    "collapsed": false
   },
   "outputs": [
    {
     "data": {
      "text/plain": [
       "[13, 28, 30]"
      ]
     },
     "execution_count": 131,
     "metadata": {},
     "output_type": "execute_result"
    }
   ],
   "source": [
    "earth2mars_calendar_time([2014,10,13,21,1])"
   ]
  },
  {
   "cell_type": "markdown",
   "metadata": {},
   "source": [
    "由 Mars24 给出的 AMT 是 12:46，换算成我们的计时方法是"
   ]
  },
  {
   "cell_type": "code",
   "execution_count": 132,
   "metadata": {
    "collapsed": false
   },
   "outputs": [
    {
     "name": "stdout",
     "output_type": "stream",
     "text": [
      "13.1176022377h=13:7\n"
     ]
    }
   ],
   "source": [
    "test11 = (12.0 + 46.0/60)/24 * (24.0*m2e)\n",
    "print str(test11) + \"h\" + \"=\" + str(int(math.floor(test11))) + \":\" + str(int((test11 - math.floor(test11))*60))"
   ]
  },
  {
   "cell_type": "markdown",
   "metadata": {},
   "source": [
    "这样看来相差了大约 21 分钟的时间。"
   ]
  },
  {
   "cell_type": "code",
   "execution_count": 133,
   "metadata": {
    "collapsed": false
   },
   "outputs": [
    {
     "data": {
      "text/plain": [
       "[17, 20, 0]"
      ]
     },
     "execution_count": 133,
     "metadata": {},
     "output_type": "execute_result"
    }
   ],
   "source": [
    "earth2mars_calendar_time([2020,1,1,0,0])"
   ]
  },
  {
   "cell_type": "code",
   "execution_count": 134,
   "metadata": {
    "collapsed": false
   },
   "outputs": [
    {
     "name": "stdout",
     "output_type": "stream",
     "text": [
      "16.8336853781h=16:50\n"
     ]
    }
   ],
   "source": [
    "test12 = (16.0 + 23.0/60) * m2e\n",
    "print str(test12) + \"h\" + \"=\" + str(int(math.floor(test12))) + \":\" + str(int((test12 - math.floor(test12))*60))"
   ]
  },
  {
   "cell_type": "markdown",
   "metadata": {},
   "source": [
    "为了测试方便，定义一个 Mars24 的 24 小时计时方法与我中心的计时方法的换算的函数。"
   ]
  },
  {
   "cell_type": "code",
   "execution_count": 135,
   "metadata": {
    "collapsed": false
   },
   "outputs": [],
   "source": [
    "def mars242iic(hour):\n",
    "    print str(hour) + \"h\" + \"=\" + str(int(math.floor(hour))) + \":\" + str(int((hour - math.floor(hour))*60))"
   ]
  },
  {
   "cell_type": "code",
   "execution_count": 136,
   "metadata": {
    "collapsed": false
   },
   "outputs": [
    {
     "name": "stdout",
     "output_type": "stream",
     "text": [
      "16.8336853781h=16:50\n"
     ]
    }
   ],
   "source": [
    "mars242iic(test12)"
   ]
  },
  {
   "cell_type": "markdown",
   "metadata": {},
   "source": [
    "测试多个年份看看是不是“误差”随着时间推移增加。如果是的话，很可能是某个常数用的不对或者那个变量的精度有问题。"
   ]
  },
  {
   "cell_type": "markdown",
   "metadata": {},
   "source": [
    "2030 年 1 月 1 日"
   ]
  },
  {
   "cell_type": "code",
   "execution_count": 137,
   "metadata": {
    "collapsed": false
   },
   "outputs": [
    {
     "data": {
      "text/plain": [
       "[24, 1, 15]"
      ]
     },
     "execution_count": 137,
     "metadata": {},
     "output_type": "execute_result"
    }
   ],
   "source": [
    "earth2mars_calendar_time([2030,1,1,0,0])"
   ]
  },
  {
   "cell_type": "markdown",
   "metadata": {},
   "source": [
    "Mars24 给出的是 22:40"
   ]
  },
  {
   "cell_type": "code",
   "execution_count": 138,
   "metadata": {
    "collapsed": false
   },
   "outputs": [
    {
     "name": "stdout",
     "output_type": "stream",
     "text": [
      "23.2897376543h=23:17\n"
     ]
    }
   ],
   "source": [
    "mars242iic((22.0+40.0/60)*m2e)"
   ]
  },
  {
   "cell_type": "markdown",
   "metadata": {},
   "source": [
    "差距为"
   ]
  },
  {
   "cell_type": "code",
   "execution_count": 139,
   "metadata": {
    "collapsed": false
   },
   "outputs": [
    {
     "data": {
      "text/plain": [
       "0.7102623456790127"
      ]
     },
     "execution_count": 139,
     "metadata": {},
     "output_type": "execute_result"
    }
   ],
   "source": [
    "earth2mars_calendar_time([2030,1,1,0,0])[0] + earth2mars_calendar_time([2030,1,1,0,0])[1]/60 - (22.0+40.0/60)*m2e"
   ]
  },
  {
   "cell_type": "code",
   "execution_count": 140,
   "metadata": {
    "collapsed": false
   },
   "outputs": [],
   "source": [
    "def mars24_iic_diff(datelist,result):\n",
    "    print earth2mars_calendar_time(datelist)[0] + earth2mars_calendar_time(datelist)[1]/60 - (result[0]*1.0 + result[1]*1.0/60.0)*m2e"
   ]
  },
  {
   "cell_type": "code",
   "execution_count": 141,
   "metadata": {
    "collapsed": false
   },
   "outputs": [
    {
     "name": "stdout",
     "output_type": "stream",
     "text": [
      "0.166314621914\n"
     ]
    }
   ],
   "source": [
    "mars24_iic_diff([2020,1,1,0,0],[16,23])"
   ]
  },
  {
   "cell_type": "code",
   "execution_count": 142,
   "metadata": {
    "collapsed": false
   },
   "outputs": [
    {
     "name": "stdout",
     "output_type": "stream",
     "text": [
      "0.0459972993827\n"
     ]
    }
   ],
   "source": [
    "mars24_iic_diff([2021,1,1,0,0],[21,22])"
   ]
  },
  {
   "cell_type": "code",
   "execution_count": 143,
   "metadata": {
    "collapsed": false
   },
   "outputs": [
    {
     "name": "stdout",
     "output_type": "stream",
     "text": [
      "0.448403742284\n"
     ]
    }
   ],
   "source": [
    "mars24_iic_diff([2022,1,1,0,0],[2,29])"
   ]
  },
  {
   "cell_type": "code",
   "execution_count": 144,
   "metadata": {
    "collapsed": false
   },
   "outputs": [
    {
     "name": "stdout",
     "output_type": "stream",
     "text": [
      "0.334847608025\n"
     ]
    }
   ],
   "source": [
    "mars24_iic_diff([2023,1,1,0,0],[8,26])"
   ]
  },
  {
   "cell_type": "code",
   "execution_count": 145,
   "metadata": {
    "collapsed": false
   },
   "outputs": [
    {
     "name": "stdout",
     "output_type": "stream",
     "text": [
      "0.710262345679\n"
     ]
    }
   ],
   "source": [
    "mars24_iic_diff([2030,1,1,0,0],[22,40])"
   ]
  },
  {
   "cell_type": "code",
   "execution_count": 146,
   "metadata": {
    "collapsed": false
   },
   "outputs": [
    {
     "name": "stdout",
     "output_type": "stream",
     "text": [
      "0.263189621914\n"
     ]
    }
   ],
   "source": [
    "mars24_iic_diff([2040,1,1,0,0],[5,35])"
   ]
  },
  {
   "cell_type": "code",
   "execution_count": 147,
   "metadata": {
    "collapsed": false
   },
   "outputs": [
    {
     "name": "stdout",
     "output_type": "stream",
     "text": [
      "0.824262152778\n"
     ]
    }
   ],
   "source": [
    "mars24_iic_diff([2050,1,1,0,0],[11,51])"
   ]
  },
  {
   "cell_type": "markdown",
   "metadata": {},
   "source": [
    "这样看趋势似乎并不是一直增大，而是在不停的浮动。这样就怀疑是由于 Mars24 AMT 采用的当地的太阳日的时刻，而我们采用的是平均太阳日。如何验证呢？可以考虑一个火星年的周期来看看。\n",
    "2021 - 02 -07 到 2022 - 12 - 26 正好是一个火星年的周期。\n",
    "\n",
    "Aug 25 2021 -Jul 12 2023\n",
    "\n",
    "Feb 24 2022   Jan 12 2024\n",
    "\n",
    "Jul 21 2022   Jun 07 2024"
   ]
  },
  {
   "cell_type": "code",
   "execution_count": 148,
   "metadata": {
    "collapsed": false
   },
   "outputs": [
    {
     "name": "stdout",
     "output_type": "stream",
     "text": [
      "-0.19375\n",
      "0.190644290123\n"
     ]
    }
   ],
   "source": [
    "mars24_iic_diff([2021,2,7,0,0],[21,36])\n",
    "mars24_iic_diff([2022,12,26,0,0],[12,28])"
   ]
  },
  {
   "cell_type": "code",
   "execution_count": 149,
   "metadata": {
    "collapsed": false
   },
   "outputs": [
    {
     "name": "stdout",
     "output_type": "stream",
     "text": [
      "-0.196465084877\n",
      "0.537186535494\n"
     ]
    }
   ],
   "source": [
    "mars24_iic_diff([2021,8,25,0,0],[13,49])\n",
    "mars24_iic_diff([2023,7,12,0,0],[5,19])"
   ]
  },
  {
   "cell_type": "code",
   "execution_count": 150,
   "metadata": {
    "collapsed": false
   },
   "outputs": [
    {
     "name": "stdout",
     "output_type": "stream",
     "text": [
      "0.234813850309\n",
      "-0.363667052469\n"
     ]
    }
   ],
   "source": [
    "mars24_iic_diff([2022,2,24,0,0],[16,19])\n",
    "mars24_iic_diff([2024,1,12,0,0],[7,10])"
   ]
  },
  {
   "cell_type": "code",
   "execution_count": 151,
   "metadata": {
    "collapsed": false
   },
   "outputs": [
    {
     "name": "stdout",
     "output_type": "stream",
     "text": [
      "-0.409167631173\n",
      "-0.00764853395062\n"
     ]
    }
   ],
   "source": [
    "mars24_iic_diff([2022,7,21,0,0],[17,55])\n",
    "mars24_iic_diff([2024,6,7,0,0],[8,46])"
   ]
  },
  {
   "cell_type": "markdown",
   "metadata": {},
   "source": [
    "由此可见并非是因为太阳日的变化造成的。但是所有的浮动都在一个小时之内。"
   ]
  },
  {
   "cell_type": "markdown",
   "metadata": {},
   "source": [
    "## 从火星历法到地球历法"
   ]
  },
  {
   "cell_type": "markdown",
   "metadata": {},
   "source": [
    "从火星历转换回地球历法，思路是，先把火星历换算成地球历法中距离火星元年的 julian days，然后我们已知火星元年对应的 julian days 是由 julian_coor_earth 变量给出的，这样就可以计算火星历法中的某天某时刻对应的地球历法中的 julian days，最后由此计算地球历法的时间。"
   ]
  },
  {
   "cell_type": "markdown",
   "metadata": {},
   "source": [
    "下面 mars_date2days() 函数给出火星日的数目。"
   ]
  },
  {
   "cell_type": "code",
   "execution_count": 152,
   "metadata": {
    "collapsed": false
   },
   "outputs": [],
   "source": [
    "def mars_date2days(datelist):   # given a date, calculate the days since the first calendar day. [martian year, month in number, day, hour, min]\n",
    "    y = datelist[0]\n",
    "    m = datelist[1]\n",
    "    d = datelist[2]\n",
    "    h = datelist[3] * 1.0\n",
    "    min = datelist[4] * 1.0\n",
    "    \n",
    "    year = 1\n",
    "    days = 0\n",
    "    while year < y:\n",
    "        days = days + 668 + is_leap_year_mars(year)\n",
    "        year = year + 1\n",
    "        \n",
    "    month = 1\n",
    "    while month < m:\n",
    "        days = days + 27 + (month%6!=0)\n",
    "        month = month + 1\n",
    "        \n",
    "    days = days + d + ( h + min/60.0 )/(24*m2e)\n",
    "    \n",
    "    return days - 1"
   ]
  },
  {
   "cell_type": "code",
   "execution_count": 153,
   "metadata": {
    "collapsed": false
   },
   "outputs": [
    {
     "data": {
      "text/plain": [
       "0.0"
      ]
     },
     "execution_count": 153,
     "metadata": {},
     "output_type": "execute_result"
    }
   ],
   "source": [
    "mars_date2days([1,1,1,0,0])"
   ]
  },
  {
   "cell_type": "code",
   "execution_count": 154,
   "metadata": {
    "collapsed": false
   },
   "outputs": [
    {
     "data": {
      "text/plain": [
       "0.9996057448606026"
      ]
     },
     "execution_count": 154,
     "metadata": {},
     "output_type": "execute_result"
    }
   ],
   "source": [
    "mars_date2days([1,1,1,24,39])"
   ]
  },
  {
   "cell_type": "code",
   "execution_count": 155,
   "metadata": {
    "collapsed": false
   },
   "outputs": [
    {
     "data": {
      "text/plain": [
       "8023.999943677837"
      ]
     },
     "execution_count": 155,
     "metadata": {},
     "output_type": "execute_result"
    }
   ],
   "source": [
    "mars_date2days([12,24,28,24,39.5])"
   ]
  },
  {
   "cell_type": "markdown",
   "metadata": {},
   "source": [
    "火星日对应的 julian days 可以直接通过乘以 m2e 来换算。"
   ]
  },
  {
   "cell_type": "code",
   "execution_count": 156,
   "metadata": {
    "collapsed": false
   },
   "outputs": [
    {
     "data": {
      "text/plain": [
       "2440706.414236111"
      ]
     },
     "execution_count": 156,
     "metadata": {},
     "output_type": "execute_result"
    }
   ],
   "source": [
    "mars_date2days([1,1,1,24,39]) * m2e + julian_coor_earth"
   ]
  },
  {
   "cell_type": "markdown",
   "metadata": {},
   "source": [
    "获得了 julian day，下一步就只需要将这个对应的日期找出来就好了。"
   ]
  },
  {
   "cell_type": "markdown",
   "metadata": {},
   "source": [
    "我从 [这里](https://github.com/phn/jdcal/blob/master/jdcal.py) 找到了一个现成的函数，作者使用 BSD2 协议，正好我们可以直接拿来用或修改。"
   ]
  },
  {
   "cell_type": "code",
   "execution_count": 157,
   "metadata": {
    "collapsed": false
   },
   "outputs": [],
   "source": [
    "def ipart(x):\n",
    "    \"\"\"Return integer part of given number.\"\"\"\n",
    "    return math.modf(x)[1]\n",
    "\n",
    "def jd2gcal(jd1,jd2):\n",
    "    \"\"\"Julian date to Gregorian calendar date and time of day.\n",
    "\n",
    "    The input and output are for the proleptic Gregorian calendar,\n",
    "    i.e., no consideration of historical usage of the calendar is\n",
    "    made.\n",
    "\n",
    "    Parameters\n",
    "    ----------\n",
    "    jd1, jd2: int\n",
    "        Sum of the two numbers is taken as the given Julian date. For\n",
    "        example `jd1` can be the zero point of MJD (MJD_0) and `jd2`\n",
    "        can be the MJD of the date and time. But any combination will\n",
    "        work.\n",
    "\n",
    "    Returns\n",
    "    -------\n",
    "    y, m, d, f : int, int, int, float\n",
    "        Four element tuple containing year, month, day and the\n",
    "        fractional part of the day in the Gregorian calendar. The first\n",
    "        three are integers, and the last part is a float.\n",
    "\n",
    "    Examples\n",
    "    --------\n",
    "    >>> jd2gcal(*gcal2jd(2000,1,1))\n",
    "    (2000, 1, 1, 0.0)\n",
    "    >>> jd2gcal(*gcal2jd(1950,1,1))\n",
    "    (1950, 1, 1, 0.0)\n",
    "\n",
    "    Out of range months and days are carried over to the next/previous\n",
    "    year or next/previous month. See gcal2jd for more examples.\n",
    "\n",
    "    >>> jd2gcal(*gcal2jd(1999,10,12))\n",
    "    (1999, 10, 12, 0.0)\n",
    "    >>> jd2gcal(*gcal2jd(2000,2,30))\n",
    "    (2000, 3, 1, 0.0)\n",
    "    >>> jd2gcal(*gcal2jd(-1999,10,12))\n",
    "    (-1999, 10, 12, 0.0)\n",
    "    >>> jd2gcal(*gcal2jd(2000, -2, -4))\n",
    "    (1999, 9, 26, 0.0)\n",
    "\n",
    "    >>> gcal2jd(2000,1,1)\n",
    "    (2400000.5, 51544.0)\n",
    "    >>> jd2gcal(2400000.5, 51544.0)\n",
    "    (2000, 1, 1, 0.0)\n",
    "    >>> jd2gcal(2400000.5, 51544.5)\n",
    "    (2000, 1, 1, 0.5)\n",
    "    >>> jd2gcal(2400000.5, 51544.245)\n",
    "    (2000, 1, 1, 0.24500000000261934)\n",
    "    >>> jd2gcal(2400000.5, 51544.1)\n",
    "    (2000, 1, 1, 0.099999999998544808)\n",
    "    >>> jd2gcal(2400000.5, 51544.75)\n",
    "    (2000, 1, 1, 0.75)\n",
    "\n",
    "    Notes\n",
    "    -----\n",
    "    The last element of the tuple is the same as\n",
    "\n",
    "       (hh + mm / 60.0 + ss / 3600.0) / 24.0\n",
    "\n",
    "    where hh, mm, and ss are the hour, minute and second of the day.\n",
    "\n",
    "    See Also\n",
    "    --------\n",
    "    gcal2jd\n",
    "\n",
    "    \"\"\"\n",
    "    from math import modf\n",
    "\n",
    "    jd1_f, jd1_i = modf(jd1)\n",
    "    jd2_f, jd2_i = modf(jd2)\n",
    "\n",
    "    jd_i = jd1_i + jd2_i\n",
    "\n",
    "    f = jd1_f + jd2_f\n",
    "\n",
    "    # Set JD to noon of the current date. Fractional part is the\n",
    "    # fraction from midnight of the current date.\n",
    "    if -0.5 < f < 0.5:\n",
    "        f += 0.5\n",
    "    elif f >= 0.5:\n",
    "        jd_i += 1\n",
    "        f -= 0.5\n",
    "    elif f <= -0.5:\n",
    "        jd_i -= 1\n",
    "        f += 1.5\n",
    "\n",
    "    l = jd_i + 68569\n",
    "    n = ipart((4 * l) / 146097.0)\n",
    "    l -= ipart(((146097 * n) + 3) / 4.0)\n",
    "    i = ipart((4000 * (l + 1)) / 1461001)\n",
    "    l -= ipart((1461 * i) / 4.0) - 31\n",
    "    j = ipart((80 * l) / 2447.0)\n",
    "    day = l - ipart((2447 * j) / 80.0)\n",
    "    l = ipart(j / 11.0)\n",
    "    month = j + 2 - (12 * l)\n",
    "    year = 100 * (n - 49) + i + l\n",
    "\n",
    "    return int(year), int(month), int(day), f\n",
    "\n",
    "def julian_days2gcal(jd):        # jd is the julian day difference from julian_coor_earth\n",
    "    tmp = jd2gcal(julian_coor_earth,jd)\n",
    "    \n",
    "    return (tmp[0],tmp[1],tmp[2],math.floor(tmp[3]*24.0),math.floor((tmp[3]*24.0 - math.floor(tmp[3]*24.0))*60.0))"
   ]
  },
  {
   "cell_type": "markdown",
   "metadata": {},
   "source": [
    "测试一下这个函数"
   ]
  },
  {
   "cell_type": "code",
   "execution_count": 158,
   "metadata": {
    "collapsed": false
   },
   "outputs": [
    {
     "data": {
      "text/plain": [
       "(1970, 4, 28, 21.0, 17.0)"
      ]
     },
     "execution_count": 158,
     "metadata": {},
     "output_type": "execute_result"
    }
   ],
   "source": [
    "julian_days2gcal(0)"
   ]
  },
  {
   "cell_type": "markdown",
   "metadata": {},
   "source": [
    "这个结果正好是对应我们的火星元年开始时刻。"
   ]
  },
  {
   "cell_type": "markdown",
   "metadata": {},
   "source": [
    "下面我们定义火星历转为地球 G 历法的函数。"
   ]
  },
  {
   "cell_type": "code",
   "execution_count": 159,
   "metadata": {
    "collapsed": false
   },
   "outputs": [],
   "source": [
    "def mars2earth_calendar(datelist):  # given a mars calendar date list [year, month, day, hour, min], calculate the corresponding earth g calendar\n",
    "    \n",
    "    jd_diff = mars_date2days(datelist) * m2e   # julian days difference from the beginning of martian calendar: julian_coor_earth\n",
    "    \n",
    "    return julian_days2gcal(jd_diff)"
   ]
  },
  {
   "cell_type": "code",
   "execution_count": 160,
   "metadata": {
    "collapsed": false
   },
   "outputs": [
    {
     "data": {
      "text/plain": [
       "(1970, 4, 28, 21.0, 17.0)"
      ]
     },
     "execution_count": 160,
     "metadata": {},
     "output_type": "execute_result"
    }
   ],
   "source": [
    "mars2earth_calendar([1,1,1,0,0])"
   ]
  },
  {
   "cell_type": "markdown",
   "metadata": {},
   "source": [
    "## 时区划分"
   ]
  },
  {
   "cell_type": "markdown",
   "metadata": {},
   "source": [
    "火星上的时区，按1小时划分为24个时区，两个时区之间间隔15/m2e°，剩下的时区单独处理，共25个时区。\n"
   ]
  },
  {
   "cell_type": "code",
   "execution_count": 161,
   "metadata": {
    "collapsed": false
   },
   "outputs": [],
   "source": [
    "zoneDegree = 15/m2e\n",
    "def mars_time_zones(longitude):  # given a longitude on Mars, return the time zone\n",
    "    if not(0 <= longitude < 360):\n",
    "        return \"Wrong input(0 <= longitude < 360)\"\n",
    "    else:\n",
    "        n = longitude/zoneDegree\n",
    "        if math.floor(n) < 24:\n",
    "            return int(n)\n",
    "        else:\n",
    "            return 24"
   ]
  },
  {
   "cell_type": "code",
   "execution_count": 162,
   "metadata": {
    "collapsed": false
   },
   "outputs": [
    {
     "data": {
      "text/plain": [
       "24"
      ]
     },
     "execution_count": 162,
     "metadata": {},
     "output_type": "execute_result"
    }
   ],
   "source": [
    "mars_time_zones(351)"
   ]
  },
  {
   "cell_type": "markdown",
   "metadata": {},
   "source": [
    "为了以后画图方便，做出一个时区列表"
   ]
  },
  {
   "cell_type": "code",
   "execution_count": 163,
   "metadata": {
    "collapsed": false
   },
   "outputs": [],
   "source": [
    "time_zones_list = []\n",
    "for n in range(1,25):\n",
    "    time_zones_list += [15/m2e*n]"
   ]
  },
  {
   "cell_type": "code",
   "execution_count": 164,
   "metadata": {
    "collapsed": false
   },
   "outputs": [
    {
     "data": {
      "text/plain": [
       "[14.598704590256267,\n",
       " 29.197409180512533,\n",
       " 43.7961137707688,\n",
       " 58.39481836102507,\n",
       " 72.99352295128134,\n",
       " 87.5922275415376,\n",
       " 102.19093213179387,\n",
       " 116.78963672205013,\n",
       " 131.3883413123064,\n",
       " 145.98704590256267,\n",
       " 160.58575049281893,\n",
       " 175.1844550830752,\n",
       " 189.78315967333145,\n",
       " 204.38186426358774,\n",
       " 218.980568853844,\n",
       " 233.57927344410027,\n",
       " 248.17797803435653,\n",
       " 262.7766826246128,\n",
       " 277.3753872148691,\n",
       " 291.97409180512534,\n",
       " 306.5727963953816,\n",
       " 321.17150098563786,\n",
       " 335.7702055758941,\n",
       " 350.3689101661504]"
      ]
     },
     "execution_count": 164,
     "metadata": {},
     "output_type": "execute_result"
    }
   ],
   "source": [
    "time_zones_list"
   ]
  },
  {
   "cell_type": "markdown",
   "metadata": {},
   "source": [
    "最后一个地区的经度范围为："
   ]
  },
  {
   "cell_type": "code",
   "execution_count": 165,
   "metadata": {
    "collapsed": false
   },
   "outputs": [],
   "source": [
    "zoneDegree25 = 360 - time_zones_list[23]"
   ]
  },
  {
   "cell_type": "code",
   "execution_count": 166,
   "metadata": {
    "collapsed": false
   },
   "outputs": [
    {
     "name": "stdout",
     "output_type": "stream",
     "text": [
      "9.63108983385\n"
     ]
    }
   ],
   "source": [
    "print zoneDegree25"
   ]
  },
  {
   "cell_type": "markdown",
   "metadata": {},
   "source": [
    "再用一个函数来进行时间转换："
   ]
  },
  {
   "cell_type": "code",
   "execution_count": 167,
   "metadata": {
    "collapsed": false
   },
   "outputs": [],
   "source": [
    "def days2mars_date(days):\n",
    "    year = 1\n",
    "    month = 1\n",
    "    hour = 0\n",
    "    minute = 0\n",
    "    while days >= total_days(year):\n",
    "        days -= total_days(year)\n",
    "        year += 1\n",
    "    while days >= month_total_days(year,month):\n",
    "        days -= month_total_days(year,month)\n",
    "        month += 1\n",
    "    remainder = days - math.floor(days)\n",
    "    day = int(math.floor(days)) + 1\n",
    "    time = remainder * 86400 * m2e\n",
    "    while time >= 3600:\n",
    "        time -= 3600\n",
    "        hour += 1\n",
    "    while time >= 60:\n",
    "        time -=60\n",
    "        minute += 1\n",
    "    return [year,month,day,hour,minute]\n",
    "        "
   ]
  },
  {
   "cell_type": "code",
   "execution_count": 168,
   "metadata": {
    "collapsed": false
   },
   "outputs": [
    {
     "data": {
      "text/plain": [
       "7673.999605744861"
      ]
     },
     "execution_count": 168,
     "metadata": {},
     "output_type": "execute_result"
    }
   ],
   "source": [
    "mars_date2days([12,12,12,24,39])"
   ]
  },
  {
   "cell_type": "code",
   "execution_count": 169,
   "metadata": {
    "collapsed": false
   },
   "outputs": [
    {
     "data": {
      "text/plain": [
       "[12, 12, 12, 24, 39]"
      ]
     },
     "execution_count": 169,
     "metadata": {},
     "output_type": "execute_result"
    }
   ],
   "source": [
    "days2mars_date(7673.999605744861)"
   ]
  },
  {
   "cell_type": "code",
   "execution_count": 170,
   "metadata": {
    "collapsed": false
   },
   "outputs": [],
   "source": [
    "def mars_time_zones_convert(datelist,timezones):\n",
    "    time = mars_date2days(datelist)\n",
    "    time += timezones / (24.0 * m2e)\n",
    "    return days2mars_date(time)"
   ]
  },
  {
   "cell_type": "code",
   "execution_count": 171,
   "metadata": {
    "collapsed": false
   },
   "outputs": [
    {
     "data": {
      "text/plain": [
       "[12, 12, 13, 23, 59]"
      ]
     },
     "execution_count": 171,
     "metadata": {},
     "output_type": "execute_result"
    }
   ],
   "source": [
    "mars_time_zones_convert([12, 12, 12, 24, 39],24)"
   ]
  },
  {
   "cell_type": "code",
   "execution_count": 172,
   "metadata": {
    "collapsed": false
   },
   "outputs": [
    {
     "data": {
      "text/plain": [
       "[1, 1, 1, 0, 59]"
      ]
     },
     "execution_count": 172,
     "metadata": {},
     "output_type": "execute_result"
    }
   ],
   "source": [
    "mars_time_zones_convert([1, 1, 1, 0, 0],1)"
   ]
  },
  {
   "cell_type": "markdown",
   "metadata": {},
   "source": [
    "再定义一个简单的地球上的时区转换函数："
   ]
  },
  {
   "cell_type": "code",
   "execution_count": 173,
   "metadata": {
    "collapsed": false
   },
   "outputs": [],
   "source": [
    "def earth_time_zones_convert(datelist,timezones):\n",
    "    time = julian_days([datelist[0],datelist[1],datelist[2],datelist[3],datelist[4]])\n",
    "    time -= timezones / 24.0\n",
    "    timelist = jd2gcal(2400000.5,time - 2400000.5)\n",
    "    hour = math.floor(timelist[3]*24)\n",
    "    minute = round((timelist[3]*24 - hour)*60)\n",
    "\n",
    "    return [timelist[0],timelist[1],timelist[2],int(hour),int(minute)]"
   ]
  },
  {
   "cell_type": "code",
   "execution_count": 174,
   "metadata": {
    "collapsed": false
   },
   "outputs": [
    {
     "data": {
      "text/plain": [
       "[1969, 12, 31, 20, 35]"
      ]
     },
     "execution_count": 174,
     "metadata": {},
     "output_type": "execute_result"
    }
   ],
   "source": [
    "earth_time_zones_convert([1970,1,1,5,5],+8.5)"
   ]
  },
  {
   "cell_type": "markdown",
   "metadata": {},
   "source": [
    "最后定义地球上任意时区的时间，转换到火星上任意时区的时间的函数："
   ]
  },
  {
   "cell_type": "code",
   "execution_count": 175,
   "metadata": {
    "collapsed": false
   },
   "outputs": [],
   "source": [
    "def earth2mars_timezones(datelist,earthTimezones,marsTimezones):\n",
    "    Earthdate = earth_time_zones_convert(datelist,earthTimezones)\n",
    "    calendar = earth2mars_calendar(Earthdate)\n",
    "    time = earth2mars_calendar_time(Earthdate)\n",
    "    Marsdate = [calendar[0],calendar[1][0],calendar[1][1],time[0],time[1]]\n",
    "    return mars_time_zones_convert(Marsdate,marsTimezones)"
   ]
  },
  {
   "cell_type": "code",
   "execution_count": 176,
   "metadata": {
    "collapsed": false
   },
   "outputs": [
    {
     "name": "stdout",
     "output_type": "stream",
     "text": [
      "火历24年 立冬月13日星期五 14:18:45\n"
     ]
    }
   ],
   "source": [
    "print chinese_character(earth2mars_calendar([2014,10,16,23,50]),earth2mars_calendar_time([2014,10,16,23,50]))"
   ]
  },
  {
   "cell_type": "code",
   "execution_count": 177,
   "metadata": {
    "collapsed": false
   },
   "outputs": [
    {
     "data": {
      "text/plain": [
       "[24, 16, 13, 14, 18]"
      ]
     },
     "execution_count": 177,
     "metadata": {},
     "output_type": "execute_result"
    }
   ],
   "source": [
    "earth2mars_timezones([2014,10,16,23,50],0,0)"
   ]
  },
  {
   "cell_type": "markdown",
   "metadata": {},
   "source": [
    "经多次测试，earth2mars_timezones()的分钟和earth2mars_calendar_time()有时会存在1分钟的误差"
   ]
  },
  {
   "cell_type": "markdown",
   "metadata": {},
   "source": [
    "假如我现在在地球上的东八区，则此时位于火星上的小好奇（东经137°26′25″）的火历时间为："
   ]
  },
  {
   "cell_type": "code",
   "execution_count": 178,
   "metadata": {
    "collapsed": false
   },
   "outputs": [
    {
     "data": {
      "text/plain": [
       "[24, 16, 13, 15, 27]"
      ]
     },
     "execution_count": 178,
     "metadata": {},
     "output_type": "execute_result"
    }
   ],
   "source": [
    "earth2mars_timezones([2014,10,17,0,0],+8,mars_time_zones(137.4))"
   ]
  }
 ],
 "metadata": {
  "kernelspec": {
   "display_name": "Python 2",
   "language": "python",
   "name": "python2"
  },
  "language_info": {
   "codemirror_mode": {
    "name": "ipython",
    "version": 2
   },
   "file_extension": ".py",
   "mimetype": "text/x-python",
   "name": "python",
   "nbconvert_exporter": "python",
   "pygments_lexer": "ipython2",
   "version": "2.7.6"
  }
 },
 "nbformat": 4,
 "nbformat_minor": 0
}
