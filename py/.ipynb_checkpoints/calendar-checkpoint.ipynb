{
 "metadata": {
  "name": ""
 },
 "nbformat": 3,
 "nbformat_minor": 0,
 "worksheets": [
  {
   "cells": [
    {
     "cell_type": "markdown",
     "metadata": {},
     "source": [
      "\u8fd9\u662f\u4e00\u4e2a\u7528\u6765\u8bf4\u660e\u706b\u661f\u5386\u6cd5\u548c\u5730\u7403\u5386\u6cd5\u6362\u7b97\u65b9\u6cd5\u7684\u6587\u6863\u3002\n",
      "\n",
      "\u706b\u661f\u5386\u6cd5\u7684\u8bf4\u660e\uff1a[\u706b\u661f\u5386\u6cd5@\u661f\u9645\u79fb\u6c11\u4e4b\u4e66](http://interimm.org/InterImmBook/mars/calendar.html)\n",
      "\n",
      "\u706b\u661f\u548c\u5730\u7403\u4e4b\u95f4\uff0c\u4e00\u4e2a\u975e\u5e38\u6700\u8981\u7684\u8054\u7cfb\u662f\u5730\u7403\u4e0a UTC \u65f6\u95f4\u7684 2000 \u5e74 01 \u6708 06 \u65e5\uff0c\u8fd9\u4e00\u5929\u7684\u5348\u591c\u6b63\u597d\u662f\u706b\u661f\u4e0a\u96f6\u5ea6\u7ecf\u7ebf\u7684\u5348\u591c\u3002\u56e0\u6b64\uff0c\u4e00\u4e2a\u6bd4\u8f83\u597d\u7684\u7b97\u6cd5\u662f\uff0c\u4ee5\u8fd9\u4e00\u5929\u4e3a\u57fa\u51c6\u3002\n",
      "\n",
      "\u6700\u7ec8\u8981\u8fbe\u6210\u7684\u76ee\u7684\u662f\uff0c\u7ed9\u5b9a\u4e00\u4e2a\u5730\u7403\u4e0a\u7684 UTC \u65e5\u671f\u548c\u65f6\u95f4\uff0c\u6211\u4eec\u80fd\u591f\u6362\u7b97\u5230\u706b\u661f\u7684\u96f6\u5ea6\u7ecf\u7ebf\u7684\u65e5\u671f\u548c\u65f6\u95f4\u3002"
     ]
    },
    {
     "cell_type": "markdown",
     "metadata": {},
     "source": [
      "## Prep"
     ]
    },
    {
     "cell_type": "code",
     "collapsed": false,
     "input": [
      "import math\n",
      "import datetime ## to deal with dates\n",
      "from IPython.display import Image"
     ],
     "language": "python",
     "metadata": {},
     "outputs": [],
     "prompt_number": 91
    },
    {
     "cell_type": "markdown",
     "metadata": {},
     "source": [
      "## \u706b\u661f\u5386\u6cd5"
     ]
    },
    {
     "cell_type": "markdown",
     "metadata": {},
     "source": [
      "### \u706b\u661f\u95f0\u5e74"
     ]
    },
    {
     "cell_type": "markdown",
     "metadata": {},
     "source": [
      "\u706b\u661f\u7684\u5386\u6cd5\u91c7\u7528 Darian Calendar\uff0c\u8fd9\u79cd\u5386\u6cd5\u4e2d\uff0c\u5e74\u5206\u4e3a\u5e73\u5e74\u548c\u95f0\u5e74\uff0c\u5176\u4e2d\u5e73\u5e74 668 \u5929\uff0c\u95f0\u5e74 669 \u5929\u3002\u8ba1\u7b97\u95f0\u5e74\u7684\u65b9\u6cd5\u4e3a"
     ]
    },
    {
     "cell_type": "code",
     "collapsed": false,
     "input": [
      "# will return True if a year is a leap year on Mars\n",
      "def is_leap_year_mars(year):\n",
      "    if year % 3000 == 0:\n",
      "        return False\n",
      "    elif year % 1000 == 0:\n",
      "        return True\n",
      "    elif year % 100 == 0:\n",
      "        return False\n",
      "    elif (year % 2 != 0) or (year % 10 == 0):\n",
      "        return True\n",
      "    else:\n",
      "        return False"
     ],
     "language": "python",
     "metadata": {},
     "outputs": [],
     "prompt_number": 92
    },
    {
     "cell_type": "markdown",
     "metadata": {},
     "source": [
      "\u6240\u4ee5\uff0c\u4e00\u5e74\u7684\u603b\u5929\u6570\uff0c\u6211\u4eec\u53ef\u4ee5\u8fd9\u6837\u8868\u793a"
     ]
    },
    {
     "cell_type": "code",
     "collapsed": false,
     "input": [
      "def total_days(year):\n",
      "    return 668 + is_leap_year_mars(year)"
     ],
     "language": "python",
     "metadata": {},
     "outputs": [],
     "prompt_number": 93
    },
    {
     "cell_type": "markdown",
     "metadata": {},
     "source": [
      "\u6d4b\u8bd5\u4e00\u4e0b\u8fd9\u4e24\u4e2a\u51fd\u6570\u3002"
     ]
    },
    {
     "cell_type": "code",
     "collapsed": false,
     "input": [
      "print total_days(10)\n",
      "print total_days(11)"
     ],
     "language": "python",
     "metadata": {},
     "outputs": [
      {
       "output_type": "stream",
       "stream": "stdout",
       "text": [
        "669\n",
        "669\n"
       ]
      }
     ],
     "prompt_number": 94
    },
    {
     "cell_type": "raw",
     "metadata": {},
     "source": [
      "\u4efb\u610f\u67d0\u5e74\u67d0\u6708\u7684\u5929\u6570\uff0c\u7528\u4ee5\u4e0b\u51fd\u6570\u8fdb\u884c\u8ba1\u7b97:"
     ]
    },
    {
     "cell_type": "code",
     "collapsed": false,
     "input": [
      "def month_total_days(year,month):\n",
      "    if is_leap_year_mars(year):\n",
      "        if month == 24:\n",
      "            return 28\n",
      "        else:\n",
      "            return 27 + ((month)%6!=0)\n",
      "    if not is_leap_year_mars(year):\n",
      "        return 27 + ((month)%6!=0)"
     ],
     "language": "python",
     "metadata": {},
     "outputs": [],
     "prompt_number": 95
    },
    {
     "cell_type": "code",
     "collapsed": false,
     "input": [
      "print month_total_days(1,24)"
     ],
     "language": "python",
     "metadata": {},
     "outputs": [
      {
       "output_type": "stream",
       "stream": "stdout",
       "text": [
        "28\n"
       ]
      }
     ],
     "prompt_number": 96
    },
    {
     "cell_type": "markdown",
     "metadata": {},
     "source": [
      "### \u706b\u661f\u6708\u65e5\u7684\u8ba1\u7b97"
     ]
    },
    {
     "cell_type": "markdown",
     "metadata": {},
     "source": [
      "\u706b\u661f\u4e0a\u4e00\u5e74\u5171\u5206\u4e3a 24 \u4e2a\u6708\uff0c6 \u4e2a\u6708\u4e00\u7ec4\u5206\u4e3a\u56db\u7ec4\uff0c\u6bcf\u7ec4\u7684\u524d\u4e94\u4e2a\u6708\u662f 28 \u5929\uff0c\u7b2c\u516d\u4e2a\u6708\u662f 27 \u5929\uff0c\u4f46\u662f\u5018\u82e5\u5f53\u5e74\u662f\u95f0\u5e74\uff0c\u5219\u7b2c 24 \u4e2a\u6708\u5305\u542b 28 \u5929\u3002\u56e0\u6b64\u5982\u679c\u7ed9\u5b9a\u4e00\u4e2a\u5c0f\u4e8e\u5f53\u5e74\u5e74\u4efd\u603b\u5929\u6570\u7684\u5929\u6570\uff0c\u6211\u4eec\u53ef\u4ee5\u8ba1\u7b97\u5bf9\u5e94\u7684\u662f\u5f53\u5e74\u7684\u54ea\u4e2a\u65e5\u671f\u3002"
     ]
    },
    {
     "cell_type": "code",
     "collapsed": false,
     "input": [
      "# returns the month and date given a number of dates.\n",
      "# calendar_date(a number of days, which year we are calculating)\n",
      "def calendar_date(days, year):\n",
      "    if days > total_days(year):\n",
      "        return \"Error! Given number of days are more than the overall possible days of the year.\"\n",
      "    else:\n",
      "        for month in range(24):\n",
      "            month = month + 1.0\n",
      "            if month == 24:                                       # the last month is special because it might change with year\n",
      "                return tuple([int(month),int(days)])                      # using tuple to avoid modification\n",
      "            elif ((month) < 24) & ( (days) < (27 + 1 + (month%6!=0))):   # the condition for days makes sure that days is never larger than days in that month\n",
      "                return tuple([int(month),int(days)])\n",
      "                break\n",
      "            elif ((month) < 24) & ((days) > (27 + (month%6!=0))):\n",
      "                days = days - 27 - ((month)%6!=0)\n",
      "                continue\n",
      "            else:\n",
      "                return \"Unhandled in calendar_date(days, year) function! (inner for loop) \"\n",
      "                break"
     ],
     "language": "python",
     "metadata": {},
     "outputs": [],
     "prompt_number": 97
    },
    {
     "cell_type": "markdown",
     "metadata": {},
     "source": [
      "\u6d4b\u8bd5\u6b64\u51fd\u6570"
     ]
    },
    {
     "cell_type": "code",
     "collapsed": false,
     "input": [
      "print \"the 669th day of the tenth year is (month:{}, day:{})\".format(calendar_date(669,10)[0],calendar_date(669,10)[1])\n",
      "print \"the 669th day of year one is (month:{}, day:{})\".format(calendar_date(669,1)[0],calendar_date(669,1)[1]) # should return error message\n",
      "print \"the 1000th day of year one is (month:{}, day:{})\".format(calendar_date(1000,1)[0],calendar_date(1000,1)[1]) # should return error message\n",
      "print \"the 30th day of year one is (month:{}, day:{})\".format(calendar_date(30,1)[0],calendar_date(30,1)[1])"
     ],
     "language": "python",
     "metadata": {},
     "outputs": [
      {
       "output_type": "stream",
       "stream": "stdout",
       "text": [
        "the 669th day of the tenth year is (month:24, day:28)\n",
        "the 669th day of year one is (month:24, day:28)\n",
        "the 1000th day of year one is (month:E, day:r)\n",
        "the 30th day of year one is (month:2, day:2)\n"
       ]
      }
     ],
     "prompt_number": 98
    },
    {
     "cell_type": "code",
     "collapsed": false,
     "input": [
      "calendar_date(1,1)"
     ],
     "language": "python",
     "metadata": {},
     "outputs": [
      {
       "metadata": {},
       "output_type": "pyout",
       "prompt_number": 99,
       "text": [
        "(1, 1)"
       ]
      }
     ],
     "prompt_number": 99
    },
    {
     "cell_type": "markdown",
     "metadata": {},
     "source": [
      "\u53ef\u4ee5\u770b\u5230\u51fd\u6570\u6b63\u786e\u7684\u8fd4\u56de\u4e86\u6708\u65e5\u4ee5\u53ca\u9519\u8bef\u4fe1\u606f\u3002"
     ]
    },
    {
     "cell_type": "markdown",
     "metadata": {},
     "source": [
      "### \u706b\u661f\u65e5"
     ]
    },
    {
     "cell_type": "markdown",
     "metadata": {},
     "source": [
      "\u706b\u661f\u4e0a\u7684\u4e00\u5929\uff0c\u6216\u8005\u8bf4\u79f0\u4e3a\u4e00\u4e2a\u706b\u661f\u592a\u9633\u65e5\uff0c\u5171\u6709 24 \u5c0f\u65f6 39 \u5206\u949f 35.244 \u79d2\uff0c\u5171\u8ba1 88775.2 \u79d2\uff0c\u4f46\u662f\u5386\u6cd5\u4e2d\u4e3a\u4e86\u5927\u5bb6\u4f7f\u7528\u65b9\u4fbf\uff0c\u4ec5\u4ec5\u4f7f\u7528 88775 \u79d2\u3002\u706b\u661f\u65e5\u548c\u5730\u7403\u4e0a 24 \u5c0f\u65f6\u7684\u6bd4\u503c\u662f 1.02748842593 . \u56e0\u6b64\u6211\u4eec\u53ef\u4ee5\u5b9a\u4e49\u4e00\u4e2a\u5e38\u6570\uff0c\u5373\u7528\u6765\u8f6c\u6362\u5730\u7403\u65e5\u548c\u706b\u661f\u65e5\u7684\u5e38\u6570\uff1a"
     ]
    },
    {
     "cell_type": "code",
     "collapsed": false,
     "input": [
      "m2e = 88775.0/86400  # the ratio of mars sol day and earth 24-hour day or we can use 1.027491252\n",
      "print m2e"
     ],
     "language": "python",
     "metadata": {},
     "outputs": [
      {
       "output_type": "stream",
       "stream": "stdout",
       "text": [
        "1.02748842593\n"
       ]
      }
     ],
     "prompt_number": 100
    },
    {
     "cell_type": "markdown",
     "metadata": {},
     "source": [
      "### \u706b\u661f\u5143\u5e74\u4e0e\u6821\u51c6\u65e5\u671f"
     ]
    },
    {
     "cell_type": "markdown",
     "metadata": {},
     "source": [
      "\u706b\u661f\u5143\u5e74\u7684\u5f00\u59cb\u5bf9\u5e94\u4e8e\u5730\u7403\u7684 1970 \u5e74 4 \u6708 28 \u65e5\uff0c\u800c**\u6821\u51c6\u65e5\u671f**\u4e3a\u5730\u7403 UTC \u65f6\u95f4\u7684 2000 \u5e74 01 \u6708 06 \u65e5\u5348\u591c\uff0c\u4e5f\u5c31\u662f\u6700\u540e\u53ef\u4ee5\u88ab\u79f0\u4f5c 6 \u65e5\u7684\u90a3\u4e2a\u65f6\u95f4\u70b9\uff0c\u6b64\u65f6\u706b\u661f\u7684\u96f6\u5ea6\u7ecf\u7ebf\u4e5f\u6b63\u597d\u5bf9\u5e94\u67d0\u4e2a\u706b\u661f\u65e5\u7684\u5348\u591c\u3002"
     ]
    },
    {
     "cell_type": "markdown",
     "metadata": {},
     "source": [
      "\u901a\u8fc7\u8ba1\u7b97\u5f97\u77e5\uff0c\u5728\u5730\u7403\u4e0a 1970 \u5e74 04 \u6708 28 \u65e5\u548c 2000 \u5e74 01 \u6708 06 \u65e5\u4e4b\u95f4\u5171\u6709 10846 \u4e2a\u5730\u7403\u65e5\uff0c\u8003\u8651\u5230\u6211\u4eec\u7684\u8ba1\u7b97\u7684\u6821\u51c6\u65f6\u95f4\u662f\u5728 6 \u65e5\u6df1\u591c\uff0c\u6240\u4ee5\u8fd9\u4e2a\u8ba1\u7b97\u4e2d\u5305\u542b\u4e86 6 \u65e5\u5f53\u5929\u3002\u8f6c\u6362\u6210\u706b\u661f\u65e5\uff1a"
     ]
    },
    {
     "cell_type": "code",
     "collapsed": false,
     "input": [
      "mars_sol_day_coor = math.floor(10846/m2e)\n",
      "print mars_sol_day_coor"
     ],
     "language": "python",
     "metadata": {},
     "outputs": [
      {
       "output_type": "stream",
       "stream": "stdout",
       "text": [
        "10555.0\n"
       ]
      }
     ],
     "prompt_number": 101
    },
    {
     "cell_type": "markdown",
     "metadata": {},
     "source": [
      "\u6ce8\u610f\u5230 floor() \u91cc\u9762\u7684\u9664\u6cd5\u4e0d\u80fd\u6574\u9664\uff0c\u662f\u56e0\u4e3a\u706b\u661f\u5143\u5e74\u5e76\u975e\u662f\u4ece 1970 \u5e74 04 \u6708 28 \u65e5\u7684 0 \u70b9\u5f00\u59cb\u7684\uff0c\u6240\u4ee5\u6211\u4eec\u8fd9\u91cc\u6254\u6389\u540e\u9762\u7684\u5c0f\u6570\u4f4d\u3002"
     ]
    },
    {
     "cell_type": "markdown",
     "metadata": {},
     "source": [
      "\u6211\u4eec\u9700\u8981\u8ba1\u7b97\u7684\u662f\uff0c\u6821\u51c6\u65e5\u671f\u5bf9\u5e94\u7684\u662f\u706b\u661f\u5386\u6cd5\u4e2d\u7684\u54ea\u4e2a\u65e5\u671f\u3002\u73b0\u5728\u6211\u4eec\u5df2\u7ecf\u77e5\u9053\u4e86 mars_sol_day_coor \u7ed9\u51fa\u4e86\u5143\u5e74\u5f00\u59cb\u548c\u6821\u51c6\u65e5\u671f\u4e4b\u95f4\u7684\u706b\u661f\u65e5\u7684\u6570\u76ee\u3002\u800c\u8fd9\u4e2a\u6570\u76ee\u6070\u597d\u662f 15 \u5e74\u591a\u4f59 534 \u706b\u661f\u65e5\u3002\uff08\u7b2c 16 \u5e74\u5e76\u975e\u95f0\u5e74\u3002\uff09\u7136\u540e\u6211\u4eec\u53ef\u4ee5\u901a\u8fc7\u4e4b\u524d\u7684\u8ba1\u7b97\u65e5\u671f\u7684\u51fd\u6570\u5f97\u51fa 534 \u706b\u661f\u65e5\u5bf9\u5e94\u7684\u662f\u706b\u661f\u7eaa\u5e74\u7b2c 16 \u5e74\u7684\u4ec0\u4e48\u65e5\u671f\u3002"
     ]
    },
    {
     "cell_type": "code",
     "collapsed": false,
     "input": [
      "calendar_date(534,16)"
     ],
     "language": "python",
     "metadata": {},
     "outputs": [
      {
       "metadata": {},
       "output_type": "pyout",
       "prompt_number": 102,
       "text": [
        "(20, 5)"
       ]
      }
     ],
     "prompt_number": 102
    },
    {
     "cell_type": "markdown",
     "metadata": {},
     "source": [
      "\u4e5f\u5c31\u662f\u8bf4\uff0c\u662f\u706b\u661f\u5386\u6cd5\u4e2d\u7684\u7b2c 20 \u4e2a\u6708\u7684 5 \u65e5\uff0c\u5373\u5c0f\u5bd2\u6708 5 \u65e5\u3002"
     ]
    },
    {
     "cell_type": "markdown",
     "metadata": {},
     "source": [
      "\u8fd9\u6837\u6211\u4eec\u4e5f\u53ef\u4ee5\u5f97\u77e5\u706b\u661f\u5143\u5e74\u5bf9\u5e94\u7684\u5730\u7403\u5386\u7684\u65e5\u671f\u548c\u65f6\u95f4\u3002\u4e0a\u9762\u6211\u4eec\u7684\u8ba1\u7b97\u4e2d\uff0c\u6211\u4eec\u5f97\u77e5"
     ]
    },
    {
     "cell_type": "code",
     "collapsed": false,
     "input": [
      "Image(url=\"https://raw.githubusercontent.com/InterImm/marsCalendar/master/py/assets/timeCalibration.png\")"
     ],
     "language": "python",
     "metadata": {},
     "outputs": [
      {
       "html": [
        "<img src=\"https://raw.githubusercontent.com/InterImm/marsCalendar/master/py/assets/timeCalibration.png\"/>"
       ],
       "metadata": {},
       "output_type": "pyout",
       "prompt_number": 103,
       "text": [
        "<IPython.core.display.Image at 0x104fca5d0>"
       ]
      }
     ],
     "prompt_number": 103
    },
    {
     "cell_type": "markdown",
     "metadata": {},
     "source": [
      "\u7531\u4e8e\u6211\u4eec\u7684\u8ba1\u7b97\u4e2d\uff0c\u53ea\u8003\u8651\u4e86 mars_sol_day_coor = 10555.0 \u4e2a\u706b\u661f\u65e5\uff0c\u6240\u4ee5\u6211\u4eec\u73b0\u5728\u6362\u7b97\u56de\u5730\u7403\u65e5\uff0c\u5e76\u4e14\u4ece\u5730\u7403\u65e5\u5386\u7684 2000-01-06 \uff08\u5305\u542b\uff09\u53cd\u63a8\u56de\u5730\u7403\u65e5\u5386\u4e2d\u6240\u5bf9\u5e94\u7684\u65e5\u671f\u548c\u65f6\u95f4\u3002\n",
      "\u8fd9\u4e9b\u706b\u661f\u65e5\u5bf9\u5e94\u7684\u5730\u7403\u65e5\u7684\u6570\u76ee"
     ]
    },
    {
     "cell_type": "code",
     "collapsed": false,
     "input": [
      "earth_day_coor = mars_sol_day_coor * m2e\n",
      "print earth_day_coor"
     ],
     "language": "python",
     "metadata": {},
     "outputs": [
      {
       "output_type": "stream",
       "stream": "stdout",
       "text": [
        "10845.1403356\n"
       ]
      }
     ],
     "prompt_number": 104
    },
    {
     "cell_type": "markdown",
     "metadata": {},
     "source": [
      "\u7b80\u5355\u7684\u6570\u5b66\u53ef\u4ee5\u5f97\u77e5\u5143\u5e74\u5bf9\u5e94\u7684\u5730\u7403\u65e5\u5386\u662f\n",
      "\n",
      "1970 \u5e74 04 \u6708 28 \u65e5\uff0c21:17:30   ## \u7b2c\u4e00\u7248\u7684\u8ba1\u7b97\u7ed3\u679c\u662f 1970.0,4.0,28.0,20.0 + 38.0/60 + 55.0/3600 \u4e3a\u4e86\u4e0e\u540e\u9762 2000 - 01 - 06 \u5348\u591c\u7684\u534f\u8c03\uff0c\u653e\u5f03\u6b64\u7248\u672c\u3002"
     ]
    },
    {
     "cell_type": "markdown",
     "metadata": {},
     "source": [
      "## \u5386\u6cd5\u6362\u7b97"
     ]
    },
    {
     "cell_type": "markdown",
     "metadata": {},
     "source": [
      "\u5386\u6cd5\u6362\u7b97\u6709\u4e00\u4e2a\u6bd4\u8f83\u91cd\u8981\u7684\u8f6c\u6298\u70b9\uff0c\u5c31\u662f 2012 \u5e74 07 \u6708 01 \u65e5\uff0c\u56e0\u4e3a\u8fd9\u4e00\u5929\u589e\u52a0\u4e86 35 + 32.184 \u79d2\u7684\u95f0\u79d2\u3002\u56e0\u6b64\u7a0b\u5e8f\u8ba1\u7b97\u9700\u8981\u4e00\u4e2a\u5224\u65ad\u7ed9\u5b9a\u7684\u5730\u7403\u5386\u6cd5\u662f\u5426\u5927\u4e8e\u6b64\u65e5\u671f\u7684\u51fd\u6570\u3002\n",
      "\n",
      "\u4e3a\u4e86\u6362\u7b97\u65b9\u4fbf\uff0c\u6211\u4eec\u628a\u6240\u6709\u7ed9\u5b9a\u7684\u65e5\u671f\u90fd\u6362\u7b97\u6210 Julian Date. "
     ]
    },
    {
     "cell_type": "code",
     "collapsed": false,
     "input": [
      "def julian_days(cdate):     # Input is calendar date with the list format [year like 2014, month like 07, day like 24, hours like 12, min]\n",
      "    y = cdate[0]\n",
      "    m = cdate[1]\n",
      "    d = cdate[2]\n",
      "    h = cdate[3] + cdate[4]/60.0\n",
      "    \n",
      "    return 367.0 * y - math.floor(7.0 * ( y * 1.0 + math.floor( ( m*1.0 + 9.0 )/12.0 ) )/4.0 ) - math.floor(3.0*(math.floor( (y*1.0 + (m*1.0 - 9.0)/7.0 )/100.0 ) + 1.0 )/4.0 ) + math.floor( 275.0 * m / 9.0 ) + d*1.0 + 1721028.5 + h / 24.0                  ## Using an equation from http://scienceworld.wolfram.com/astronomy/JulianDate.html       "
     ],
     "language": "python",
     "metadata": {},
     "outputs": [],
     "prompt_number": 105
    },
    {
     "cell_type": "markdown",
     "metadata": {},
     "source": [
      "\u4f5c\u4e3a\u6d4b\u8bd5\uff0c\u6211\u4eec\u77e5\u9053 UNIX \u7cfb\u7edf\u91cc\u9762\u4f7f\u7528\u7684\uff0c1970-01-01\uff0c00:00:00 \u7684\u65f6\u523b\u5bf9\u5e94\u7684\u65f6\u95f4\u662f 2 440 587.5 \u4e2a julian days\uff0c\u7528\u6211\u4eec\u8fd9\u4e2a\u51fd\u6570\u7ed9\u51fa\u6765\u7684\u7ed3\u679c\u5462\uff1f"
     ]
    },
    {
     "cell_type": "code",
     "collapsed": false,
     "input": [
      "julian_days([1970,1,1,0,0])"
     ],
     "language": "python",
     "metadata": {},
     "outputs": [
      {
       "metadata": {},
       "output_type": "pyout",
       "prompt_number": 106,
       "text": [
        "2440587.5"
       ]
      }
     ],
     "prompt_number": 106
    },
    {
     "cell_type": "markdown",
     "metadata": {},
     "source": [
      "\u4e0e\u5df2\u77e5\u7ed3\u679c\u662f\u4e00\u81f4\u7684\u3002\u9700\u8981\u5f3a\u8c03\u7684\u662f\uff0c\u8fd9\u4e2a\u8ba1\u7b97\u5728\u4f7f\u7528\u7684\u65f6\u5019\uff0c\u9700\u8981\u5148\u628a\u5206\u949f\u548c\u79d2\u6362\u7b97\u6210\u5c0f\u6570\u70b9\u7684\u5c0f\u65f6\u6570\u76ee\u3002\n",
      "\n",
      "\u56e0\u6b64\u5728\u9700\u8981\u8ba1\u7b97\u65e5\u671f\u4e4b\u95f4\u7684\u5929\u6570\u5dee\u7684\u8bdd\uff0c\u53ea\u9700\u8981\u4f7f\u7528\u6b64\u51fd\u6570\u8f6c\u6362\u6210 julian days\uff0c\u7136\u540e\u8ba1\u7b97\u5dee\u503c\u5373\u53ef\u3002\u4e00\u4e2a\u6bd4\u8f83\u65b9\u4fbf\u7684\u6362\u7b97\u662f\uff0c\u8ba1\u7b97\u51fa\u706b\u661f\u5143\u5e74\u5bf9\u5e94\u7684 julian days\uff0c\u7136\u540e\u4ee5\u540e\u7684\u6362\u7b97\u5c31\u901a\u8fc7\u5c06\u5730\u7403\u5386\u8ddf\u706b\u661f\u5143\u5e74\u7684\u5730\u7403\u7684\u5929\u6570\uff0c\u7136\u540e\u6362\u7b97\u6210\u706b\u661f\u65e5\u7684\u6570\u76ee\uff0c\u7136\u540e\u5229\u7528\u4e0a\u9762\u8ba1\u7b97\u706b\u661f\u5386\u7684\u65b9\u6cd5\uff0c\u83b7\u5f97\u706b\u661f\u4e0a\u7684\u65e5\u671f\u3002"
     ]
    },
    {
     "cell_type": "markdown",
     "metadata": {},
     "source": [
      "\u706b\u661f\u5143\u5e74\uff081970 \u5e74 04 \u6708 28 \u65e5\uff0c20:38:55\uff09\u5bf9\u5e94\u7684\u5730\u7403\u5386\u6cd5\u4e2d\u7684 julian days \u662f"
     ]
    },
    {
     "cell_type": "code",
     "collapsed": false,
     "input": [
      "julian_coor_earth = julian_days([1970.0,4.0,28.0,21.0,17.0 + 30.0/60])  # 1970.0,4.0,28.0,20.0 + 38.0/60 + 55.0/3600\n",
      "print julian_coor_earth"
     ],
     "language": "python",
     "metadata": {},
     "outputs": [
      {
       "output_type": "stream",
       "stream": "stdout",
       "text": [
        "2440705.38715\n"
       ]
      }
     ],
     "prompt_number": 107
    },
    {
     "cell_type": "markdown",
     "metadata": {},
     "source": [
      "\u56e0\u6b64\u6211\u4eec\u53ef\u4ee5\u5b9a\u4e49\u8fd9\u6837\u4e00\u4e2a\u51fd\u6570\uff0c\u6765\u8ba1\u7b97\u5730\u7403\u65e5\u7684\u6570\u76ee"
     ]
    },
    {
     "cell_type": "code",
     "collapsed": false,
     "input": [
      "def julian_diff(datelist):\n",
      "    return julian_days(datelist) - julian_coor_earth"
     ],
     "language": "python",
     "metadata": {},
     "outputs": [],
     "prompt_number": 108
    },
    {
     "cell_type": "code",
     "collapsed": false,
     "input": [
      "julian_diff([1970.0,4.0,28.0,21,17])"
     ],
     "language": "python",
     "metadata": {},
     "outputs": [
      {
       "metadata": {},
       "output_type": "pyout",
       "prompt_number": 109,
       "text": [
        "-0.000347222201526165"
       ]
      }
     ],
     "prompt_number": 109
    },
    {
     "cell_type": "markdown",
     "metadata": {},
     "source": [
      "\u540c\u6837\u6211\u4eec\u53ef\u4ee5\u5b9a\u4e49\u6362\u7b97\u51fa\u706b\u661f\u65e5\u6570\u76ee\u7684\u51fd\u6570"
     ]
    },
    {
     "cell_type": "code",
     "collapsed": false,
     "input": [
      "def mars_days_origin(datelist):\n",
      "    return math.floor(julian_diff(datelist)/m2e)"
     ],
     "language": "python",
     "metadata": {},
     "outputs": [],
     "prompt_number": 110
    },
    {
     "cell_type": "markdown",
     "metadata": {},
     "source": [
      "\u6d4b\u8bd5\u6b64\u51fd\u6570"
     ]
    },
    {
     "cell_type": "code",
     "collapsed": false,
     "input": [
      "mars_days_origin([1970.0,4.0,28.0,21,17])"
     ],
     "language": "python",
     "metadata": {},
     "outputs": [
      {
       "metadata": {},
       "output_type": "pyout",
       "prompt_number": 111,
       "text": [
        "-1.0"
       ]
      }
     ],
     "prompt_number": 111
    },
    {
     "cell_type": "markdown",
     "metadata": {},
     "source": [
      "\u5982\u679c\u8981\u8ba1\u7b97\u5f53\u65e5\u7684\u65f6\u95f4\uff0c\u9700\u8981\u7528\u5230\u88ab floor \u6389\u7684\u5c0f\u6570\u90e8\u5206\u3002"
     ]
    },
    {
     "cell_type": "code",
     "collapsed": false,
     "input": [
      "def mars_days_origin_rem(datelist):\n",
      "    return julian_diff(datelist)/m2e - math.floor(julian_diff(datelist)/m2e)"
     ],
     "language": "python",
     "metadata": {},
     "outputs": [],
     "prompt_number": 112
    },
    {
     "cell_type": "markdown",
     "metadata": {},
     "source": [
      "\u7136\u540e\u6211\u4eec\u53ef\u4ee5\u5229\u7528 calendar_date() \u51fd\u6570\u7ed9\u51fa\u5bf9\u5e94\u7684\u706b\u661f\u5386\u7684\u65e5\u671f\u3002"
     ]
    },
    {
     "cell_type": "code",
     "collapsed": false,
     "input": [
      "def earth2mars_calendar(datelist):\n",
      "    year = 1\n",
      "    md = mars_days_origin(datelist)\n",
      "    while (md > (668.0 + is_leap_year_mars(year) ) ):\n",
      "        year = year + 1\n",
      "        md = md - 668 - is_leap_year_mars(year)\n",
      "    return [year,calendar_date(md+1,year-1)]"
     ],
     "language": "python",
     "metadata": {},
     "outputs": [],
     "prompt_number": 113
    },
    {
     "cell_type": "code",
     "collapsed": false,
     "input": [
      "earth2mars_calendar([1970,4,29,20,0])"
     ],
     "language": "python",
     "metadata": {},
     "outputs": [
      {
       "metadata": {},
       "output_type": "pyout",
       "prompt_number": 114,
       "text": [
        "[1, (1, 1)]"
       ]
      }
     ],
     "prompt_number": 114
    },
    {
     "cell_type": "code",
     "collapsed": false,
     "input": [
      "earth2mars_calendar([1971,4,30,23,23])"
     ],
     "language": "python",
     "metadata": {},
     "outputs": [
      {
       "metadata": {},
       "output_type": "pyout",
       "prompt_number": 115,
       "text": [
        "[1, (13, 24)]"
       ]
      }
     ],
     "prompt_number": 115
    },
    {
     "cell_type": "markdown",
     "metadata": {},
     "source": [
      "\u90a3\u4e48\u8fd9\u4e2a\u51fd\u6570\u7ed9\u51fa\u7684\u5730\u7403\u4e0a 2000 \u5e74 01 \u6708 06 \u65e5\u5348\u591c\u5fc5\u987b\u662f\u706b\u661f\u5386\u7684 0016 \u5e74\u5c0f\u5bd2\u6708 05 \u65e5\u3002\u4e0b\u9762\u662f\u6d4b\u8bd5"
     ]
    },
    {
     "cell_type": "code",
     "collapsed": false,
     "input": [
      "earth2mars_calendar([2000,1,6,0,0])"
     ],
     "language": "python",
     "metadata": {},
     "outputs": [
      {
       "metadata": {},
       "output_type": "pyout",
       "prompt_number": 116,
       "text": [
        "[16, (19, 25)]"
       ]
      }
     ],
     "prompt_number": 116
    },
    {
     "cell_type": "markdown",
     "metadata": {},
     "source": [
      "### \u706b\u661f\u65f6\u523b"
     ]
    },
    {
     "cell_type": "markdown",
     "metadata": {},
     "source": [
      "\u706b\u661f\u4e0a\u91c7\u7528\u7684\u8ba1\u65f6\u65b9\u6cd5\u662f 24 \u5c0f\u65f6\u5916\u52a0\u9644\u52a0\u65f6\u95f4\u3002\u706b\u661f\u4e0a\u4e00\u4e2a\u592a\u9633\u65e5\u662f  24 hours, 39 minutes, and 35.244 seconds\uff0c\u5176\u4e2d\u7684 39'35.244'' \u88ab\u5f52\u4e3a\u9644\u52a0\u65f6\u95f4\u3002\n",
      "\n",
      "\u5c06\u5c0f\u6570\u70b9\u7684\u65f6\u95f4\u6362\u7b97\u4e3a\u65f6\u523b\u9700\u8981\u5f97\u77e5\u4e00\u5929\u5171\u6709\u591a\u5c11\u79d2\uff1a"
     ]
    },
    {
     "cell_type": "code",
     "collapsed": false,
     "input": [
      "24 * 3600 + 39 * 60 + 35.244"
     ],
     "language": "python",
     "metadata": {},
     "outputs": [
      {
       "metadata": {},
       "output_type": "pyout",
       "prompt_number": 117,
       "text": [
        "88775.244"
       ]
      }
     ],
     "prompt_number": 117
    },
    {
     "cell_type": "code",
     "collapsed": false,
     "input": [
      "def mday2time(remainder):                         # input a number smaller than 1.\n",
      "    if remainder > 1:\n",
      "        return \"Input should a fraction of a martian day, i.e., a number smaller than 1.\"\n",
      "    else:\n",
      "        total_sec = 24.0 * 3600 + 39.0 * 60 + 35.244  # total seconds in a martian day\n",
      "        seconds = remainder * total_sec                   # total seconds of the given input\n",
      "        hour = int(math.floor(seconds / 3600.0))               # hour\n",
      "        min = int(math.floor( (seconds - 3600.0 * hour)/60 ) )  # min\n",
      "        sec = int(seconds - hour * 3600.0 - min * 60.0)\n",
      "        \n",
      "        return [hour, min, sec]"
     ],
     "language": "python",
     "metadata": {},
     "outputs": [],
     "prompt_number": 118
    },
    {
     "cell_type": "code",
     "collapsed": false,
     "input": [
      "mday2time(0.3)"
     ],
     "language": "python",
     "metadata": {},
     "outputs": [
      {
       "metadata": {},
       "output_type": "pyout",
       "prompt_number": 119,
       "text": [
        "[7, 23, 52]"
       ]
      }
     ],
     "prompt_number": 119
    },
    {
     "cell_type": "markdown",
     "metadata": {},
     "source": [
      "\u5229\u7528 mars_days_origin_rem() \u51fd\u6570\u53ef\u4ee5\u8ba1\u7b97\u5730\u7403 UTC \u65e5\u671f\u5bf9\u5e94\u7684\u706b\u661f\u96f6\u5ea6\u7ecf\u7ebf\u5f53\u5929\u7684\u706b\u661f\u65f6\u95f4\u3002"
     ]
    },
    {
     "cell_type": "code",
     "collapsed": false,
     "input": [
      "def earth2mars_calendar_time(datelist):\n",
      "    return mday2time(mars_days_origin_rem(datelist))"
     ],
     "language": "python",
     "metadata": {},
     "outputs": [],
     "prompt_number": 120
    },
    {
     "cell_type": "code",
     "collapsed": false,
     "input": [
      "earth2mars_calendar_time([1971,4,30,23,59])"
     ],
     "language": "python",
     "metadata": {},
     "outputs": [
      {
       "metadata": {},
       "output_type": "pyout",
       "prompt_number": 121,
       "text": [
        "[7, 10, 15]"
       ]
      }
     ],
     "prompt_number": 121
    },
    {
     "cell_type": "code",
     "collapsed": false,
     "input": [
      "earth2mars_calendar_time([2000,1,6,0,0])"
     ],
     "language": "python",
     "metadata": {},
     "outputs": [
      {
       "metadata": {},
       "output_type": "pyout",
       "prompt_number": 122,
       "text": [
        "[24, 39, 35]"
       ]
      }
     ],
     "prompt_number": 122
    },
    {
     "cell_type": "code",
     "collapsed": false,
     "input": [
      "mars_days_origin_rem([2000,1,6,0,0])"
     ],
     "language": "python",
     "metadata": {},
     "outputs": [
      {
       "metadata": {},
       "output_type": "pyout",
       "prompt_number": 123,
       "text": [
        "0.9999999997999112"
       ]
      }
     ],
     "prompt_number": 123
    },
    {
     "cell_type": "code",
     "collapsed": false,
     "input": [
      "10846/m2e"
     ],
     "language": "python",
     "metadata": {},
     "outputs": [
      {
       "metadata": {},
       "output_type": "pyout",
       "prompt_number": 124,
       "text": [
        "10555.836665727966"
       ]
      }
     ],
     "prompt_number": 124
    },
    {
     "cell_type": "code",
     "collapsed": false,
     "input": [
      "earth2mars_calendar_time([1970.0,4.0,28.0,20,55])"
     ],
     "language": "python",
     "metadata": {},
     "outputs": [
      {
       "metadata": {},
       "output_type": "pyout",
       "prompt_number": 125,
       "text": [
        "[24, 17, 5]"
       ]
      }
     ],
     "prompt_number": 125
    },
    {
     "cell_type": "code",
     "collapsed": false,
     "input": [
      "month_name = ('\u6625\u5206','\u6e05\u660e','\u8c37\u96e8','\u7acb\u590f','\u5c0f\u6ee1','\u8292\u79cd','\u590f\u81f3','\u5c0f\u6691','\u5927\u6691','\u7acb\u79cb','\u5904\u6691','\u767d\u9732','\u79cb\u5206','\u5bd2\u9732','\u971c\u964d','\u7acb\u51ac','\u5c0f\u96ea','\u5927\u96ea','\u51ac\u81f3','\u5c0f\u5bd2','\u5927\u5bd2','\u7acb\u6625','\u96e8\u6c34','\u60ca\u86f0')\n",
      "week_name = ('\u516d','\u65e5','\u4e00','\u4e8c','\u4e09','\u56db','\u4e94')\n",
      "def chinese_character(mars_calendar,mars_time):\n",
      "    calendar_str = \"\u706b\u5386\"+str(mars_calendar[0])+\"\u5e74 \"+str(month_name[mars_calendar[1][0]-1])+\"\u6708\"+str(int(mars_calendar[1][1]))+\"\u65e5\"+\"\u661f\u671f\"+str(week_name[int(mars_calendar[1][1])%7])\n",
      "    if mars_time[0] < 24.0:\n",
      "        if mars_time[2] < 10:\n",
      "            return calendar_str+\" \"+str(int(mars_time[0]))+\":\"+str(int(mars_time[1]))+\":0\"+str(int(mars_time[2]))\n",
      "        else:\n",
      "            return calendar_str+\" \"+str(int(mars_time[0]))+\":\"+str(int(mars_time[1]))+\":\"+str(int(mars_time[2]))\n",
      "    else:\n",
      "        if mars_time[2] < 10:\n",
      "            return calendar_str+\" +\"+str(int(mars_time[1]))+\":0\"+str(int(mars_time[2]))\n",
      "        else:\n",
      "            return calendar_str+\" +\"+str(int(mars_time[1]))+\":\"+str(int(mars_time[2]))"
     ],
     "language": "python",
     "metadata": {},
     "outputs": [],
     "prompt_number": 126
    },
    {
     "cell_type": "code",
     "collapsed": false,
     "input": [
      "print chinese_character([16, (20, 4.0)],[24.0, 17.0, 5.240289495923207])"
     ],
     "language": "python",
     "metadata": {},
     "outputs": [
      {
       "output_type": "stream",
       "stream": "stdout",
       "text": [
        "\u706b\u538616\u5e74 \u5c0f\u5bd2\u67084\u65e5\u661f\u671f\u4e09 +17:05\n"
       ]
      }
     ],
     "prompt_number": 127
    },
    {
     "cell_type": "code",
     "collapsed": false,
     "input": [
      "print chinese_character([1, (1, 1.0)],[7.0, 10.0, 15.070938780310826])"
     ],
     "language": "python",
     "metadata": {},
     "outputs": [
      {
       "output_type": "stream",
       "stream": "stdout",
       "text": [
        "\u706b\u53861\u5e74 \u6625\u5206\u67081\u65e5\u661f\u671f\u65e5 7:10:15\n"
       ]
      }
     ],
     "prompt_number": 128
    },
    {
     "cell_type": "code",
     "collapsed": false,
     "input": [
      "print chinese_character(earth2mars_calendar([2014,10,13,23,52]),earth2mars_calendar_time([2014,10,13,23,52]))"
     ],
     "language": "python",
     "metadata": {},
     "outputs": [
      {
       "output_type": "stream",
       "stream": "stdout",
       "text": [
        "\u706b\u538624\u5e74 \u7acb\u51ac\u670810\u65e5\u661f\u671f\u4e8c 16:19:30\n"
       ]
      }
     ],
     "prompt_number": 129
    },
    {
     "cell_type": "markdown",
     "metadata": {},
     "source": [
      "## \u6d4b\u8bd5\u5730\u7403\u5386\u6cd5\u5230\u706b\u661f\u5386\u6cd5\u7684\u6362\u7b97"
     ]
    },
    {
     "cell_type": "markdown",
     "metadata": {},
     "source": [
      "\u6d4b\u8bd5\u65f6\u523b\u7684\u8f93\u51fa\u3002"
     ]
    },
    {
     "cell_type": "code",
     "collapsed": false,
     "input": [
      "earth2mars_calendar_time([2000,1,6,0,0])"
     ],
     "language": "python",
     "metadata": {},
     "outputs": [
      {
       "metadata": {},
       "output_type": "pyout",
       "prompt_number": 130,
       "text": [
        "[24, 39, 35]"
       ]
      }
     ],
     "prompt_number": 130
    },
    {
     "cell_type": "code",
     "collapsed": false,
     "input": [
      "earth2mars_calendar_time([2014,10,13,21,1])"
     ],
     "language": "python",
     "metadata": {},
     "outputs": [
      {
       "metadata": {},
       "output_type": "pyout",
       "prompt_number": 131,
       "text": [
        "[13, 28, 30]"
       ]
      }
     ],
     "prompt_number": 131
    },
    {
     "cell_type": "markdown",
     "metadata": {},
     "source": [
      "\u7531 Mars24 \u7ed9\u51fa\u7684 AMT \u662f 12:46\uff0c\u6362\u7b97\u6210\u6211\u4eec\u7684\u8ba1\u65f6\u65b9\u6cd5\u662f"
     ]
    },
    {
     "cell_type": "code",
     "collapsed": false,
     "input": [
      "test11 = (12.0 + 46.0/60)/24 * (24.0*m2e)\n",
      "print str(test11) + \"h\" + \"=\" + str(int(math.floor(test11))) + \":\" + str(int((test11 - math.floor(test11))*60))"
     ],
     "language": "python",
     "metadata": {},
     "outputs": [
      {
       "output_type": "stream",
       "stream": "stdout",
       "text": [
        "13.1176022377h=13:7\n"
       ]
      }
     ],
     "prompt_number": 132
    },
    {
     "cell_type": "markdown",
     "metadata": {},
     "source": [
      "\u8fd9\u6837\u770b\u6765\u76f8\u5dee\u4e86\u5927\u7ea6 21 \u5206\u949f\u7684\u65f6\u95f4\u3002"
     ]
    },
    {
     "cell_type": "code",
     "collapsed": false,
     "input": [
      "earth2mars_calendar_time([2020,1,1,0,0])"
     ],
     "language": "python",
     "metadata": {},
     "outputs": [
      {
       "metadata": {},
       "output_type": "pyout",
       "prompt_number": 133,
       "text": [
        "[17, 20, 0]"
       ]
      }
     ],
     "prompt_number": 133
    },
    {
     "cell_type": "code",
     "collapsed": false,
     "input": [
      "test12 = (16.0 + 23.0/60) * m2e\n",
      "print str(test12) + \"h\" + \"=\" + str(int(math.floor(test12))) + \":\" + str(int((test12 - math.floor(test12))*60))"
     ],
     "language": "python",
     "metadata": {},
     "outputs": [
      {
       "output_type": "stream",
       "stream": "stdout",
       "text": [
        "16.8336853781h=16:50\n"
       ]
      }
     ],
     "prompt_number": 134
    },
    {
     "cell_type": "markdown",
     "metadata": {},
     "source": [
      "\u4e3a\u4e86\u6d4b\u8bd5\u65b9\u4fbf\uff0c\u5b9a\u4e49\u4e00\u4e2a Mars24 \u7684 24 \u5c0f\u65f6\u8ba1\u65f6\u65b9\u6cd5\u4e0e\u6211\u4e2d\u5fc3\u7684\u8ba1\u65f6\u65b9\u6cd5\u7684\u6362\u7b97\u7684\u51fd\u6570\u3002"
     ]
    },
    {
     "cell_type": "code",
     "collapsed": false,
     "input": [
      "def mars242iic(hour):\n",
      "    print str(hour) + \"h\" + \"=\" + str(int(math.floor(hour))) + \":\" + str(int((hour - math.floor(hour))*60))"
     ],
     "language": "python",
     "metadata": {},
     "outputs": [],
     "prompt_number": 135
    },
    {
     "cell_type": "code",
     "collapsed": false,
     "input": [
      "mars242iic(test12)"
     ],
     "language": "python",
     "metadata": {},
     "outputs": [
      {
       "output_type": "stream",
       "stream": "stdout",
       "text": [
        "16.8336853781h=16:50\n"
       ]
      }
     ],
     "prompt_number": 136
    },
    {
     "cell_type": "markdown",
     "metadata": {},
     "source": [
      "\u6d4b\u8bd5\u591a\u4e2a\u5e74\u4efd\u770b\u770b\u662f\u4e0d\u662f\u201c\u8bef\u5dee\u201d\u968f\u7740\u65f6\u95f4\u63a8\u79fb\u589e\u52a0\u3002\u5982\u679c\u662f\u7684\u8bdd\uff0c\u5f88\u53ef\u80fd\u662f\u67d0\u4e2a\u5e38\u6570\u7528\u7684\u4e0d\u5bf9\u6216\u8005\u90a3\u4e2a\u53d8\u91cf\u7684\u7cbe\u5ea6\u6709\u95ee\u9898\u3002"
     ]
    },
    {
     "cell_type": "markdown",
     "metadata": {},
     "source": [
      "2030 \u5e74 1 \u6708 1 \u65e5"
     ]
    },
    {
     "cell_type": "code",
     "collapsed": false,
     "input": [
      "earth2mars_calendar_time([2030,1,1,0,0])"
     ],
     "language": "python",
     "metadata": {},
     "outputs": [
      {
       "metadata": {},
       "output_type": "pyout",
       "prompt_number": 137,
       "text": [
        "[24, 1, 15]"
       ]
      }
     ],
     "prompt_number": 137
    },
    {
     "cell_type": "markdown",
     "metadata": {},
     "source": [
      "Mars24 \u7ed9\u51fa\u7684\u662f 22:40"
     ]
    },
    {
     "cell_type": "code",
     "collapsed": false,
     "input": [
      "mars242iic((22.0+40.0/60)*m2e)"
     ],
     "language": "python",
     "metadata": {},
     "outputs": [
      {
       "output_type": "stream",
       "stream": "stdout",
       "text": [
        "23.2897376543h=23:17\n"
       ]
      }
     ],
     "prompt_number": 138
    },
    {
     "cell_type": "markdown",
     "metadata": {},
     "source": [
      "\u5dee\u8ddd\u4e3a"
     ]
    },
    {
     "cell_type": "code",
     "collapsed": false,
     "input": [
      "earth2mars_calendar_time([2030,1,1,0,0])[0] + earth2mars_calendar_time([2030,1,1,0,0])[1]/60 - (22.0+40.0/60)*m2e"
     ],
     "language": "python",
     "metadata": {},
     "outputs": [
      {
       "metadata": {},
       "output_type": "pyout",
       "prompt_number": 139,
       "text": [
        "0.7102623456790127"
       ]
      }
     ],
     "prompt_number": 139
    },
    {
     "cell_type": "code",
     "collapsed": false,
     "input": [
      "def mars24_iic_diff(datelist,result):\n",
      "    print earth2mars_calendar_time(datelist)[0] + earth2mars_calendar_time(datelist)[1]/60 - (result[0]*1.0 + result[1]*1.0/60.0)*m2e"
     ],
     "language": "python",
     "metadata": {},
     "outputs": [],
     "prompt_number": 140
    },
    {
     "cell_type": "code",
     "collapsed": false,
     "input": [
      "mars24_iic_diff([2020,1,1,0,0],[16,23])"
     ],
     "language": "python",
     "metadata": {},
     "outputs": [
      {
       "output_type": "stream",
       "stream": "stdout",
       "text": [
        "0.166314621914\n"
       ]
      }
     ],
     "prompt_number": 141
    },
    {
     "cell_type": "code",
     "collapsed": false,
     "input": [
      "mars24_iic_diff([2021,1,1,0,0],[21,22])"
     ],
     "language": "python",
     "metadata": {},
     "outputs": [
      {
       "output_type": "stream",
       "stream": "stdout",
       "text": [
        "0.0459972993827\n"
       ]
      }
     ],
     "prompt_number": 142
    },
    {
     "cell_type": "code",
     "collapsed": false,
     "input": [
      "mars24_iic_diff([2022,1,1,0,0],[2,29])"
     ],
     "language": "python",
     "metadata": {},
     "outputs": [
      {
       "output_type": "stream",
       "stream": "stdout",
       "text": [
        "0.448403742284\n"
       ]
      }
     ],
     "prompt_number": 143
    },
    {
     "cell_type": "code",
     "collapsed": false,
     "input": [
      "mars24_iic_diff([2023,1,1,0,0],[8,26])"
     ],
     "language": "python",
     "metadata": {},
     "outputs": [
      {
       "output_type": "stream",
       "stream": "stdout",
       "text": [
        "0.334847608025\n"
       ]
      }
     ],
     "prompt_number": 144
    },
    {
     "cell_type": "code",
     "collapsed": false,
     "input": [
      "mars24_iic_diff([2030,1,1,0,0],[22,40])"
     ],
     "language": "python",
     "metadata": {},
     "outputs": [
      {
       "output_type": "stream",
       "stream": "stdout",
       "text": [
        "0.710262345679\n"
       ]
      }
     ],
     "prompt_number": 145
    },
    {
     "cell_type": "code",
     "collapsed": false,
     "input": [
      "mars24_iic_diff([2040,1,1,0,0],[5,35])"
     ],
     "language": "python",
     "metadata": {},
     "outputs": [
      {
       "output_type": "stream",
       "stream": "stdout",
       "text": [
        "0.263189621914\n"
       ]
      }
     ],
     "prompt_number": 146
    },
    {
     "cell_type": "code",
     "collapsed": false,
     "input": [
      "mars24_iic_diff([2050,1,1,0,0],[11,51])"
     ],
     "language": "python",
     "metadata": {},
     "outputs": [
      {
       "output_type": "stream",
       "stream": "stdout",
       "text": [
        "0.824262152778\n"
       ]
      }
     ],
     "prompt_number": 147
    },
    {
     "cell_type": "markdown",
     "metadata": {},
     "source": [
      "\u8fd9\u6837\u770b\u8d8b\u52bf\u4f3c\u4e4e\u5e76\u4e0d\u662f\u4e00\u76f4\u589e\u5927\uff0c\u800c\u662f\u5728\u4e0d\u505c\u7684\u6d6e\u52a8\u3002\u8fd9\u6837\u5c31\u6000\u7591\u662f\u7531\u4e8e Mars24 AMT \u91c7\u7528\u7684\u5f53\u5730\u7684\u592a\u9633\u65e5\u7684\u65f6\u523b\uff0c\u800c\u6211\u4eec\u91c7\u7528\u7684\u662f\u5e73\u5747\u592a\u9633\u65e5\u3002\u5982\u4f55\u9a8c\u8bc1\u5462\uff1f\u53ef\u4ee5\u8003\u8651\u4e00\u4e2a\u706b\u661f\u5e74\u7684\u5468\u671f\u6765\u770b\u770b\u3002\n",
      "2021 - 02 -07 \u5230 2022 - 12 - 26 \u6b63\u597d\u662f\u4e00\u4e2a\u706b\u661f\u5e74\u7684\u5468\u671f\u3002\n",
      "\n",
      "Aug 25 2021 -Jul 12 2023\n",
      "\n",
      "Feb 24 2022   Jan 12 2024\n",
      "\n",
      "Jul 21 2022   Jun 07 2024"
     ]
    },
    {
     "cell_type": "code",
     "collapsed": false,
     "input": [
      "mars24_iic_diff([2021,2,7,0,0],[21,36])\n",
      "mars24_iic_diff([2022,12,26,0,0],[12,28])"
     ],
     "language": "python",
     "metadata": {},
     "outputs": [
      {
       "output_type": "stream",
       "stream": "stdout",
       "text": [
        "-0.19375\n",
        "0.190644290123\n"
       ]
      }
     ],
     "prompt_number": 148
    },
    {
     "cell_type": "code",
     "collapsed": false,
     "input": [
      "mars24_iic_diff([2021,8,25,0,0],[13,49])\n",
      "mars24_iic_diff([2023,7,12,0,0],[5,19])"
     ],
     "language": "python",
     "metadata": {},
     "outputs": [
      {
       "output_type": "stream",
       "stream": "stdout",
       "text": [
        "-0.196465084877\n",
        "0.537186535494\n"
       ]
      }
     ],
     "prompt_number": 149
    },
    {
     "cell_type": "code",
     "collapsed": false,
     "input": [
      "mars24_iic_diff([2022,2,24,0,0],[16,19])\n",
      "mars24_iic_diff([2024,1,12,0,0],[7,10])"
     ],
     "language": "python",
     "metadata": {},
     "outputs": [
      {
       "output_type": "stream",
       "stream": "stdout",
       "text": [
        "0.234813850309\n",
        "-0.363667052469\n"
       ]
      }
     ],
     "prompt_number": 150
    },
    {
     "cell_type": "code",
     "collapsed": false,
     "input": [
      "mars24_iic_diff([2022,7,21,0,0],[17,55])\n",
      "mars24_iic_diff([2024,6,7,0,0],[8,46])"
     ],
     "language": "python",
     "metadata": {},
     "outputs": [
      {
       "output_type": "stream",
       "stream": "stdout",
       "text": [
        "-0.409167631173\n",
        "-0.00764853395062\n"
       ]
      }
     ],
     "prompt_number": 151
    },
    {
     "cell_type": "markdown",
     "metadata": {},
     "source": [
      "\u7531\u6b64\u53ef\u89c1\u5e76\u975e\u662f\u56e0\u4e3a\u592a\u9633\u65e5\u7684\u53d8\u5316\u9020\u6210\u7684\u3002\u4f46\u662f\u6240\u6709\u7684\u6d6e\u52a8\u90fd\u5728\u4e00\u4e2a\u5c0f\u65f6\u4e4b\u5185\u3002"
     ]
    },
    {
     "cell_type": "markdown",
     "metadata": {},
     "source": [
      "## \u4ece\u706b\u661f\u5386\u6cd5\u5230\u5730\u7403\u5386\u6cd5"
     ]
    },
    {
     "cell_type": "markdown",
     "metadata": {},
     "source": [
      "\u4ece\u706b\u661f\u5386\u8f6c\u6362\u56de\u5730\u7403\u5386\u6cd5\uff0c\u601d\u8def\u662f\uff0c\u5148\u628a\u706b\u661f\u5386\u6362\u7b97\u6210\u5730\u7403\u5386\u6cd5\u4e2d\u8ddd\u79bb\u706b\u661f\u5143\u5e74\u7684 julian days\uff0c\u7136\u540e\u6211\u4eec\u5df2\u77e5\u706b\u661f\u5143\u5e74\u5bf9\u5e94\u7684 julian days \u662f\u7531 julian_coor_earth \u53d8\u91cf\u7ed9\u51fa\u7684\uff0c\u8fd9\u6837\u5c31\u53ef\u4ee5\u8ba1\u7b97\u706b\u661f\u5386\u6cd5\u4e2d\u7684\u67d0\u5929\u67d0\u65f6\u523b\u5bf9\u5e94\u7684\u5730\u7403\u5386\u6cd5\u4e2d\u7684 julian days\uff0c\u6700\u540e\u7531\u6b64\u8ba1\u7b97\u5730\u7403\u5386\u6cd5\u7684\u65f6\u95f4\u3002"
     ]
    },
    {
     "cell_type": "markdown",
     "metadata": {},
     "source": [
      "\u4e0b\u9762 mars_date2days() \u51fd\u6570\u7ed9\u51fa\u706b\u661f\u65e5\u7684\u6570\u76ee\u3002"
     ]
    },
    {
     "cell_type": "code",
     "collapsed": false,
     "input": [
      "def mars_date2days(datelist):   # given a date, calculate the days since the first calendar day. [martian year, month in number, day, hour, min]\n",
      "    y = datelist[0]\n",
      "    m = datelist[1]\n",
      "    d = datelist[2]\n",
      "    h = datelist[3] * 1.0\n",
      "    min = datelist[4] * 1.0\n",
      "    \n",
      "    year = 1\n",
      "    days = 0\n",
      "    while year < y:\n",
      "        days = days + 668 + is_leap_year_mars(year)\n",
      "        year = year + 1\n",
      "        \n",
      "    month = 1\n",
      "    while month < m:\n",
      "        days = days + 27 + (month%6!=0)\n",
      "        month = month + 1\n",
      "        \n",
      "    days = days + d + ( h + min/60.0 )/(24*m2e)\n",
      "    \n",
      "    return days - 1"
     ],
     "language": "python",
     "metadata": {},
     "outputs": [],
     "prompt_number": 152
    },
    {
     "cell_type": "code",
     "collapsed": false,
     "input": [
      "mars_date2days([1,1,1,0,0])"
     ],
     "language": "python",
     "metadata": {},
     "outputs": [
      {
       "metadata": {},
       "output_type": "pyout",
       "prompt_number": 153,
       "text": [
        "0.0"
       ]
      }
     ],
     "prompt_number": 153
    },
    {
     "cell_type": "code",
     "collapsed": false,
     "input": [
      "mars_date2days([1,1,1,24,39])"
     ],
     "language": "python",
     "metadata": {},
     "outputs": [
      {
       "metadata": {},
       "output_type": "pyout",
       "prompt_number": 154,
       "text": [
        "0.9996057448606026"
       ]
      }
     ],
     "prompt_number": 154
    },
    {
     "cell_type": "code",
     "collapsed": false,
     "input": [
      "mars_date2days([12,24,28,24,39.5])"
     ],
     "language": "python",
     "metadata": {},
     "outputs": [
      {
       "metadata": {},
       "output_type": "pyout",
       "prompt_number": 155,
       "text": [
        "8023.999943677837"
       ]
      }
     ],
     "prompt_number": 155
    },
    {
     "cell_type": "markdown",
     "metadata": {},
     "source": [
      "\u706b\u661f\u65e5\u5bf9\u5e94\u7684 julian days \u53ef\u4ee5\u76f4\u63a5\u901a\u8fc7\u4e58\u4ee5 m2e \u6765\u6362\u7b97\u3002"
     ]
    },
    {
     "cell_type": "code",
     "collapsed": false,
     "input": [
      "mars_date2days([1,1,1,24,39]) * m2e + julian_coor_earth"
     ],
     "language": "python",
     "metadata": {},
     "outputs": [
      {
       "metadata": {},
       "output_type": "pyout",
       "prompt_number": 156,
       "text": [
        "2440706.414236111"
       ]
      }
     ],
     "prompt_number": 156
    },
    {
     "cell_type": "markdown",
     "metadata": {},
     "source": [
      "\u83b7\u5f97\u4e86 julian day\uff0c\u4e0b\u4e00\u6b65\u5c31\u53ea\u9700\u8981\u5c06\u8fd9\u4e2a\u5bf9\u5e94\u7684\u65e5\u671f\u627e\u51fa\u6765\u5c31\u597d\u4e86\u3002"
     ]
    },
    {
     "cell_type": "markdown",
     "metadata": {},
     "source": [
      "\u6211\u4ece [\u8fd9\u91cc](https://github.com/phn/jdcal/blob/master/jdcal.py) \u627e\u5230\u4e86\u4e00\u4e2a\u73b0\u6210\u7684\u51fd\u6570\uff0c\u4f5c\u8005\u4f7f\u7528 BSD2 \u534f\u8bae\uff0c\u6b63\u597d\u6211\u4eec\u53ef\u4ee5\u76f4\u63a5\u62ff\u6765\u7528\u6216\u4fee\u6539\u3002"
     ]
    },
    {
     "cell_type": "code",
     "collapsed": false,
     "input": [
      "def ipart(x):\n",
      "    \"\"\"Return integer part of given number.\"\"\"\n",
      "    return math.modf(x)[1]\n",
      "\n",
      "def jd2gcal(jd1,jd2):\n",
      "    \"\"\"Julian date to Gregorian calendar date and time of day.\n",
      "\n",
      "    The input and output are for the proleptic Gregorian calendar,\n",
      "    i.e., no consideration of historical usage of the calendar is\n",
      "    made.\n",
      "\n",
      "    Parameters\n",
      "    ----------\n",
      "    jd1, jd2: int\n",
      "        Sum of the two numbers is taken as the given Julian date. For\n",
      "        example `jd1` can be the zero point of MJD (MJD_0) and `jd2`\n",
      "        can be the MJD of the date and time. But any combination will\n",
      "        work.\n",
      "\n",
      "    Returns\n",
      "    -------\n",
      "    y, m, d, f : int, int, int, float\n",
      "        Four element tuple containing year, month, day and the\n",
      "        fractional part of the day in the Gregorian calendar. The first\n",
      "        three are integers, and the last part is a float.\n",
      "\n",
      "    Examples\n",
      "    --------\n",
      "    >>> jd2gcal(*gcal2jd(2000,1,1))\n",
      "    (2000, 1, 1, 0.0)\n",
      "    >>> jd2gcal(*gcal2jd(1950,1,1))\n",
      "    (1950, 1, 1, 0.0)\n",
      "\n",
      "    Out of range months and days are carried over to the next/previous\n",
      "    year or next/previous month. See gcal2jd for more examples.\n",
      "\n",
      "    >>> jd2gcal(*gcal2jd(1999,10,12))\n",
      "    (1999, 10, 12, 0.0)\n",
      "    >>> jd2gcal(*gcal2jd(2000,2,30))\n",
      "    (2000, 3, 1, 0.0)\n",
      "    >>> jd2gcal(*gcal2jd(-1999,10,12))\n",
      "    (-1999, 10, 12, 0.0)\n",
      "    >>> jd2gcal(*gcal2jd(2000, -2, -4))\n",
      "    (1999, 9, 26, 0.0)\n",
      "\n",
      "    >>> gcal2jd(2000,1,1)\n",
      "    (2400000.5, 51544.0)\n",
      "    >>> jd2gcal(2400000.5, 51544.0)\n",
      "    (2000, 1, 1, 0.0)\n",
      "    >>> jd2gcal(2400000.5, 51544.5)\n",
      "    (2000, 1, 1, 0.5)\n",
      "    >>> jd2gcal(2400000.5, 51544.245)\n",
      "    (2000, 1, 1, 0.24500000000261934)\n",
      "    >>> jd2gcal(2400000.5, 51544.1)\n",
      "    (2000, 1, 1, 0.099999999998544808)\n",
      "    >>> jd2gcal(2400000.5, 51544.75)\n",
      "    (2000, 1, 1, 0.75)\n",
      "\n",
      "    Notes\n",
      "    -----\n",
      "    The last element of the tuple is the same as\n",
      "\n",
      "       (hh + mm / 60.0 + ss / 3600.0) / 24.0\n",
      "\n",
      "    where hh, mm, and ss are the hour, minute and second of the day.\n",
      "\n",
      "    See Also\n",
      "    --------\n",
      "    gcal2jd\n",
      "\n",
      "    \"\"\"\n",
      "    from math import modf\n",
      "\n",
      "    jd1_f, jd1_i = modf(jd1)\n",
      "    jd2_f, jd2_i = modf(jd2)\n",
      "\n",
      "    jd_i = jd1_i + jd2_i\n",
      "\n",
      "    f = jd1_f + jd2_f\n",
      "\n",
      "    # Set JD to noon of the current date. Fractional part is the\n",
      "    # fraction from midnight of the current date.\n",
      "    if -0.5 < f < 0.5:\n",
      "        f += 0.5\n",
      "    elif f >= 0.5:\n",
      "        jd_i += 1\n",
      "        f -= 0.5\n",
      "    elif f <= -0.5:\n",
      "        jd_i -= 1\n",
      "        f += 1.5\n",
      "\n",
      "    l = jd_i + 68569\n",
      "    n = ipart((4 * l) / 146097.0)\n",
      "    l -= ipart(((146097 * n) + 3) / 4.0)\n",
      "    i = ipart((4000 * (l + 1)) / 1461001)\n",
      "    l -= ipart((1461 * i) / 4.0) - 31\n",
      "    j = ipart((80 * l) / 2447.0)\n",
      "    day = l - ipart((2447 * j) / 80.0)\n",
      "    l = ipart(j / 11.0)\n",
      "    month = j + 2 - (12 * l)\n",
      "    year = 100 * (n - 49) + i + l\n",
      "\n",
      "    return int(year), int(month), int(day), f\n",
      "\n",
      "def julian_days2gcal(jd):        # jd is the julian day difference from julian_coor_earth\n",
      "    tmp = jd2gcal(julian_coor_earth,jd)\n",
      "    \n",
      "    return (tmp[0],tmp[1],tmp[2],math.floor(tmp[3]*24.0),math.floor((tmp[3]*24.0 - math.floor(tmp[3]*24.0))*60.0))"
     ],
     "language": "python",
     "metadata": {},
     "outputs": [],
     "prompt_number": 157
    },
    {
     "cell_type": "markdown",
     "metadata": {},
     "source": [
      "\u6d4b\u8bd5\u4e00\u4e0b\u8fd9\u4e2a\u51fd\u6570"
     ]
    },
    {
     "cell_type": "code",
     "collapsed": false,
     "input": [
      "julian_days2gcal(0)"
     ],
     "language": "python",
     "metadata": {},
     "outputs": [
      {
       "metadata": {},
       "output_type": "pyout",
       "prompt_number": 158,
       "text": [
        "(1970, 4, 28, 21.0, 17.0)"
       ]
      }
     ],
     "prompt_number": 158
    },
    {
     "cell_type": "markdown",
     "metadata": {},
     "source": [
      "\u8fd9\u4e2a\u7ed3\u679c\u6b63\u597d\u662f\u5bf9\u5e94\u6211\u4eec\u7684\u706b\u661f\u5143\u5e74\u5f00\u59cb\u65f6\u523b\u3002"
     ]
    },
    {
     "cell_type": "markdown",
     "metadata": {},
     "source": [
      "\u4e0b\u9762\u6211\u4eec\u5b9a\u4e49\u706b\u661f\u5386\u8f6c\u4e3a\u5730\u7403 G \u5386\u6cd5\u7684\u51fd\u6570\u3002"
     ]
    },
    {
     "cell_type": "code",
     "collapsed": false,
     "input": [
      "def mars2earth_calendar(datelist):  # given a mars calendar date list [year, month, day, hour, min], calculate the corresponding earth g calendar\n",
      "    \n",
      "    jd_diff = mars_date2days(datelist) * m2e   # julian days difference from the beginning of martian calendar: julian_coor_earth\n",
      "    \n",
      "    return julian_days2gcal(jd_diff)"
     ],
     "language": "python",
     "metadata": {},
     "outputs": [],
     "prompt_number": 159
    },
    {
     "cell_type": "code",
     "collapsed": false,
     "input": [
      "mars2earth_calendar([1,1,1,0,0])"
     ],
     "language": "python",
     "metadata": {},
     "outputs": [
      {
       "metadata": {},
       "output_type": "pyout",
       "prompt_number": 160,
       "text": [
        "(1970, 4, 28, 21.0, 17.0)"
       ]
      }
     ],
     "prompt_number": 160
    },
    {
     "cell_type": "markdown",
     "metadata": {},
     "source": [
      "## \u65f6\u533a\u5212\u5206"
     ]
    },
    {
     "cell_type": "markdown",
     "metadata": {},
     "source": [
      "\u706b\u661f\u4e0a\u7684\u65f6\u533a\uff0c\u63091\u5c0f\u65f6\u5212\u5206\u4e3a24\u4e2a\u65f6\u533a\uff0c\u4e24\u4e2a\u65f6\u533a\u4e4b\u95f4\u95f4\u969415/m2e\u00b0\uff0c\u5269\u4e0b\u7684\u65f6\u533a\u5355\u72ec\u5904\u7406\uff0c\u517125\u4e2a\u65f6\u533a\u3002\n"
     ]
    },
    {
     "cell_type": "code",
     "collapsed": false,
     "input": [
      "zoneDegree = 15/m2e\n",
      "def mars_time_zones(longitude):  # given a longitude on Mars, return the time zone\n",
      "    if not(0 <= longitude < 360):\n",
      "        return \"Wrong input(0 <= longitude < 360)\"\n",
      "    else:\n",
      "        n = longitude/zoneDegree\n",
      "        if math.floor(n) < 24:\n",
      "            return int(n)\n",
      "        else:\n",
      "            return 24"
     ],
     "language": "python",
     "metadata": {},
     "outputs": [],
     "prompt_number": 161
    },
    {
     "cell_type": "code",
     "collapsed": false,
     "input": [
      "mars_time_zones(351)"
     ],
     "language": "python",
     "metadata": {},
     "outputs": [
      {
       "metadata": {},
       "output_type": "pyout",
       "prompt_number": 162,
       "text": [
        "24"
       ]
      }
     ],
     "prompt_number": 162
    },
    {
     "cell_type": "markdown",
     "metadata": {},
     "source": [
      "\u4e3a\u4e86\u4ee5\u540e\u753b\u56fe\u65b9\u4fbf\uff0c\u505a\u51fa\u4e00\u4e2a\u65f6\u533a\u5217\u8868"
     ]
    },
    {
     "cell_type": "code",
     "collapsed": false,
     "input": [
      "time_zones_list = []\n",
      "for n in range(1,25):\n",
      "    time_zones_list += [15/m2e*n]"
     ],
     "language": "python",
     "metadata": {},
     "outputs": [],
     "prompt_number": 163
    },
    {
     "cell_type": "code",
     "collapsed": false,
     "input": [
      "time_zones_list"
     ],
     "language": "python",
     "metadata": {},
     "outputs": [
      {
       "metadata": {},
       "output_type": "pyout",
       "prompt_number": 164,
       "text": [
        "[14.598704590256267,\n",
        " 29.197409180512533,\n",
        " 43.7961137707688,\n",
        " 58.39481836102507,\n",
        " 72.99352295128134,\n",
        " 87.5922275415376,\n",
        " 102.19093213179387,\n",
        " 116.78963672205013,\n",
        " 131.3883413123064,\n",
        " 145.98704590256267,\n",
        " 160.58575049281893,\n",
        " 175.1844550830752,\n",
        " 189.78315967333145,\n",
        " 204.38186426358774,\n",
        " 218.980568853844,\n",
        " 233.57927344410027,\n",
        " 248.17797803435653,\n",
        " 262.7766826246128,\n",
        " 277.3753872148691,\n",
        " 291.97409180512534,\n",
        " 306.5727963953816,\n",
        " 321.17150098563786,\n",
        " 335.7702055758941,\n",
        " 350.3689101661504]"
       ]
      }
     ],
     "prompt_number": 164
    },
    {
     "cell_type": "markdown",
     "metadata": {},
     "source": [
      "\u6700\u540e\u4e00\u4e2a\u5730\u533a\u7684\u7ecf\u5ea6\u8303\u56f4\u4e3a\uff1a"
     ]
    },
    {
     "cell_type": "code",
     "collapsed": false,
     "input": [
      "zoneDegree25 = 360 - time_zones_list[23]"
     ],
     "language": "python",
     "metadata": {},
     "outputs": [],
     "prompt_number": 165
    },
    {
     "cell_type": "code",
     "collapsed": false,
     "input": [
      "print zoneDegree25"
     ],
     "language": "python",
     "metadata": {},
     "outputs": [
      {
       "output_type": "stream",
       "stream": "stdout",
       "text": [
        "9.63108983385\n"
       ]
      }
     ],
     "prompt_number": 166
    },
    {
     "cell_type": "markdown",
     "metadata": {},
     "source": [
      "\u518d\u7528\u4e00\u4e2a\u51fd\u6570\u6765\u8fdb\u884c\u65f6\u95f4\u8f6c\u6362\uff1a"
     ]
    },
    {
     "cell_type": "code",
     "collapsed": false,
     "input": [
      "def days2mars_date(days):\n",
      "    year = 1\n",
      "    month = 1\n",
      "    hour = 0\n",
      "    minute = 0\n",
      "    while days >= total_days(year):\n",
      "        days -= total_days(year)\n",
      "        year += 1\n",
      "    while days >= month_total_days(year,month):\n",
      "        days -= month_total_days(year,month)\n",
      "        month += 1\n",
      "    remainder = days - math.floor(days)\n",
      "    day = int(math.floor(days)) + 1\n",
      "    time = remainder * 86400 * m2e\n",
      "    while time >= 3600:\n",
      "        time -= 3600\n",
      "        hour += 1\n",
      "    while time >= 60:\n",
      "        time -=60\n",
      "        minute += 1\n",
      "    return [year,month,day,hour,minute]\n",
      "        "
     ],
     "language": "python",
     "metadata": {},
     "outputs": [],
     "prompt_number": 167
    },
    {
     "cell_type": "code",
     "collapsed": false,
     "input": [
      "mars_date2days([12,12,12,24,39])"
     ],
     "language": "python",
     "metadata": {},
     "outputs": [
      {
       "metadata": {},
       "output_type": "pyout",
       "prompt_number": 168,
       "text": [
        "7673.999605744861"
       ]
      }
     ],
     "prompt_number": 168
    },
    {
     "cell_type": "code",
     "collapsed": false,
     "input": [
      "days2mars_date(7673.999605744861)"
     ],
     "language": "python",
     "metadata": {},
     "outputs": [
      {
       "metadata": {},
       "output_type": "pyout",
       "prompt_number": 169,
       "text": [
        "[12, 12, 12, 24, 39]"
       ]
      }
     ],
     "prompt_number": 169
    },
    {
     "cell_type": "code",
     "collapsed": false,
     "input": [
      "def mars_time_zones_convert(datelist,timezones):\n",
      "    time = mars_date2days(datelist)\n",
      "    time += timezones / (24.0 * m2e)\n",
      "    return days2mars_date(time)"
     ],
     "language": "python",
     "metadata": {},
     "outputs": [],
     "prompt_number": 170
    },
    {
     "cell_type": "code",
     "collapsed": false,
     "input": [
      "mars_time_zones_convert([12, 12, 12, 24, 39],24)"
     ],
     "language": "python",
     "metadata": {},
     "outputs": [
      {
       "metadata": {},
       "output_type": "pyout",
       "prompt_number": 171,
       "text": [
        "[12, 12, 13, 23, 59]"
       ]
      }
     ],
     "prompt_number": 171
    },
    {
     "cell_type": "code",
     "collapsed": false,
     "input": [
      "mars_time_zones_convert([1, 1, 1, 0, 0],1)"
     ],
     "language": "python",
     "metadata": {},
     "outputs": [
      {
       "metadata": {},
       "output_type": "pyout",
       "prompt_number": 172,
       "text": [
        "[1, 1, 1, 0, 59]"
       ]
      }
     ],
     "prompt_number": 172
    },
    {
     "cell_type": "markdown",
     "metadata": {},
     "source": [
      "\u518d\u5b9a\u4e49\u4e00\u4e2a\u7b80\u5355\u7684\u5730\u7403\u4e0a\u7684\u65f6\u533a\u8f6c\u6362\u51fd\u6570\uff1a"
     ]
    },
    {
     "cell_type": "code",
     "collapsed": false,
     "input": [
      "def earth_time_zones_convert(datelist,timezones):\n",
      "    time = julian_days([datelist[0],datelist[1],datelist[2],datelist[3],datelist[4]])\n",
      "    time -= timezones / 24.0\n",
      "    timelist = jd2gcal(2400000.5,time - 2400000.5)\n",
      "    hour = math.floor(timelist[3]*24)\n",
      "    minute = round((timelist[3]*24 - hour)*60)\n",
      "\n",
      "    return [timelist[0],timelist[1],timelist[2],int(hour),int(minute)]"
     ],
     "language": "python",
     "metadata": {},
     "outputs": [],
     "prompt_number": 173
    },
    {
     "cell_type": "code",
     "collapsed": false,
     "input": [
      "earth_time_zones_convert([1970,1,1,5,5],+8.5)"
     ],
     "language": "python",
     "metadata": {},
     "outputs": [
      {
       "metadata": {},
       "output_type": "pyout",
       "prompt_number": 174,
       "text": [
        "[1969, 12, 31, 20, 35]"
       ]
      }
     ],
     "prompt_number": 174
    },
    {
     "cell_type": "markdown",
     "metadata": {},
     "source": [
      "\u6700\u540e\u5b9a\u4e49\u5730\u7403\u4e0a\u4efb\u610f\u65f6\u533a\u7684\u65f6\u95f4\uff0c\u8f6c\u6362\u5230\u706b\u661f\u4e0a\u4efb\u610f\u65f6\u533a\u7684\u65f6\u95f4\u7684\u51fd\u6570\uff1a"
     ]
    },
    {
     "cell_type": "code",
     "collapsed": false,
     "input": [
      "def earth2mars_timezones(datelist,earthTimezones,marsTimezones):\n",
      "    Earthdate = earth_time_zones_convert(datelist,earthTimezones)\n",
      "    calendar = earth2mars_calendar(Earthdate)\n",
      "    time = earth2mars_calendar_time(Earthdate)\n",
      "    Marsdate = [calendar[0],calendar[1][0],calendar[1][1],time[0],time[1]]\n",
      "    return mars_time_zones_convert(Marsdate,marsTimezones)"
     ],
     "language": "python",
     "metadata": {},
     "outputs": [],
     "prompt_number": 175
    },
    {
     "cell_type": "code",
     "collapsed": false,
     "input": [
      "print chinese_character(earth2mars_calendar([2014,10,16,23,50]),earth2mars_calendar_time([2014,10,16,23,50]))"
     ],
     "language": "python",
     "metadata": {},
     "outputs": [
      {
       "output_type": "stream",
       "stream": "stdout",
       "text": [
        "\u706b\u538624\u5e74 \u7acb\u51ac\u670813\u65e5\u661f\u671f\u4e94 14:18:45\n"
       ]
      }
     ],
     "prompt_number": 176
    },
    {
     "cell_type": "code",
     "collapsed": false,
     "input": [
      "earth2mars_timezones([2014,10,16,23,50],0,0)"
     ],
     "language": "python",
     "metadata": {},
     "outputs": [
      {
       "metadata": {},
       "output_type": "pyout",
       "prompt_number": 177,
       "text": [
        "[24, 16, 13, 14, 18]"
       ]
      }
     ],
     "prompt_number": 177
    },
    {
     "cell_type": "markdown",
     "metadata": {},
     "source": [
      "\u7ecf\u591a\u6b21\u6d4b\u8bd5\uff0cearth2mars_timezones()\u7684\u5206\u949f\u548cearth2mars_calendar_time()\u6709\u65f6\u4f1a\u5b58\u57281\u5206\u949f\u7684\u8bef\u5dee"
     ]
    },
    {
     "cell_type": "markdown",
     "metadata": {},
     "source": [
      "\u5047\u5982\u6211\u73b0\u5728\u5728\u5730\u7403\u4e0a\u7684\u4e1c\u516b\u533a\uff0c\u5219\u6b64\u65f6\u4f4d\u4e8e\u706b\u661f\u4e0a\u7684\u5c0f\u597d\u5947\uff08\u4e1c\u7ecf137\u00b026\u203225\u2033\uff09\u7684\u706b\u5386\u65f6\u95f4\u4e3a\uff1a"
     ]
    },
    {
     "cell_type": "code",
     "collapsed": false,
     "input": [
      "earth2mars_timezones([2014,10,17,0,0],+8,mars_time_zones(137.4))"
     ],
     "language": "python",
     "metadata": {},
     "outputs": [
      {
       "metadata": {},
       "output_type": "pyout",
       "prompt_number": 178,
       "text": [
        "[24, 16, 13, 15, 27]"
       ]
      }
     ],
     "prompt_number": 178
    }
   ],
   "metadata": {}
  }
 ]
}