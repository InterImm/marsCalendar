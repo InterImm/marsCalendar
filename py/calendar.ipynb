{
 "metadata": {
  "name": ""
 },
 "nbformat": 3,
 "nbformat_minor": 0,
 "worksheets": [
  {
   "cells": [
    {
     "cell_type": "markdown",
     "metadata": {},
     "source": [
      "\u8fd9\u662f\u4e00\u4e2a\u7528\u6765\u8bf4\u660e\u706b\u661f\u5386\u6cd5\u548c\u5730\u7403\u5386\u6cd5\u6362\u7b97\u65b9\u6cd5\u7684\u6587\u6863\u3002\n",
      "\n",
      "\u706b\u661f\u5386\u6cd5\u7684\u8bf4\u660e\uff1a[\u706b\u661f\u5386\u6cd5@\u661f\u9645\u79fb\u6c11\u4e4b\u4e66](http://interimm.org/InterImmBook/mars/calendar.html)\n",
      "\n",
      "\u706b\u661f\u548c\u5730\u7403\u4e4b\u95f4\uff0c\u4e00\u4e2a\u975e\u5e38\u6700\u8981\u7684\u8054\u7cfb\u662f\u5730\u7403\u4e0a UTC \u65f6\u95f4\u7684 2000 \u5e74 01 \u6708 06 \u65e5\uff0c\u8fd9\u4e00\u5929\u7684\u5348\u591c\u6b63\u597d\u662f\u706b\u661f\u4e0a\u96f6\u5ea6\u7ecf\u7ebf\u7684\u5348\u591c\u3002\u56e0\u6b64\uff0c\u4e00\u4e2a\u6bd4\u8f83\u597d\u7684\u7b97\u6cd5\u662f\uff0c\u4ee5\u8fd9\u4e00\u5929\u4e3a\u57fa\u51c6\u3002\n",
      "\n",
      "\u6700\u7ec8\u8981\u8fbe\u6210\u7684\u76ee\u7684\u662f\uff0c\u7ed9\u5b9a\u4e00\u4e2a\u5730\u7403\u4e0a\u7684 UTC \u65e5\u671f\u548c\u65f6\u95f4\uff0c\u6211\u4eec\u80fd\u591f\u6362\u7b97\u5230\u706b\u661f\u7684\u96f6\u5ea6\u7ecf\u7ebf\u7684\u65e5\u671f\u548c\u65f6\u95f4\u3002"
     ]
    },
    {
     "cell_type": "markdown",
     "metadata": {},
     "source": [
      "## Prep"
     ]
    },
    {
     "cell_type": "code",
     "collapsed": false,
     "input": [
      "import math\n",
      "import datetime ## to deal with dates\n",
      "from IPython.display import Image"
     ],
     "language": "python",
     "metadata": {},
     "outputs": [],
     "prompt_number": 153
    },
    {
     "cell_type": "markdown",
     "metadata": {},
     "source": [
      "## \u706b\u661f\u5386\u6cd5"
     ]
    },
    {
     "cell_type": "markdown",
     "metadata": {},
     "source": [
      "### \u706b\u661f\u95f0\u5e74"
     ]
    },
    {
     "cell_type": "markdown",
     "metadata": {},
     "source": [
      "\u706b\u661f\u7684\u5386\u6cd5\u91c7\u7528 Darian Calendar\uff0c\u8fd9\u79cd\u5386\u6cd5\u4e2d\uff0c\u5e74\u5206\u4e3a\u5e73\u5e74\u548c\u95f0\u5e74\uff0c\u5176\u4e2d\u5e73\u5e74 668 \u5929\uff0c\u95f0\u5e74 669 \u5929\u3002\u8ba1\u7b97\u95f0\u5e74\u7684\u65b9\u6cd5\u4e3a"
     ]
    },
    {
     "cell_type": "code",
     "collapsed": false,
     "input": [
      "# will return True if a year is a leap year on Mars\n",
      "def is_leap_year_mars(year):\n",
      "    if year % 3000 == 0:\n",
      "        return False\n",
      "    elif year % 1000 == 0:\n",
      "        return True\n",
      "    elif year % 100 == 0:\n",
      "        return False\n",
      "    elif (year % 2 == 0) and (year % 10 == 0):\n",
      "        return True\n",
      "    else:\n",
      "        return False"
     ],
     "language": "python",
     "metadata": {},
     "outputs": [],
     "prompt_number": 154
    },
    {
     "cell_type": "markdown",
     "metadata": {},
     "source": [
      "\u6240\u4ee5\uff0c\u4e00\u5e74\u7684\u603b\u5929\u6570\uff0c\u6211\u4eec\u53ef\u4ee5\u8fd9\u6837\u8868\u793a"
     ]
    },
    {
     "cell_type": "code",
     "collapsed": false,
     "input": [
      "def total_days(year):\n",
      "    return 668 + is_leap_year_mars(year)"
     ],
     "language": "python",
     "metadata": {},
     "outputs": [],
     "prompt_number": 155
    },
    {
     "cell_type": "markdown",
     "metadata": {},
     "source": [
      "\u6d4b\u8bd5\u4e00\u4e0b\u8fd9\u4e24\u4e2a\u51fd\u6570\u3002"
     ]
    },
    {
     "cell_type": "code",
     "collapsed": false,
     "input": [
      "print total_days(10)\n",
      "print total_days(11)"
     ],
     "language": "python",
     "metadata": {},
     "outputs": [
      {
       "output_type": "stream",
       "stream": "stdout",
       "text": [
        "669\n",
        "668\n"
       ]
      }
     ],
     "prompt_number": 156
    },
    {
     "cell_type": "markdown",
     "metadata": {},
     "source": [
      "### \u706b\u661f\u6708\u65e5\u7684\u8ba1\u7b97"
     ]
    },
    {
     "cell_type": "markdown",
     "metadata": {},
     "source": [
      "\u706b\u661f\u4e0a\u4e00\u5e74\u5171\u5206\u4e3a 24 \u4e2a\u6708\uff0c6 \u4e2a\u6708\u4e00\u7ec4\u5206\u4e3a\u56db\u7ec4\uff0c\u6bcf\u7ec4\u7684\u524d\u4e94\u4e2a\u6708\u662f 28 \u5929\uff0c\u7b2c\u516d\u4e2a\u6708\u662f 27 \u5929\uff0c\u4f46\u662f\u5018\u82e5\u5f53\u5e74\u662f\u95f0\u5e74\uff0c\u5219\u7b2c 24 \u4e2a\u6708\u5305\u542b 28 \u5929\u3002\u56e0\u6b64\u5982\u679c\u7ed9\u5b9a\u4e00\u4e2a\u5c0f\u4e8e\u5f53\u5e74\u5e74\u4efd\u603b\u5929\u6570\u7684\u5929\u6570\uff0c\u6211\u4eec\u53ef\u4ee5\u8ba1\u7b97\u5bf9\u5e94\u7684\u662f\u5f53\u5e74\u7684\u54ea\u4e2a\u65e5\u671f\u3002"
     ]
    },
    {
     "cell_type": "code",
     "collapsed": false,
     "input": [
      "# returns the month and date given a number of dates.\n",
      "# calendar_date(a number of days, which year we are calculating)\n",
      "def calendar_date(days, year):\n",
      "    if days > total_days(year):\n",
      "        return \"Error! Given number of days are more than the overall possible days of the year.\"\n",
      "    else:\n",
      "        for month in range(24):\n",
      "            month = month + 1.0\n",
      "            if month == 24:                                       # the last month is special because it might change with year\n",
      "                return tuple([int(month),int(days)])                      # using tuple to avoid modification\n",
      "            elif ((month) < 24) & ( (days) < (27 + 1 + (month%6!=0))):   # the condition for days makes sure that days is never larger than days in that month\n",
      "                return tuple([int(month),int(days)])\n",
      "                break\n",
      "            elif ((month) < 24) & ((days) > (27 + (month%6!=0))):\n",
      "                days = days - 27 - ((month)%6!=0)\n",
      "                continue\n",
      "            else:\n",
      "                return \"Unhandled in calendar_date(days, year) function! (inner for loop) \"\n",
      "                break"
     ],
     "language": "python",
     "metadata": {},
     "outputs": [],
     "prompt_number": 157
    },
    {
     "cell_type": "markdown",
     "metadata": {},
     "source": [
      "\u6d4b\u8bd5\u6b64\u51fd\u6570"
     ]
    },
    {
     "cell_type": "code",
     "collapsed": false,
     "input": [
      "print \"the 669th day of the tenth year is (month:{}, day:{})\".format(calendar_date(669,10)[0],calendar_date(669,10)[1])\n",
      "print \"the 669th day of year one is (month:{}, day:{})\".format(calendar_date(669,1)[0],calendar_date(669,1)[1]) # should return error message\n",
      "print \"the 1000th day of year one is (month:{}, day:{})\".format(calendar_date(1000,1)[0],calendar_date(1000,1)[1]) # should return error message\n",
      "print \"the 30th day of year one is (month:{}, day:{})\".format(calendar_date(30,1)[0],calendar_date(30,1)[1])"
     ],
     "language": "python",
     "metadata": {},
     "outputs": [
      {
       "output_type": "stream",
       "stream": "stdout",
       "text": [
        "the 669th day of the tenth year is (month:24, day:28)\n",
        "the 669th day of year one is (month:E, day:r)\n",
        "the 1000th day of year one is (month:E, day:r)\n",
        "the 30th day of year one is (month:2, day:2)\n"
       ]
      }
     ],
     "prompt_number": 158
    },
    {
     "cell_type": "code",
     "collapsed": false,
     "input": [
      "calendar_date(1,1)"
     ],
     "language": "python",
     "metadata": {},
     "outputs": [
      {
       "metadata": {},
       "output_type": "pyout",
       "prompt_number": 159,
       "text": [
        "(1, 1)"
       ]
      }
     ],
     "prompt_number": 159
    },
    {
     "cell_type": "markdown",
     "metadata": {},
     "source": [
      "\u53ef\u4ee5\u770b\u5230\u51fd\u6570\u6b63\u786e\u7684\u8fd4\u56de\u4e86\u6708\u65e5\u4ee5\u53ca\u9519\u8bef\u4fe1\u606f\u3002"
     ]
    },
    {
     "cell_type": "markdown",
     "metadata": {},
     "source": [
      "### \u706b\u661f\u65e5"
     ]
    },
    {
     "cell_type": "markdown",
     "metadata": {},
     "source": [
      "\u706b\u661f\u4e0a\u7684\u4e00\u5929\uff0c\u6216\u8005\u8bf4\u79f0\u4e3a\u4e00\u4e2a\u706b\u661f\u592a\u9633\u65e5\uff0c\u5171\u6709 24 \u5c0f\u65f6 39 \u5206\u949f 35.244 \u79d2\uff0c\u5171\u8ba1 88775.2 \u79d2\uff0c\u4f46\u662f\u5386\u6cd5\u4e2d\u4e3a\u4e86\u5927\u5bb6\u4f7f\u7528\u65b9\u4fbf\uff0c\u4ec5\u4ec5\u4f7f\u7528 88775 \u79d2\u3002\u706b\u661f\u65e5\u548c\u5730\u7403\u4e0a 24 \u5c0f\u65f6\u7684\u6bd4\u503c\u662f 1.02748842593 . \u56e0\u6b64\u6211\u4eec\u53ef\u4ee5\u5b9a\u4e49\u4e00\u4e2a\u5e38\u6570\uff0c\u5373\u7528\u6765\u8f6c\u6362\u5730\u7403\u65e5\u548c\u706b\u661f\u65e5\u7684\u5e38\u6570\uff1a"
     ]
    },
    {
     "cell_type": "code",
     "collapsed": false,
     "input": [
      "m2e = 88775.0/86400  # the ratio of mars sol day and earth 24-hour day or we can use 1.027491252\n",
      "print m2e"
     ],
     "language": "python",
     "metadata": {},
     "outputs": [
      {
       "output_type": "stream",
       "stream": "stdout",
       "text": [
        "1.02748842593\n"
       ]
      }
     ],
     "prompt_number": 160
    },
    {
     "cell_type": "markdown",
     "metadata": {},
     "source": [
      "### \u706b\u661f\u5143\u5e74\u4e0e\u6821\u51c6\u65e5\u671f"
     ]
    },
    {
     "cell_type": "markdown",
     "metadata": {},
     "source": [
      "\u706b\u661f\u5143\u5e74\u7684\u5f00\u59cb\u5bf9\u5e94\u4e8e\u5730\u7403\u7684 1970 \u5e74 4 \u6708 28 \u65e5\uff0c\u800c**\u6821\u51c6\u65e5\u671f**\u4e3a\u5730\u7403 UTC \u65f6\u95f4\u7684 2000 \u5e74 01 \u6708 06 \u65e5\u5348\u591c\uff0c\u4e5f\u5c31\u662f\u6700\u540e\u53ef\u4ee5\u88ab\u79f0\u4f5c 6 \u65e5\u7684\u90a3\u4e2a\u65f6\u95f4\u70b9\uff0c\u6b64\u65f6\u706b\u661f\u7684\u96f6\u5ea6\u7ecf\u7ebf\u4e5f\u6b63\u597d\u5bf9\u5e94\u67d0\u4e2a\u706b\u661f\u65e5\u7684\u5348\u591c\u3002"
     ]
    },
    {
     "cell_type": "markdown",
     "metadata": {},
     "source": [
      "\u901a\u8fc7\u8ba1\u7b97\u5f97\u77e5\uff0c\u5728\u5730\u7403\u4e0a 1970 \u5e74 04 \u6708 28 \u65e5\u548c 2000 \u5e74 01 \u6708 06 \u65e5\u4e4b\u95f4\u5171\u6709 10846 \u4e2a\u5730\u7403\u65e5\uff0c\u8003\u8651\u5230\u6211\u4eec\u7684\u8ba1\u7b97\u7684\u6821\u51c6\u65f6\u95f4\u662f\u5728 6 \u65e5\u6df1\u591c\uff0c\u6240\u4ee5\u8fd9\u4e2a\u8ba1\u7b97\u4e2d\u5305\u542b\u4e86 6 \u65e5\u5f53\u5929\u3002\u8f6c\u6362\u6210\u706b\u661f\u65e5\uff1a"
     ]
    },
    {
     "cell_type": "code",
     "collapsed": false,
     "input": [
      "mars_sol_day_coor = math.floor(10846/m2e)\n",
      "print mars_sol_day_coor"
     ],
     "language": "python",
     "metadata": {},
     "outputs": [
      {
       "output_type": "stream",
       "stream": "stdout",
       "text": [
        "10555.0\n"
       ]
      }
     ],
     "prompt_number": 161
    },
    {
     "cell_type": "markdown",
     "metadata": {},
     "source": [
      "\u6ce8\u610f\u5230 floor() \u91cc\u9762\u7684\u9664\u6cd5\u4e0d\u80fd\u6574\u9664\uff0c\u662f\u56e0\u4e3a\u706b\u661f\u5143\u5e74\u5e76\u975e\u662f\u4ece 1970 \u5e74 04 \u6708 28 \u65e5\u7684 0 \u70b9\u5f00\u59cb\u7684\uff0c\u6240\u4ee5\u6211\u4eec\u8fd9\u91cc\u6254\u6389\u540e\u9762\u7684\u5c0f\u6570\u4f4d\u3002"
     ]
    },
    {
     "cell_type": "markdown",
     "metadata": {},
     "source": [
      "\u6211\u4eec\u9700\u8981\u8ba1\u7b97\u7684\u662f\uff0c\u6821\u51c6\u65e5\u671f\u5bf9\u5e94\u7684\u662f\u706b\u661f\u5386\u6cd5\u4e2d\u7684\u54ea\u4e2a\u65e5\u671f\u3002\u73b0\u5728\u6211\u4eec\u5df2\u7ecf\u77e5\u9053\u4e86 mars_sol_day_coor \u7ed9\u51fa\u4e86\u5143\u5e74\u5f00\u59cb\u548c\u6821\u51c6\u65e5\u671f\u4e4b\u95f4\u7684\u706b\u661f\u65e5\u7684\u6570\u76ee\u3002\u800c\u8fd9\u4e2a\u6570\u76ee\u6070\u597d\u662f 15 \u5e74\u591a\u4f59 534 \u706b\u661f\u65e5\u3002\uff08\u7b2c 16 \u5e74\u5e76\u975e\u95f0\u5e74\u3002\uff09\u7136\u540e\u6211\u4eec\u53ef\u4ee5\u901a\u8fc7\u4e4b\u524d\u7684\u8ba1\u7b97\u65e5\u671f\u7684\u51fd\u6570\u5f97\u51fa 534 \u706b\u661f\u65e5\u5bf9\u5e94\u7684\u662f\u706b\u661f\u7eaa\u5e74\u7b2c 16 \u5e74\u7684\u4ec0\u4e48\u65e5\u671f\u3002"
     ]
    },
    {
     "cell_type": "code",
     "collapsed": false,
     "input": [
      "calendar_date(534,16)"
     ],
     "language": "python",
     "metadata": {},
     "outputs": [
      {
       "metadata": {},
       "output_type": "pyout",
       "prompt_number": 162,
       "text": [
        "(20, 5)"
       ]
      }
     ],
     "prompt_number": 162
    },
    {
     "cell_type": "markdown",
     "metadata": {},
     "source": [
      "\u4e5f\u5c31\u662f\u8bf4\uff0c\u662f\u706b\u661f\u5386\u6cd5\u4e2d\u7684\u7b2c 20 \u4e2a\u6708\u7684 5 \u65e5\uff0c\u5373\u5c0f\u5bd2\u6708 5 \u65e5\u3002"
     ]
    },
    {
     "cell_type": "markdown",
     "metadata": {},
     "source": [
      "\u8fd9\u6837\u6211\u4eec\u4e5f\u53ef\u4ee5\u5f97\u77e5\u706b\u661f\u5143\u5e74\u5bf9\u5e94\u7684\u5730\u7403\u5386\u7684\u65e5\u671f\u548c\u65f6\u95f4\u3002\u4e0a\u9762\u6211\u4eec\u7684\u8ba1\u7b97\u4e2d\uff0c\u6211\u4eec\u5f97\u77e5"
     ]
    },
    {
     "cell_type": "code",
     "collapsed": false,
     "input": [
      "Image(url=\"https://raw.githubusercontent.com/InterImm/marsCalendar/master/py/assets/timeCalibration.png\")"
     ],
     "language": "python",
     "metadata": {},
     "outputs": [
      {
       "html": [
        "<img src=\"https://raw.githubusercontent.com/InterImm/marsCalendar/master/py/assets/timeCalibration.png\"/>"
       ],
       "metadata": {},
       "output_type": "pyout",
       "prompt_number": 163,
       "text": [
        "<IPython.core.display.Image at 0x109e75a90>"
       ]
      }
     ],
     "prompt_number": 163
    },
    {
     "cell_type": "markdown",
     "metadata": {},
     "source": [
      "\u7531\u4e8e\u6211\u4eec\u7684\u8ba1\u7b97\u4e2d\uff0c\u53ea\u8003\u8651\u4e86 mars_sol_day_coor = 10555.0 \u4e2a\u706b\u661f\u65e5\uff0c\u6240\u4ee5\u6211\u4eec\u73b0\u5728\u6362\u7b97\u56de\u5730\u7403\u65e5\uff0c\u5e76\u4e14\u4ece\u5730\u7403\u65e5\u5386\u7684 2000-01-06 \uff08\u5305\u542b\uff09\u53cd\u63a8\u56de\u5730\u7403\u65e5\u5386\u4e2d\u6240\u5bf9\u5e94\u7684\u65e5\u671f\u548c\u65f6\u95f4\u3002\n",
      "\u8fd9\u4e9b\u706b\u661f\u65e5\u5bf9\u5e94\u7684\u5730\u7403\u65e5\u7684\u6570\u76ee"
     ]
    },
    {
     "cell_type": "code",
     "collapsed": false,
     "input": [
      "earth_day_coor = mars_sol_day_coor * m2e\n",
      "print earth_day_coor"
     ],
     "language": "python",
     "metadata": {},
     "outputs": [
      {
       "output_type": "stream",
       "stream": "stdout",
       "text": [
        "10845.1403356\n"
       ]
      }
     ],
     "prompt_number": 164
    },
    {
     "cell_type": "markdown",
     "metadata": {},
     "source": [
      "\u7b80\u5355\u7684\u6570\u5b66\u53ef\u4ee5\u5f97\u77e5\u5143\u5e74\u5bf9\u5e94\u7684\u5730\u7403\u65e5\u5386\u662f\n",
      "\n",
      "1970 \u5e74 04 \u6708 28 \u65e5\uff0c21:17:30   ## \u7b2c\u4e00\u7248\u7684\u8ba1\u7b97\u7ed3\u679c\u662f 1970.0,4.0,28.0,20.0 + 38.0/60 + 55.0/3600 \u4e3a\u4e86\u4e0e\u540e\u9762 2000 - 01 - 06 \u5348\u591c\u7684\u534f\u8c03\uff0c\u653e\u5f03\u6b64\u7248\u672c\u3002"
     ]
    },
    {
     "cell_type": "markdown",
     "metadata": {},
     "source": [
      "## \u5386\u6cd5\u6362\u7b97"
     ]
    },
    {
     "cell_type": "markdown",
     "metadata": {},
     "source": [
      "\u5386\u6cd5\u6362\u7b97\u6709\u4e00\u4e2a\u6bd4\u8f83\u91cd\u8981\u7684\u8f6c\u6298\u70b9\uff0c\u5c31\u662f 2012 \u5e74 07 \u6708 01 \u65e5\uff0c\u56e0\u4e3a\u8fd9\u4e00\u5929\u589e\u52a0\u4e86 35 + 32.184 \u79d2\u7684\u95f0\u79d2\u3002\u56e0\u6b64\u7a0b\u5e8f\u8ba1\u7b97\u9700\u8981\u4e00\u4e2a\u5224\u65ad\u7ed9\u5b9a\u7684\u5730\u7403\u5386\u6cd5\u662f\u5426\u5927\u4e8e\u6b64\u65e5\u671f\u7684\u51fd\u6570\u3002\n",
      "\n",
      "\u4e3a\u4e86\u6362\u7b97\u65b9\u4fbf\uff0c\u6211\u4eec\u628a\u6240\u6709\u7ed9\u5b9a\u7684\u65e5\u671f\u90fd\u6362\u7b97\u6210 Julian Date. "
     ]
    },
    {
     "cell_type": "code",
     "collapsed": false,
     "input": [
      "def julian_days(cdate):     # Input is calendar date with the list format [year like 2014, month like 07, day like 24, hours like 12, min]\n",
      "    y = cdate[0]\n",
      "    m = cdate[1]\n",
      "    d = cdate[2]\n",
      "    h = cdate[3] + cdate[4]/60.0\n",
      "    \n",
      "    return 367.0 * y - math.floor(7.0 * ( y * 1.0 + math.floor( ( m*1.0 + 9.0 )/12.0 ) )/4.0 ) - math.floor(3.0*(math.floor( (y*1.0 + (m*1.0 - 9.0)/7.0 )/100.0 ) + 1.0 )/4.0 ) + math.floor( 275.0 * m / 9.0 ) + d*1.0 + 1721028.5 + h / 24.0                  ## Using an equation from http://scienceworld.wolfram.com/astronomy/JulianDate.html       "
     ],
     "language": "python",
     "metadata": {},
     "outputs": [],
     "prompt_number": 165
    },
    {
     "cell_type": "markdown",
     "metadata": {},
     "source": [
      "\u4f5c\u4e3a\u6d4b\u8bd5\uff0c\u6211\u4eec\u77e5\u9053 UNIX \u7cfb\u7edf\u91cc\u9762\u4f7f\u7528\u7684\uff0c1970-01-01\uff0c00:00:00 \u7684\u65f6\u523b\u5bf9\u5e94\u7684\u65f6\u95f4\u662f 2 440 587.5 \u4e2a julian days\uff0c\u7528\u6211\u4eec\u8fd9\u4e2a\u51fd\u6570\u7ed9\u51fa\u6765\u7684\u7ed3\u679c\u5462\uff1f"
     ]
    },
    {
     "cell_type": "code",
     "collapsed": false,
     "input": [
      "julian_days([1970,01,01,0,0])"
     ],
     "language": "python",
     "metadata": {},
     "outputs": [
      {
       "metadata": {},
       "output_type": "pyout",
       "prompt_number": 166,
       "text": [
        "2440587.5"
       ]
      }
     ],
     "prompt_number": 166
    },
    {
     "cell_type": "markdown",
     "metadata": {},
     "source": [
      "\u4e0e\u5df2\u77e5\u7ed3\u679c\u662f\u4e00\u81f4\u7684\u3002\u9700\u8981\u5f3a\u8c03\u7684\u662f\uff0c\u8fd9\u4e2a\u8ba1\u7b97\u5728\u4f7f\u7528\u7684\u65f6\u5019\uff0c\u9700\u8981\u5148\u628a\u5206\u949f\u548c\u79d2\u6362\u7b97\u6210\u5c0f\u6570\u70b9\u7684\u5c0f\u65f6\u6570\u76ee\u3002\n",
      "\n",
      "\u56e0\u6b64\u5728\u9700\u8981\u8ba1\u7b97\u65e5\u671f\u4e4b\u95f4\u7684\u5929\u6570\u5dee\u7684\u8bdd\uff0c\u53ea\u9700\u8981\u4f7f\u7528\u6b64\u51fd\u6570\u8f6c\u6362\u6210 julian days\uff0c\u7136\u540e\u8ba1\u7b97\u5dee\u503c\u5373\u53ef\u3002\u4e00\u4e2a\u6bd4\u8f83\u65b9\u4fbf\u7684\u6362\u7b97\u662f\uff0c\u8ba1\u7b97\u51fa\u706b\u661f\u5143\u5e74\u5bf9\u5e94\u7684 julian days\uff0c\u7136\u540e\u4ee5\u540e\u7684\u6362\u7b97\u5c31\u901a\u8fc7\u5c06\u5730\u7403\u5386\u8ddf\u706b\u661f\u5143\u5e74\u7684\u5730\u7403\u7684\u5929\u6570\uff0c\u7136\u540e\u6362\u7b97\u6210\u706b\u661f\u65e5\u7684\u6570\u76ee\uff0c\u7136\u540e\u5229\u7528\u4e0a\u9762\u8ba1\u7b97\u706b\u661f\u5386\u7684\u65b9\u6cd5\uff0c\u83b7\u5f97\u706b\u661f\u4e0a\u7684\u65e5\u671f\u3002"
     ]
    },
    {
     "cell_type": "markdown",
     "metadata": {},
     "source": [
      "\u706b\u661f\u5143\u5e74\uff081970 \u5e74 04 \u6708 28 \u65e5\uff0c20:38:55\uff09\u5bf9\u5e94\u7684\u5730\u7403\u5386\u6cd5\u4e2d\u7684 julian days \u662f"
     ]
    },
    {
     "cell_type": "code",
     "collapsed": false,
     "input": [
      "julian_coor_earth = julian_days([1970.0,4.0,28.0,21.0,17.0 + 30.0/60])  # 1970.0,4.0,28.0,20.0 + 38.0/60 + 55.0/3600\n",
      "print julian_coor_earth"
     ],
     "language": "python",
     "metadata": {},
     "outputs": [
      {
       "output_type": "stream",
       "stream": "stdout",
       "text": [
        "2440705.38715\n"
       ]
      }
     ],
     "prompt_number": 167
    },
    {
     "cell_type": "markdown",
     "metadata": {},
     "source": [
      "\u56e0\u6b64\u6211\u4eec\u53ef\u4ee5\u5b9a\u4e49\u8fd9\u6837\u4e00\u4e2a\u51fd\u6570\uff0c\u6765\u8ba1\u7b97\u5730\u7403\u65e5\u7684\u6570\u76ee"
     ]
    },
    {
     "cell_type": "code",
     "collapsed": false,
     "input": [
      "def julian_diff(datelist):\n",
      "    return julian_days(datelist) - julian_coor_earth"
     ],
     "language": "python",
     "metadata": {},
     "outputs": [],
     "prompt_number": 168
    },
    {
     "cell_type": "code",
     "collapsed": false,
     "input": [
      "julian_diff([1970.0,4.0,28.0,21,17])"
     ],
     "language": "python",
     "metadata": {},
     "outputs": [
      {
       "metadata": {},
       "output_type": "pyout",
       "prompt_number": 169,
       "text": [
        "-0.000347222201526165"
       ]
      }
     ],
     "prompt_number": 169
    },
    {
     "cell_type": "markdown",
     "metadata": {},
     "source": [
      "\u540c\u6837\u6211\u4eec\u53ef\u4ee5\u5b9a\u4e49\u6362\u7b97\u51fa\u706b\u661f\u65e5\u6570\u76ee\u7684\u51fd\u6570"
     ]
    },
    {
     "cell_type": "code",
     "collapsed": false,
     "input": [
      "def mars_days_origin(datelist):\n",
      "    return math.floor(julian_diff(datelist)/m2e)"
     ],
     "language": "python",
     "metadata": {},
     "outputs": [],
     "prompt_number": 170
    },
    {
     "cell_type": "markdown",
     "metadata": {},
     "source": [
      "\u6d4b\u8bd5\u6b64\u51fd\u6570"
     ]
    },
    {
     "cell_type": "code",
     "collapsed": false,
     "input": [
      "mars_days_origin([1970.0,4.0,28.0,21,17])"
     ],
     "language": "python",
     "metadata": {},
     "outputs": [
      {
       "metadata": {},
       "output_type": "pyout",
       "prompt_number": 171,
       "text": [
        "-1.0"
       ]
      }
     ],
     "prompt_number": 171
    },
    {
     "cell_type": "markdown",
     "metadata": {},
     "source": [
      "\u5982\u679c\u8981\u8ba1\u7b97\u5f53\u65e5\u7684\u65f6\u95f4\uff0c\u9700\u8981\u7528\u5230\u88ab floor \u6389\u7684\u5c0f\u6570\u90e8\u5206\u3002"
     ]
    },
    {
     "cell_type": "code",
     "collapsed": false,
     "input": [
      "def mars_days_origin_rem(datelist):\n",
      "    return julian_diff(datelist)/m2e - math.floor(julian_diff(datelist)/m2e)"
     ],
     "language": "python",
     "metadata": {},
     "outputs": [],
     "prompt_number": 172
    },
    {
     "cell_type": "markdown",
     "metadata": {},
     "source": [
      "\u7136\u540e\u6211\u4eec\u53ef\u4ee5\u5229\u7528 calendar_date() \u51fd\u6570\u7ed9\u51fa\u5bf9\u5e94\u7684\u706b\u661f\u5386\u7684\u65e5\u671f\u3002"
     ]
    },
    {
     "cell_type": "code",
     "collapsed": false,
     "input": [
      "def earth2mars_calendar(datelist):\n",
      "    year = 1\n",
      "    md = mars_days_origin(datelist)\n",
      "    while (md > (668.0 + is_leap_year_mars(year) ) ):\n",
      "        year = year + 1\n",
      "        md = md - 668 - is_leap_year_mars(year)\n",
      "    return [year,calendar_date(md+1,year-1)]"
     ],
     "language": "python",
     "metadata": {},
     "outputs": [],
     "prompt_number": 173
    },
    {
     "cell_type": "code",
     "collapsed": false,
     "input": [
      "earth2mars_calendar([1970,4,29,20,0])"
     ],
     "language": "python",
     "metadata": {},
     "outputs": [
      {
       "metadata": {},
       "output_type": "pyout",
       "prompt_number": 174,
       "text": [
        "[1, (1, 1)]"
       ]
      }
     ],
     "prompt_number": 174
    },
    {
     "cell_type": "code",
     "collapsed": false,
     "input": [
      "earth2mars_calendar([1971,4,30,23,23])"
     ],
     "language": "python",
     "metadata": {},
     "outputs": [
      {
       "metadata": {},
       "output_type": "pyout",
       "prompt_number": 175,
       "text": [
        "[1, (13, 24)]"
       ]
      }
     ],
     "prompt_number": 175
    },
    {
     "cell_type": "markdown",
     "metadata": {},
     "source": [
      "\u90a3\u4e48\u8fd9\u4e2a\u51fd\u6570\u7ed9\u51fa\u7684\u5730\u7403\u4e0a 2000 \u5e74 01 \u6708 06 \u65e5\u5348\u591c\u5fc5\u987b\u662f\u706b\u661f\u5386\u7684 0016 \u5e74\u5c0f\u5bd2\u6708 05 \u65e5\u3002\u4e0b\u9762\u662f\u6d4b\u8bd5"
     ]
    },
    {
     "cell_type": "code",
     "collapsed": false,
     "input": [
      "earth2mars_calendar([2000,1,6,0,0])"
     ],
     "language": "python",
     "metadata": {},
     "outputs": [
      {
       "metadata": {},
       "output_type": "pyout",
       "prompt_number": 176,
       "text": [
        "[16, (20, 4)]"
       ]
      }
     ],
     "prompt_number": 176
    },
    {
     "cell_type": "markdown",
     "metadata": {},
     "source": [
      "### \u706b\u661f\u65f6\u523b"
     ]
    },
    {
     "cell_type": "markdown",
     "metadata": {},
     "source": [
      "\u706b\u661f\u4e0a\u91c7\u7528\u7684\u8ba1\u65f6\u65b9\u6cd5\u662f 24 \u5c0f\u65f6\u5916\u52a0\u9644\u52a0\u65f6\u95f4\u3002\u706b\u661f\u4e0a\u4e00\u4e2a\u592a\u9633\u65e5\u662f  24 hours, 39 minutes, and 35.244 seconds\uff0c\u5176\u4e2d\u7684 39'35.244'' \u88ab\u5f52\u4e3a\u9644\u52a0\u65f6\u95f4\u3002\n",
      "\n",
      "\u5c06\u5c0f\u6570\u70b9\u7684\u65f6\u95f4\u6362\u7b97\u4e3a\u65f6\u523b\u9700\u8981\u5f97\u77e5\u4e00\u5929\u5171\u6709\u591a\u5c11\u79d2\uff1a"
     ]
    },
    {
     "cell_type": "code",
     "collapsed": false,
     "input": [
      "24 * 3600 + 39 * 60 + 35.244"
     ],
     "language": "python",
     "metadata": {},
     "outputs": [
      {
       "metadata": {},
       "output_type": "pyout",
       "prompt_number": 177,
       "text": [
        "88775.244"
       ]
      }
     ],
     "prompt_number": 177
    },
    {
     "cell_type": "code",
     "collapsed": false,
     "input": [
      "def mday2time(remainder):                         # input a number smaller than 1.\n",
      "    if remainder > 1:\n",
      "        return \"Input should a fraction of a martian day, i.e., a number smaller than 1.\"\n",
      "    else:\n",
      "        total_sec = 24.0 * 3600 + 39.0 * 60 + 35.244  # total seconds in a martian day\n",
      "        seconds = remainder * total_sec                   # total seconds of the given input\n",
      "        hour = int(math.floor(seconds / 3600.0))               # hour\n",
      "        min = int(math.floor( (seconds - 3600.0 * hour)/60 ) )  # min\n",
      "        sec = int(seconds - hour * 3600.0 - min * 60.0)\n",
      "        \n",
      "        return [hour, min, sec]"
     ],
     "language": "python",
     "metadata": {},
     "outputs": [],
     "prompt_number": 178
    },
    {
     "cell_type": "code",
     "collapsed": false,
     "input": [
      "mday2time(0.3)"
     ],
     "language": "python",
     "metadata": {},
     "outputs": [
      {
       "metadata": {},
       "output_type": "pyout",
       "prompt_number": 179,
       "text": [
        "[7, 23, 52]"
       ]
      }
     ],
     "prompt_number": 179
    },
    {
     "cell_type": "markdown",
     "metadata": {},
     "source": [
      "\u5229\u7528 mars_days_origin_rem() \u51fd\u6570\u53ef\u4ee5\u8ba1\u7b97\u5730\u7403 UTC \u65e5\u671f\u5bf9\u5e94\u7684\u706b\u661f\u96f6\u5ea6\u7ecf\u7ebf\u5f53\u5929\u7684\u706b\u661f\u65f6\u95f4\u3002"
     ]
    },
    {
     "cell_type": "code",
     "collapsed": false,
     "input": [
      "def earth2mars_calendar_time(datelist):\n",
      "    return mday2time(mars_days_origin_rem(datelist))"
     ],
     "language": "python",
     "metadata": {},
     "outputs": [],
     "prompt_number": 180
    },
    {
     "cell_type": "code",
     "collapsed": false,
     "input": [
      "earth2mars_calendar_time([1971,4,30,23,59])"
     ],
     "language": "python",
     "metadata": {},
     "outputs": [
      {
       "metadata": {},
       "output_type": "pyout",
       "prompt_number": 181,
       "text": [
        "[7, 10, 15]"
       ]
      }
     ],
     "prompt_number": 181
    },
    {
     "cell_type": "code",
     "collapsed": false,
     "input": [
      "earth2mars_calendar_time([2000,1,6,0,0])"
     ],
     "language": "python",
     "metadata": {},
     "outputs": [
      {
       "metadata": {},
       "output_type": "pyout",
       "prompt_number": 182,
       "text": [
        "[24, 39, 35]"
       ]
      }
     ],
     "prompt_number": 182
    },
    {
     "cell_type": "code",
     "collapsed": false,
     "input": [
      "mars_days_origin_rem([2000,1,6,0,0])"
     ],
     "language": "python",
     "metadata": {},
     "outputs": [
      {
       "metadata": {},
       "output_type": "pyout",
       "prompt_number": 183,
       "text": [
        "0.9999999997999112"
       ]
      }
     ],
     "prompt_number": 183
    },
    {
     "cell_type": "code",
     "collapsed": false,
     "input": [
      "10846/m2e"
     ],
     "language": "python",
     "metadata": {},
     "outputs": [
      {
       "metadata": {},
       "output_type": "pyout",
       "prompt_number": 184,
       "text": [
        "10555.836665727966"
       ]
      }
     ],
     "prompt_number": 184
    },
    {
     "cell_type": "code",
     "collapsed": false,
     "input": [
      "earth2mars_calendar_time([1970.0,4.0,28.0,20,55])"
     ],
     "language": "python",
     "metadata": {},
     "outputs": [
      {
       "metadata": {},
       "output_type": "pyout",
       "prompt_number": 185,
       "text": [
        "[24, 17, 5]"
       ]
      }
     ],
     "prompt_number": 185
    },
    {
     "cell_type": "code",
     "collapsed": false,
     "input": [
      "month_name = ('\u6625\u5206','\u6e05\u660e','\u8c37\u96e8','\u7acb\u590f','\u5c0f\u6ee1','\u8292\u79cd','\u590f\u81f3','\u5c0f\u6691','\u5927\u6691','\u7acb\u79cb','\u5904\u6691','\u767d\u9732','\u79cb\u5206','\u5bd2\u9732','\u971c\u964d','\u7acb\u51ac','\u5c0f\u96ea','\u5927\u96ea','\u51ac\u81f3','\u5c0f\u5bd2','\u5927\u5bd2','\u7acb\u6625','\u96e8\u6c34','\u60ca\u86f0')\n",
      "week_name = ('\u516d','\u65e5','\u4e00','\u4e8c','\u4e09','\u56db','\u4e94')\n",
      "def chinese_character(mars_calendar,mars_time):\n",
      "    calendar_str = \"\u706b\u5386\"+str(mars_calendar[0])+\"\u5e74 \"+str(month_name[mars_calendar[1][0]-1])+\"\u6708\"+str(int(mars_calendar[1][1]))+\"\u65e5\"+\"\u661f\u671f\"+str(week_name[int(mars_calendar[1][1])%7])\n",
      "    if mars_time[0] < 24.0:\n",
      "        if mars_time[2] < 10:\n",
      "            return calendar_str+\" \"+str(int(mars_time[0]))+\":\"+str(int(mars_time[1]))+\":0\"+str(int(mars_time[2]))\n",
      "        else:\n",
      "            return calendar_str+\" \"+str(int(mars_time[0]))+\":\"+str(int(mars_time[1]))+\":\"+str(int(mars_time[2]))\n",
      "    else:\n",
      "        if mars_time[2] < 10:\n",
      "            return calendar_str+\" +\"+str(int(mars_time[1]))+\":0\"+str(int(mars_time[2]))\n",
      "        else:\n",
      "            return calendar_str+\" +\"+str(int(mars_time[1]))+\":\"+str(int(mars_time[2]))"
     ],
     "language": "python",
     "metadata": {},
     "outputs": [],
     "prompt_number": 186
    },
    {
     "cell_type": "code",
     "collapsed": false,
     "input": [
      "print chinese_character([16, (20, 4.0)],[24.0, 17.0, 5.240289495923207])"
     ],
     "language": "python",
     "metadata": {},
     "outputs": [
      {
       "output_type": "stream",
       "stream": "stdout",
       "text": [
        "\u706b\u538616\u5e74 \u5c0f\u5bd2\u67084\u65e5\u661f\u671f\u4e09 +17:05\n"
       ]
      }
     ],
     "prompt_number": 187
    },
    {
     "cell_type": "code",
     "collapsed": false,
     "input": [
      "print chinese_character([1, (1, 1.0)],[7.0, 10.0, 15.070938780310826])"
     ],
     "language": "python",
     "metadata": {},
     "outputs": [
      {
       "output_type": "stream",
       "stream": "stdout",
       "text": [
        "\u706b\u53861\u5e74 \u6625\u5206\u67081\u65e5\u661f\u671f\u65e5 7:10:15\n"
       ]
      }
     ],
     "prompt_number": 188
    },
    {
     "cell_type": "code",
     "collapsed": false,
     "input": [
      "print chinese_character(earth2mars_calendar([2014,10,13,23,52]),earth2mars_calendar_time([2014,10,13,23,52]))"
     ],
     "language": "python",
     "metadata": {},
     "outputs": [
      {
       "output_type": "stream",
       "stream": "stdout",
       "text": [
        "\u706b\u538624\u5e74 \u7acb\u51ac\u670821\u65e5\u661f\u671f\u516d 16:19:30\n"
       ]
      }
     ],
     "prompt_number": 189
    },
    {
     "cell_type": "markdown",
     "metadata": {},
     "source": [
      "## \u6d4b\u8bd5"
     ]
    },
    {
     "cell_type": "markdown",
     "metadata": {},
     "source": [
      "\u6d4b\u8bd5\u65f6\u523b\u7684\u8f93\u51fa\u3002"
     ]
    },
    {
     "cell_type": "code",
     "collapsed": false,
     "input": [
      "earth2mars_calendar_time([2014,10,13,21,1])"
     ],
     "language": "python",
     "metadata": {},
     "outputs": [
      {
       "metadata": {},
       "output_type": "pyout",
       "prompt_number": 204,
       "text": [
        "[13, 28, 30]"
       ]
      }
     ],
     "prompt_number": 204
    },
    {
     "cell_type": "markdown",
     "metadata": {},
     "source": [
      "\u7531 Mars24 \u7ed9\u51fa\u7684 AMT \u662f 12:46\uff0c\u6362\u7b97\u6210\u6211\u4eec\u7684\u8ba1\u65f6\u65b9\u6cd5\u662f"
     ]
    },
    {
     "cell_type": "code",
     "collapsed": false,
     "input": [
      "test11 = (12.0 + 46.0/60)/24 * (24.0*m2e)\n",
      "print str(test11) + \"h\" + \"=\" + str(int(math.floor(test11))) + \":\" + str(int((test11 - math.floor(test11))*60))"
     ],
     "language": "python",
     "metadata": {},
     "outputs": [
      {
       "output_type": "stream",
       "stream": "stdout",
       "text": [
        "13.1176022377h=13:7\n"
       ]
      }
     ],
     "prompt_number": 205
    },
    {
     "cell_type": "markdown",
     "metadata": {},
     "source": [
      "\u8fd9\u6837\u770b\u6765\u76f8\u5dee\u4e86\u5927\u7ea6 21 \u5206\u949f\u7684\u65f6\u95f4\u3002"
     ]
    },
    {
     "cell_type": "code",
     "collapsed": false,
     "input": [],
     "language": "python",
     "metadata": {},
     "outputs": []
    }
   ],
   "metadata": {}
  }
 ]
}