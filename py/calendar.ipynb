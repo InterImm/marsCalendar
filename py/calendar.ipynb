{
 "metadata": {
  "name": ""
 },
 "nbformat": 3,
 "nbformat_minor": 0,
 "worksheets": [
  {
   "cells": [
    {
     "cell_type": "markdown",
     "metadata": {},
     "source": [
      "\u8fd9\u662f\u4e00\u4e2a\u7528\u6765\u8bf4\u660e\u706b\u661f\u5386\u6cd5\u548c\u5730\u7403\u5386\u6cd5\u6362\u7b97\u65b9\u6cd5\u7684\u6587\u6863\u3002\n",
      "\n",
      "\u706b\u661f\u5386\u6cd5\u7684\u8bf4\u660e\uff1a[\u706b\u661f\u5386\u6cd5@\u661f\u9645\u79fb\u6c11\u4e4b\u4e66](http://interimm.org/InterImmBook/mars/calendar.html)\n",
      "\n",
      "\u706b\u661f\u548c\u5730\u7403\u4e4b\u95f4\uff0c\u4e00\u4e2a\u975e\u5e38\u6700\u8981\u7684\u8054\u7cfb\u662f\u5730\u7403\u4e0a UTC \u65f6\u95f4\u7684 2000 \u5e74 01 \u6708 06 \u65e5\uff0c\u8fd9\u4e00\u5929\u7684\u5348\u591c\u6b63\u597d\u662f\u706b\u661f\u4e0a\u96f6\u5ea6\u7ecf\u7ebf\u7684\u5348\u591c\u3002\u56e0\u6b64\uff0c\u4e00\u4e2a\u6bd4\u8f83\u597d\u7684\u7b97\u6cd5\u662f\uff0c\u4ee5\u8fd9\u4e00\u5929\u4e3a\u57fa\u51c6\u3002\n",
      "\n",
      "\u6700\u7ec8\u8981\u8fbe\u6210\u7684\u76ee\u7684\u662f\uff0c\u7ed9\u5b9a\u4e00\u4e2a\u5730\u7403\u4e0a\u7684 UTC \u65e5\u671f\u548c\u65f6\u95f4\uff0c\u6211\u4eec\u80fd\u591f\u6362\u7b97\u5230\u706b\u661f\u7684\u96f6\u5ea6\u7ecf\u7ebf\u7684\u65e5\u671f\u548c\u65f6\u95f4\u3002"
     ]
    },
    {
     "cell_type": "markdown",
     "metadata": {},
     "source": [
      "## Prep"
     ]
    },
    {
     "cell_type": "code",
     "collapsed": false,
     "input": [
      "import math"
     ],
     "language": "python",
     "metadata": {},
     "outputs": [],
     "prompt_number": 86
    },
    {
     "cell_type": "markdown",
     "metadata": {},
     "source": [
      "## \u706b\u661f\u5386\u6cd5"
     ]
    },
    {
     "cell_type": "markdown",
     "metadata": {},
     "source": [
      "### \u706b\u661f\u95f0\u5e74"
     ]
    },
    {
     "cell_type": "markdown",
     "metadata": {},
     "source": [
      "\u706b\u661f\u7684\u5386\u6cd5\u91c7\u7528 Darian Calendar\uff0c\u8fd9\u79cd\u5386\u6cd5\u4e2d\uff0c\u5e74\u5206\u4e3a\u5e73\u5e74\u548c\u95f0\u5e74\uff0c\u5176\u4e2d\u5e73\u5e74 668 \u5929\uff0c\u95f0\u5e74 669 \u5929\u3002\u8ba1\u7b97\u95f0\u5e74\u7684\u65b9\u6cd5\u4e3a"
     ]
    },
    {
     "cell_type": "code",
     "collapsed": false,
     "input": [
      "# will return True if a year is a leap year on Mars\n",
      "def is_leap_year_mars(year):\n",
      "    if year % 3000 == 0:\n",
      "        return False\n",
      "    elif year % 1000 == 0:\n",
      "        return True\n",
      "    elif year % 100 == 0:\n",
      "        return False\n",
      "    elif (year % 2 == 0) and (year % 10 == 0):\n",
      "        return True\n",
      "    else:\n",
      "        return False"
     ],
     "language": "python",
     "metadata": {},
     "outputs": [],
     "prompt_number": 5
    },
    {
     "cell_type": "markdown",
     "metadata": {},
     "source": [
      "\u6240\u4ee5\uff0c\u4e00\u5e74\u7684\u603b\u5929\u6570\uff0c\u6211\u4eec\u53ef\u4ee5\u8fd9\u6837\u8868\u793a"
     ]
    },
    {
     "cell_type": "code",
     "collapsed": false,
     "input": [
      "def total_days(year):\n",
      "    return 668 + is_leap_year_mars(year)"
     ],
     "language": "python",
     "metadata": {},
     "outputs": [],
     "prompt_number": 6
    },
    {
     "cell_type": "markdown",
     "metadata": {},
     "source": [
      "\u6d4b\u8bd5\u4e00\u4e0b\u8fd9\u4e24\u4e2a\u51fd\u6570\u3002"
     ]
    },
    {
     "cell_type": "code",
     "collapsed": false,
     "input": [
      "print total_days(10)\n",
      "print total_days(11)"
     ],
     "language": "python",
     "metadata": {},
     "outputs": [
      {
       "output_type": "stream",
       "stream": "stdout",
       "text": [
        "669\n",
        "668\n"
       ]
      }
     ],
     "prompt_number": 9
    },
    {
     "cell_type": "markdown",
     "metadata": {},
     "source": [
      "### \u706b\u661f\u6708\u65e5\u7684\u8ba1\u7b97"
     ]
    },
    {
     "cell_type": "markdown",
     "metadata": {},
     "source": [
      "\u706b\u661f\u4e0a\u4e00\u5e74\u5171\u5206\u4e3a 24 \u4e2a\u6708\uff0c6 \u4e2a\u6708\u4e00\u7ec4\u5206\u4e3a\u56db\u7ec4\uff0c\u6bcf\u7ec4\u7684\u524d\u4e94\u4e2a\u6708\u662f 28 \u5929\uff0c\u7b2c\u516d\u4e2a\u6708\u662f 27 \u5929\uff0c\u4f46\u662f\u5018\u82e5\u5f53\u5e74\u662f\u95f0\u5e74\uff0c\u5219\u7b2c 24 \u4e2a\u6708\u5305\u542b 28 \u5929\u3002\u56e0\u6b64\u5982\u679c\u7ed9\u5b9a\u4e00\u4e2a\u5c0f\u4e8e\u5f53\u5e74\u5e74\u4efd\u603b\u5929\u6570\u7684\u5929\u6570\uff0c\u6211\u4eec\u53ef\u4ee5\u8ba1\u7b97\u5bf9\u5e94\u7684\u662f\u5f53\u5e74\u7684\u54ea\u4e2a\u65e5\u671f\u3002"
     ]
    },
    {
     "cell_type": "code",
     "collapsed": false,
     "input": [
      "# returns the month and date given a number of dates.\n",
      "# calendar_date(a number of days, which year we are calculating)\n",
      "def calendar_date(days, year):\n",
      "    if days > total_days(year):\n",
      "        return \"Error! Given number of days are more than the overall possible days of the year.\"\n",
      "    else:\n",
      "        for month in range(25):\n",
      "            month = month + 1\n",
      "            days = days - 27 - (month%6!=0)\n",
      "            if month == 24:                                       # the last month is special because it might change with year\n",
      "                return tuple([month+1,days])                      # using tuple to avoid modification\n",
      "            elif (month < 24) & (days < (27 + 1 + (month%6!=0))):   # the condition for days makes sure that days is never larger than days in that month\n",
      "                return tuple([month+1,days])\n",
      "                break\n",
      "            elif (month < 24) & (days > (27 + (month%6!=0))):\n",
      "                continue\n",
      "            else:\n",
      "                return \"Unhandled in calendar_date(days, year) function! (inner for loop) \"\n",
      "                break"
     ],
     "language": "python",
     "metadata": {},
     "outputs": [],
     "prompt_number": 64
    },
    {
     "cell_type": "markdown",
     "metadata": {},
     "source": [
      "\u6d4b\u8bd5\u6b64\u51fd\u6570"
     ]
    },
    {
     "cell_type": "code",
     "collapsed": false,
     "input": [
      "print \"the 669th day of the tenth year is (month:{}, day:{})\".format(calendar_date(669,10)[0],calendar_date(669,10)[1])\n",
      "print \"the 669th day of year one is (month:{}, day:{})\".format(calendar_date(669,1)[0],calendar_date(669,1)[1]) # should return error message\n",
      "print \"the 1000th day of year one is (month:{}, day:{})\".format(calendar_date(1000,1)[0],calendar_date(1000,1)[1]) # should return error message\n",
      "print \"the 30th day of year one is (month:{}, day:{})\".format(calendar_date(30,1)[0],calendar_date(30,1)[1])"
     ],
     "language": "python",
     "metadata": {},
     "outputs": [
      {
       "output_type": "stream",
       "stream": "stdout",
       "text": [
        "the 669th day of the tenth year is (month:24, day:28)\n",
        "the 669th day of year one is (month:E, day:r)\n",
        "the 1000th day of year one is (month:E, day:r)\n",
        "the 30th day of year one is (month:2, day:2)\n"
       ]
      }
     ],
     "prompt_number": 79
    },
    {
     "cell_type": "markdown",
     "metadata": {},
     "source": [
      "\u53ef\u4ee5\u770b\u5230\u51fd\u6570\u6b63\u786e\u7684\u8fd4\u56de\u4e86\u6708\u65e5\u4ee5\u53ca\u9519\u8bef\u4fe1\u606f\u3002"
     ]
    },
    {
     "cell_type": "markdown",
     "metadata": {},
     "source": [
      "### \u706b\u661f\u65e5"
     ]
    },
    {
     "cell_type": "markdown",
     "metadata": {},
     "source": [
      "\u706b\u661f\u4e0a\u7684\u4e00\u5929\uff0c\u6216\u8005\u8bf4\u79f0\u4e3a\u4e00\u4e2a\u706b\u661f\u592a\u9633\u65e5\uff0c\u5171\u6709 24 \u5c0f\u65f6 39 \u5206\u949f 35.244 \u79d2\uff0c\u5171\u8ba1 88775.2 \u79d2\uff0c\u4f46\u662f\u5386\u6cd5\u4e2d\u4e3a\u4e86\u5927\u5bb6\u4f7f\u7528\u65b9\u4fbf\uff0c\u4ec5\u4ec5\u4f7f\u7528 88775 \u79d2\u3002\u706b\u661f\u65e5\u548c\u5730\u7403\u4e0a 24 \u5c0f\u65f6\u7684\u6bd4\u503c\u662f 1.02748842593 . \u56e0\u6b64\u6211\u4eec\u53ef\u4ee5\u5b9a\u4e49\u4e00\u4e2a\u5e38\u6570\uff0c\u5373\u7528\u6765\u8f6c\u6362\u5730\u7403\u65e5\u548c\u706b\u661f\u65e5\u7684\u5e38\u6570\uff1a"
     ]
    },
    {
     "cell_type": "code",
     "collapsed": false,
     "input": [
      "m2e = 88775.0/86400  # the ratio of mars sol day and earth 24-hour day\n",
      "print m2e"
     ],
     "language": "python",
     "metadata": {},
     "outputs": [
      {
       "output_type": "stream",
       "stream": "stdout",
       "text": [
        "1.02748842593\n"
       ]
      }
     ],
     "prompt_number": 91
    },
    {
     "cell_type": "code",
     "collapsed": false,
     "input": [],
     "language": "python",
     "metadata": {},
     "outputs": []
    },
    {
     "cell_type": "markdown",
     "metadata": {},
     "source": [
      "### \u706b\u661f\u5143\u5e74\u4e0e\u6821\u51c6\u65e5\u671f"
     ]
    },
    {
     "cell_type": "markdown",
     "metadata": {},
     "source": [
      "\u706b\u661f\u5143\u5e74\u7684\u5f00\u59cb\u5bf9\u5e94\u4e8e\u5730\u7403\u7684 1970 \u5e74 4 \u6708 28 \u65e5\uff0c\u800c**\u6821\u51c6\u65e5\u671f**\u4e3a\u5730\u7403 UTC \u65f6\u95f4\u7684 2000 \u5e74 01 \u6708 06 \u65e5\u5348\u591c\uff0c\u4e5f\u5c31\u662f\u6700\u540e\u53ef\u4ee5\u88ab\u79f0\u4f5c 6 \u65e5\u7684\u90a3\u4e2a\u65f6\u95f4\u70b9\uff0c\u6b64\u65f6\u706b\u661f\u7684\u96f6\u5ea6\u7ecf\u7ebf\u4e5f\u6b63\u597d\u5bf9\u5e94\u67d0\u4e2a\u706b\u661f\u65e5\u7684\u5348\u591c\u3002"
     ]
    },
    {
     "cell_type": "markdown",
     "metadata": {},
     "source": [
      "\u901a\u8fc7\u8ba1\u7b97\u5f97\u77e5\uff0c\u5728\u5730\u7403\u4e0a 1970 \u5e74 04 \u6708 28 \u65e5\u548c 2000 \u5e74 01 \u6708 06 \u65e5\u4e4b\u95f4\u5171\u6709 10846 \u4e2a\u5730\u7403\u65e5\uff0c\u8003\u8651\u5230\u6211\u4eec\u7684\u8ba1\u7b97\u7684\u6821\u51c6\u65f6\u95f4\u662f\u5728 6 \u65e5\u6df1\u591c\uff0c\u6240\u4ee5\u8fd9\u4e2a\u8ba1\u7b97\u4e2d\u5305\u542b\u4e86 6 \u65e5\u5f53\u5929\u3002\u8f6c\u6362\u6210\u706b\u661f\u65e5\uff1a"
     ]
    },
    {
     "cell_type": "code",
     "collapsed": false,
     "input": [
      "mars_sol_day_coor = math.floor(10846/m2e)\n",
      "print mars_sol_day_coor"
     ],
     "language": "python",
     "metadata": {},
     "outputs": [
      {
       "output_type": "stream",
       "stream": "stdout",
       "text": [
        "10555.0\n"
       ]
      }
     ],
     "prompt_number": 87
    },
    {
     "cell_type": "markdown",
     "metadata": {},
     "source": [
      "\u6ce8\u610f\u5230 floor() \u91cc\u9762\u7684\u9664\u6cd5\u4e0d\u80fd\u6574\u9664\uff0c\u662f\u56e0\u4e3a\u706b\u661f\u5143\u5e74\u5e76\u975e\u662f\u4ece 1970 \u5e74 04 \u6708 28 \u65e5\u7684 0 \u70b9\u5f00\u59cb\u7684\uff0c\u6240\u4ee5\u6211\u4eec\u8fd9\u91cc\u6254\u6389\u540e\u9762\u7684\u5c0f\u6570\u4f4d\u3002"
     ]
    },
    {
     "cell_type": "markdown",
     "metadata": {},
     "source": [
      "\u6211\u4eec\u9700\u8981\u8ba1\u7b97\u7684\u662f\uff0c\u6821\u51c6\u65e5\u671f\u5bf9\u5e94\u7684\u662f\u706b\u661f\u5386\u6cd5\u4e2d\u7684\u54ea\u4e2a\u65e5\u671f\u3002\u73b0\u5728\u6211\u4eec\u5df2\u7ecf\u77e5\u9053\u4e86 mars_sol_day_coor \u7ed9\u51fa\u4e86\u5143\u5e74\u5f00\u59cb\u548c\u6821\u51c6\u65e5\u671f\u4e4b\u95f4\u7684\u706b\u661f\u65e5\u7684\u6570\u76ee\u3002\u800c\u8fd9\u4e2a\u6570\u76ee\u6070\u597d\u662f 15 \u5e74\u591a\u4f59 534 \u706b\u661f\u65e5\u3002\uff08\u7b2c 16 \u5e74\u5e76\u975e\u95f0\u5e74\u3002\uff09\u7136\u540e\u6211\u4eec\u53ef\u4ee5\u901a\u8fc7\u4e4b\u524d\u7684\u8ba1\u7b97\u65e5\u671f\u7684\u51fd\u6570\u5f97\u51fa 534 \u706b\u661f\u65e5\u5bf9\u5e94\u7684\u662f\u706b\u661f\u7eaa\u5e74\u7b2c 16 \u5e74\u7684\u4ec0\u4e48\u65e5\u671f\u3002"
     ]
    },
    {
     "cell_type": "code",
     "collapsed": false,
     "input": [
      "calendar_date(534,16)"
     ],
     "language": "python",
     "metadata": {},
     "outputs": [
      {
       "metadata": {},
       "output_type": "pyout",
       "prompt_number": 93,
       "text": [
        "(20, 5)"
       ]
      }
     ],
     "prompt_number": 93
    },
    {
     "cell_type": "markdown",
     "metadata": {},
     "source": [
      "\u4e5f\u5c31\u662f\u8bf4\uff0c\u662f\u706b\u661f\u5386\u6cd5\u4e2d\u7684\u7b2c 20 \u4e2a\u6708\u7684 5 \u65e5\uff0c\u5373\u5c0f\u5bd2\u6708 5 \u65e5\u3002"
     ]
    },
    {
     "cell_type": "markdown",
     "metadata": {},
     "source": [
      "\u8fd9\u6837\u6211\u4eec\u4e5f\u53ef\u4ee5\u5f97\u77e5\u706b\u661f\u5143\u5e74\u5bf9\u5e94\u7684\u5730\u7403\u5386\u7684\u65e5\u671f\u548c\u65f6\u95f4\u3002\u4e0a\u9762\u6211\u4eec\u7684\u8ba1\u7b97\u4e2d\uff0c\u6211\u4eec\u5f97\u77e5"
     ]
    }
   ],
   "metadata": {}
  }
 ]
}